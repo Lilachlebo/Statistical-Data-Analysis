{
 "cells": [
  {
   "cell_type": "markdown",
   "id": "886d7ba8",
   "metadata": {},
   "source": [
    "# Telecom operator Megaline project"
   ]
  },
  {
   "cell_type": "markdown",
   "id": "1b67b320",
   "metadata": {},
   "source": [
    "## Project description:\n",
    "Telecom operator Megaline offers its clients two prepaid plans, Surf and Ultimate. \n",
    "The commercial department wants to know which of the plans brings in more revenue in order to adjust the advertising budget.\n",
    "The purpose of this project is to conduct a preliminary analysis on data concerning these two plans. Database includes 5 datasets regarding: \n",
    "- (1) Users (names, ages, where they are from, what plan are they signed up for, when did they register, are they still registered). \n",
    "- (2)- info about their phone calls (amount, duration and dates, user id). \n",
    "- (3) info about messages (how many, dates, user id).\n",
    "- (4) info about internet use (dates, Volume of data used, user id)\n",
    "- (5) info about what each plan includes.\n",
    "All data was based on a 500 client selection registered through-out 2018.\n",
    "\n",
    "The purpose of this project is to analyze clients' behavior and determine which prepaid plan brings in more revenue."
   ]
  },
  {
   "cell_type": "markdown",
   "id": "2abdf0d4",
   "metadata": {},
   "source": [
    "## Table of Content:\n",
    "- 1  Project description:\n",
    "- 2  Loading Data\n",
    "- 3  Initial exploration of data\n",
    "   - 3.1  Summary-\n",
    "- 4  Data pre-processing\n",
    "   - 4.1  Converting variables to the necessary data types\n",
    "   - 4.2  Find and eliminate errors in the data\n",
    "   - 4.3  Calls-\n",
    "   - 4.4  Internet\n",
    "   - 4.5  Messages:\n",
    "   - 4.6  Plans:\n",
    "   - 4.7  Users:\n",
    "- 5  preparing variables for analysis:\n",
    "   - 5.1  The number of calls made and minutes used per month:\n",
    "   - 5.2  The number of text messages sent per month\n",
    "   - 5.3  The volume of data per month\n",
    "   - 5.4  Merging data-sets:\n",
    "   - 5.5  The monthly revenue from each user\n",
    "- 6  Analyzing data:\n",
    "   - 6.1  Descriptive stat for each plan:\n",
    "   - 6.2  - Surf plan:\n",
    "     - 6.2.1  I. Call duration\n",
    "     - 6.2.2  II. Number of messages:\n",
    "     - 6.2.3  III. Volume of data:\n",
    "   - 6.3  - Ultimate plan\n",
    "     - 6.3.1  I. Call duration\n",
    "     - 6.3.2  II. Number of messages:\n",
    "     - 6.3.3  III. Volume of data:\n",
    "   - 6.4  Summary:\n",
    "- 7  Testing the hypotheses:\n",
    "   - 7.1  1. Comparing average revenue from Surf and Ultimate calling plans:\n",
    "   - 7.2  Conclusions for plan revenue:\n",
    "   - 7.3  2. Comparing average revenue from users in NY-NJ area to other ereas:\n",
    "- 8  General conclusions:"
   ]
  },
  {
   "cell_type": "markdown",
   "id": "2343af09",
   "metadata": {},
   "source": [
    "## Loading Data"
   ]
  },
  {
   "cell_type": "code",
   "execution_count": 1,
   "id": "abc7a4b3",
   "metadata": {},
   "outputs": [],
   "source": [
    "import pandas as pd\n",
    "import numpy as np\n",
    "import matplotlib.pyplot as plt\n",
    "from scipy import stats as st\n",
    "import datetime as dt\n",
    "import seaborn as sns\n",
    "import math \n",
    "from functools import reduce"
   ]
  },
  {
   "cell_type": "code",
   "execution_count": 2,
   "id": "e54ac19a",
   "metadata": {},
   "outputs": [],
   "source": [
    "try:\n",
    "    df_calls = pd.read_csv(r\"C:\\Users\\USER\\OneDrive\\מסמכים\\DATA ANALYST\\Practicum100\\Statistical Data Analysis\\Project 3\\megaline_calls.csv\")\n",
    "    df_internet = pd.read_csv(r\"C:\\Users\\USER\\OneDrive\\מסמכים\\DATA ANALYST\\Practicum100\\Statistical Data Analysis\\Project 3\\megaline_internet.csv\")\n",
    "    df_messages = pd.read_csv(r\"C:\\Users\\USER\\OneDrive\\מסמכים\\DATA ANALYST\\Practicum100\\Statistical Data Analysis\\Project 3\\megaline_messages.csv\")\n",
    "    df_plans = pd.read_csv(r\"C:\\Users\\USER\\OneDrive\\מסמכים\\DATA ANALYST\\Practicum100\\Statistical Data Analysis\\Project 3\\megaline_plans.csv\")\n",
    "    df_users = pd.read_csv(r\"C:\\Users\\USER\\OneDrive\\מסמכים\\DATA ANALYST\\Practicum100\\Statistical Data Analysis\\Project 3\\megaline_users1.csv\")\n",
    "except:\n",
    "    df_calls = pd.read_csv('/datasets/megaline_calls.csv')\n",
    "    df_internet = pd.read_csv('/datasets/megaline_internet.csv')\n",
    "    df_messages = pd.read_csv('/datasets/megaline_messages.csv')\n",
    "    df_plans = pd.read_csv('/datasets/megaline_plans.csv')\n",
    "    df_users = pd.read_csv('/datasets/megaline_users.csv')\n",
    "   \n",
    "    "
   ]
  },
  {
   "cell_type": "markdown",
   "id": "717d9a63",
   "metadata": {},
   "source": [
    "## Initial exploration of data"
   ]
  },
  {
   "cell_type": "code",
   "execution_count": 3,
   "id": "c2e539c4",
   "metadata": {},
   "outputs": [
    {
     "data": {
      "text/html": [
       "<div>\n",
       "<style scoped>\n",
       "    .dataframe tbody tr th:only-of-type {\n",
       "        vertical-align: middle;\n",
       "    }\n",
       "\n",
       "    .dataframe tbody tr th {\n",
       "        vertical-align: top;\n",
       "    }\n",
       "\n",
       "    .dataframe thead th {\n",
       "        text-align: right;\n",
       "    }\n",
       "</style>\n",
       "<table border=\"1\" class=\"dataframe\">\n",
       "  <thead>\n",
       "    <tr style=\"text-align: right;\">\n",
       "      <th></th>\n",
       "      <th>id</th>\n",
       "      <th>user_id</th>\n",
       "      <th>call_date</th>\n",
       "      <th>duration</th>\n",
       "    </tr>\n",
       "  </thead>\n",
       "  <tbody>\n",
       "    <tr>\n",
       "      <th>0</th>\n",
       "      <td>1000_93</td>\n",
       "      <td>1000</td>\n",
       "      <td>2018-12-27</td>\n",
       "      <td>8.52</td>\n",
       "    </tr>\n",
       "    <tr>\n",
       "      <th>1</th>\n",
       "      <td>1000_145</td>\n",
       "      <td>1000</td>\n",
       "      <td>2018-12-27</td>\n",
       "      <td>13.66</td>\n",
       "    </tr>\n",
       "    <tr>\n",
       "      <th>2</th>\n",
       "      <td>1000_247</td>\n",
       "      <td>1000</td>\n",
       "      <td>2018-12-27</td>\n",
       "      <td>14.48</td>\n",
       "    </tr>\n",
       "  </tbody>\n",
       "</table>\n",
       "</div>"
      ],
      "text/plain": [
       "         id  user_id   call_date  duration\n",
       "0   1000_93     1000  2018-12-27      8.52\n",
       "1  1000_145     1000  2018-12-27     13.66\n",
       "2  1000_247     1000  2018-12-27     14.48"
      ]
     },
     "execution_count": 3,
     "metadata": {},
     "output_type": "execute_result"
    }
   ],
   "source": [
    "df_calls.head(3)"
   ]
  },
  {
   "cell_type": "code",
   "execution_count": 4,
   "id": "6ea61a7b",
   "metadata": {},
   "outputs": [
    {
     "name": "stdout",
     "output_type": "stream",
     "text": [
      "<class 'pandas.core.frame.DataFrame'>\n",
      "RangeIndex: 137735 entries, 0 to 137734\n",
      "Data columns (total 4 columns):\n",
      " #   Column     Non-Null Count   Dtype  \n",
      "---  ------     --------------   -----  \n",
      " 0   id         137735 non-null  object \n",
      " 1   user_id    137735 non-null  int64  \n",
      " 2   call_date  137735 non-null  object \n",
      " 3   duration   137735 non-null  float64\n",
      "dtypes: float64(1), int64(1), object(2)\n",
      "memory usage: 4.2+ MB\n"
     ]
    }
   ],
   "source": [
    "df_calls.info()"
   ]
  },
  {
   "cell_type": "code",
   "execution_count": 5,
   "id": "16acd462",
   "metadata": {},
   "outputs": [
    {
     "data": {
      "text/html": [
       "<div>\n",
       "<style scoped>\n",
       "    .dataframe tbody tr th:only-of-type {\n",
       "        vertical-align: middle;\n",
       "    }\n",
       "\n",
       "    .dataframe tbody tr th {\n",
       "        vertical-align: top;\n",
       "    }\n",
       "\n",
       "    .dataframe thead th {\n",
       "        text-align: right;\n",
       "    }\n",
       "</style>\n",
       "<table border=\"1\" class=\"dataframe\">\n",
       "  <thead>\n",
       "    <tr style=\"text-align: right;\">\n",
       "      <th></th>\n",
       "      <th>id</th>\n",
       "      <th>user_id</th>\n",
       "      <th>session_date</th>\n",
       "      <th>mb_used</th>\n",
       "    </tr>\n",
       "  </thead>\n",
       "  <tbody>\n",
       "    <tr>\n",
       "      <th>0</th>\n",
       "      <td>1000_13</td>\n",
       "      <td>1000</td>\n",
       "      <td>2018-12-29</td>\n",
       "      <td>89.86</td>\n",
       "    </tr>\n",
       "    <tr>\n",
       "      <th>1</th>\n",
       "      <td>1000_204</td>\n",
       "      <td>1000</td>\n",
       "      <td>2018-12-31</td>\n",
       "      <td>0.00</td>\n",
       "    </tr>\n",
       "    <tr>\n",
       "      <th>2</th>\n",
       "      <td>1000_379</td>\n",
       "      <td>1000</td>\n",
       "      <td>2018-12-28</td>\n",
       "      <td>660.40</td>\n",
       "    </tr>\n",
       "  </tbody>\n",
       "</table>\n",
       "</div>"
      ],
      "text/plain": [
       "         id  user_id session_date  mb_used\n",
       "0   1000_13     1000   2018-12-29    89.86\n",
       "1  1000_204     1000   2018-12-31     0.00\n",
       "2  1000_379     1000   2018-12-28   660.40"
      ]
     },
     "execution_count": 5,
     "metadata": {},
     "output_type": "execute_result"
    }
   ],
   "source": [
    "df_internet.head(3)"
   ]
  },
  {
   "cell_type": "code",
   "execution_count": 6,
   "id": "3616299a",
   "metadata": {},
   "outputs": [
    {
     "name": "stdout",
     "output_type": "stream",
     "text": [
      "<class 'pandas.core.frame.DataFrame'>\n",
      "RangeIndex: 104825 entries, 0 to 104824\n",
      "Data columns (total 4 columns):\n",
      " #   Column        Non-Null Count   Dtype  \n",
      "---  ------        --------------   -----  \n",
      " 0   id            104825 non-null  object \n",
      " 1   user_id       104825 non-null  int64  \n",
      " 2   session_date  104825 non-null  object \n",
      " 3   mb_used       104825 non-null  float64\n",
      "dtypes: float64(1), int64(1), object(2)\n",
      "memory usage: 3.2+ MB\n"
     ]
    }
   ],
   "source": [
    "df_internet.info()"
   ]
  },
  {
   "cell_type": "code",
   "execution_count": 7,
   "id": "5f30f35c",
   "metadata": {},
   "outputs": [
    {
     "data": {
      "text/html": [
       "<div>\n",
       "<style scoped>\n",
       "    .dataframe tbody tr th:only-of-type {\n",
       "        vertical-align: middle;\n",
       "    }\n",
       "\n",
       "    .dataframe tbody tr th {\n",
       "        vertical-align: top;\n",
       "    }\n",
       "\n",
       "    .dataframe thead th {\n",
       "        text-align: right;\n",
       "    }\n",
       "</style>\n",
       "<table border=\"1\" class=\"dataframe\">\n",
       "  <thead>\n",
       "    <tr style=\"text-align: right;\">\n",
       "      <th></th>\n",
       "      <th>id</th>\n",
       "      <th>user_id</th>\n",
       "      <th>message_date</th>\n",
       "    </tr>\n",
       "  </thead>\n",
       "  <tbody>\n",
       "    <tr>\n",
       "      <th>0</th>\n",
       "      <td>1000_125</td>\n",
       "      <td>1000</td>\n",
       "      <td>2018-12-27</td>\n",
       "    </tr>\n",
       "    <tr>\n",
       "      <th>1</th>\n",
       "      <td>1000_160</td>\n",
       "      <td>1000</td>\n",
       "      <td>2018-12-31</td>\n",
       "    </tr>\n",
       "    <tr>\n",
       "      <th>2</th>\n",
       "      <td>1000_223</td>\n",
       "      <td>1000</td>\n",
       "      <td>2018-12-31</td>\n",
       "    </tr>\n",
       "  </tbody>\n",
       "</table>\n",
       "</div>"
      ],
      "text/plain": [
       "         id  user_id message_date\n",
       "0  1000_125     1000   2018-12-27\n",
       "1  1000_160     1000   2018-12-31\n",
       "2  1000_223     1000   2018-12-31"
      ]
     },
     "execution_count": 7,
     "metadata": {},
     "output_type": "execute_result"
    }
   ],
   "source": [
    "df_messages.head(3)"
   ]
  },
  {
   "cell_type": "code",
   "execution_count": 8,
   "id": "05a03b54",
   "metadata": {},
   "outputs": [
    {
     "name": "stdout",
     "output_type": "stream",
     "text": [
      "<class 'pandas.core.frame.DataFrame'>\n",
      "RangeIndex: 76051 entries, 0 to 76050\n",
      "Data columns (total 3 columns):\n",
      " #   Column        Non-Null Count  Dtype \n",
      "---  ------        --------------  ----- \n",
      " 0   id            76051 non-null  object\n",
      " 1   user_id       76051 non-null  int64 \n",
      " 2   message_date  76051 non-null  object\n",
      "dtypes: int64(1), object(2)\n",
      "memory usage: 1.7+ MB\n"
     ]
    }
   ],
   "source": [
    "df_messages.info()"
   ]
  },
  {
   "cell_type": "code",
   "execution_count": 9,
   "id": "aea311e8",
   "metadata": {},
   "outputs": [
    {
     "data": {
      "text/html": [
       "<div>\n",
       "<style scoped>\n",
       "    .dataframe tbody tr th:only-of-type {\n",
       "        vertical-align: middle;\n",
       "    }\n",
       "\n",
       "    .dataframe tbody tr th {\n",
       "        vertical-align: top;\n",
       "    }\n",
       "\n",
       "    .dataframe thead th {\n",
       "        text-align: right;\n",
       "    }\n",
       "</style>\n",
       "<table border=\"1\" class=\"dataframe\">\n",
       "  <thead>\n",
       "    <tr style=\"text-align: right;\">\n",
       "      <th></th>\n",
       "      <th>messages_included</th>\n",
       "      <th>mb_per_month_included</th>\n",
       "      <th>minutes_included</th>\n",
       "      <th>usd_monthly_pay</th>\n",
       "      <th>usd_per_gb</th>\n",
       "      <th>usd_per_message</th>\n",
       "      <th>usd_per_minute</th>\n",
       "      <th>plan_name</th>\n",
       "    </tr>\n",
       "  </thead>\n",
       "  <tbody>\n",
       "    <tr>\n",
       "      <th>0</th>\n",
       "      <td>50</td>\n",
       "      <td>15360</td>\n",
       "      <td>500</td>\n",
       "      <td>20</td>\n",
       "      <td>10</td>\n",
       "      <td>0.03</td>\n",
       "      <td>0.03</td>\n",
       "      <td>surf</td>\n",
       "    </tr>\n",
       "    <tr>\n",
       "      <th>1</th>\n",
       "      <td>1000</td>\n",
       "      <td>30720</td>\n",
       "      <td>3000</td>\n",
       "      <td>70</td>\n",
       "      <td>7</td>\n",
       "      <td>0.01</td>\n",
       "      <td>0.01</td>\n",
       "      <td>ultimate</td>\n",
       "    </tr>\n",
       "  </tbody>\n",
       "</table>\n",
       "</div>"
      ],
      "text/plain": [
       "   messages_included  mb_per_month_included  minutes_included  \\\n",
       "0                 50                  15360               500   \n",
       "1               1000                  30720              3000   \n",
       "\n",
       "   usd_monthly_pay  usd_per_gb  usd_per_message  usd_per_minute plan_name  \n",
       "0               20          10             0.03            0.03      surf  \n",
       "1               70           7             0.01            0.01  ultimate  "
      ]
     },
     "execution_count": 9,
     "metadata": {},
     "output_type": "execute_result"
    }
   ],
   "source": [
    " df_plans"
   ]
  },
  {
   "cell_type": "code",
   "execution_count": 10,
   "id": "a17cdfac",
   "metadata": {},
   "outputs": [
    {
     "name": "stdout",
     "output_type": "stream",
     "text": [
      "<class 'pandas.core.frame.DataFrame'>\n",
      "RangeIndex: 2 entries, 0 to 1\n",
      "Data columns (total 8 columns):\n",
      " #   Column                 Non-Null Count  Dtype  \n",
      "---  ------                 --------------  -----  \n",
      " 0   messages_included      2 non-null      int64  \n",
      " 1   mb_per_month_included  2 non-null      int64  \n",
      " 2   minutes_included       2 non-null      int64  \n",
      " 3   usd_monthly_pay        2 non-null      int64  \n",
      " 4   usd_per_gb             2 non-null      int64  \n",
      " 5   usd_per_message        2 non-null      float64\n",
      " 6   usd_per_minute         2 non-null      float64\n",
      " 7   plan_name              2 non-null      object \n",
      "dtypes: float64(2), int64(5), object(1)\n",
      "memory usage: 256.0+ bytes\n"
     ]
    }
   ],
   "source": [
    " df_plans.info()"
   ]
  },
  {
   "cell_type": "code",
   "execution_count": 11,
   "id": "64ac86cd",
   "metadata": {},
   "outputs": [
    {
     "data": {
      "text/html": [
       "<div>\n",
       "<style scoped>\n",
       "    .dataframe tbody tr th:only-of-type {\n",
       "        vertical-align: middle;\n",
       "    }\n",
       "\n",
       "    .dataframe tbody tr th {\n",
       "        vertical-align: top;\n",
       "    }\n",
       "\n",
       "    .dataframe thead th {\n",
       "        text-align: right;\n",
       "    }\n",
       "</style>\n",
       "<table border=\"1\" class=\"dataframe\">\n",
       "  <thead>\n",
       "    <tr style=\"text-align: right;\">\n",
       "      <th></th>\n",
       "      <th>user_id</th>\n",
       "      <th>first_name</th>\n",
       "      <th>last_name</th>\n",
       "      <th>age</th>\n",
       "      <th>city</th>\n",
       "      <th>reg_date</th>\n",
       "      <th>tariff</th>\n",
       "      <th>churn_date</th>\n",
       "    </tr>\n",
       "  </thead>\n",
       "  <tbody>\n",
       "    <tr>\n",
       "      <th>0</th>\n",
       "      <td>1000</td>\n",
       "      <td>Anamaria</td>\n",
       "      <td>Bauer</td>\n",
       "      <td>45</td>\n",
       "      <td>Atlanta-Sandy Springs-Roswell, GA MSA</td>\n",
       "      <td>2018-12-24</td>\n",
       "      <td>ultimate</td>\n",
       "      <td>NaN</td>\n",
       "    </tr>\n",
       "    <tr>\n",
       "      <th>1</th>\n",
       "      <td>1001</td>\n",
       "      <td>Mickey</td>\n",
       "      <td>Wilkerson</td>\n",
       "      <td>28</td>\n",
       "      <td>Seattle-Tacoma-Bellevue, WA MSA</td>\n",
       "      <td>2018-08-13</td>\n",
       "      <td>surf</td>\n",
       "      <td>NaN</td>\n",
       "    </tr>\n",
       "    <tr>\n",
       "      <th>2</th>\n",
       "      <td>1002</td>\n",
       "      <td>Carlee</td>\n",
       "      <td>Hoffman</td>\n",
       "      <td>36</td>\n",
       "      <td>Las Vegas-Henderson-Paradise, NV MSA</td>\n",
       "      <td>2018-10-21</td>\n",
       "      <td>surf</td>\n",
       "      <td>NaN</td>\n",
       "    </tr>\n",
       "  </tbody>\n",
       "</table>\n",
       "</div>"
      ],
      "text/plain": [
       "   user_id first_name  last_name  age                                   city  \\\n",
       "0     1000   Anamaria      Bauer   45  Atlanta-Sandy Springs-Roswell, GA MSA   \n",
       "1     1001     Mickey  Wilkerson   28        Seattle-Tacoma-Bellevue, WA MSA   \n",
       "2     1002     Carlee    Hoffman   36   Las Vegas-Henderson-Paradise, NV MSA   \n",
       "\n",
       "     reg_date    tariff churn_date  \n",
       "0  2018-12-24  ultimate        NaN  \n",
       "1  2018-08-13      surf        NaN  \n",
       "2  2018-10-21      surf        NaN  "
      ]
     },
     "execution_count": 11,
     "metadata": {},
     "output_type": "execute_result"
    }
   ],
   "source": [
    "df_users.head(3)"
   ]
  },
  {
   "cell_type": "code",
   "execution_count": 12,
   "id": "36771795",
   "metadata": {},
   "outputs": [
    {
     "name": "stdout",
     "output_type": "stream",
     "text": [
      "<class 'pandas.core.frame.DataFrame'>\n",
      "RangeIndex: 500 entries, 0 to 499\n",
      "Data columns (total 8 columns):\n",
      " #   Column      Non-Null Count  Dtype \n",
      "---  ------      --------------  ----- \n",
      " 0   user_id     500 non-null    int64 \n",
      " 1   first_name  500 non-null    object\n",
      " 2   last_name   500 non-null    object\n",
      " 3   age         500 non-null    int64 \n",
      " 4   city        500 non-null    object\n",
      " 5   reg_date    500 non-null    object\n",
      " 6   tariff      500 non-null    object\n",
      " 7   churn_date  34 non-null     object\n",
      "dtypes: int64(2), object(6)\n",
      "memory usage: 31.4+ KB\n"
     ]
    }
   ],
   "source": [
    "df_users.info()"
   ]
  },
  {
   "cell_type": "markdown",
   "id": "ca650b38",
   "metadata": {},
   "source": [
    "### Summary-\n",
    "There are 5 sets of data.\n",
    "- df_calls : 4 columns and 137735 rows. No missing values. 'user_id' dtype should be changed from int64 to object.  \n",
    "- df_internet: 4 columns and 104825 rows. No missing values. 'user_id' dtype should be changed from int64 to object.   \n",
    "- df_messages: 3 columns and 76051 rows. No missing values. 'user_id' dtype should be changed from int64 to object.   \n",
    "- df_plans: 8 columns and 2 rows. No missing values. 'usd_monthly_pay' and 'usd_per_gb' - should be changed from int to float. \n",
    "- df_users: 8 columns and 500 rows. 'churn_date ': a large number of missing values. churn dates are missing when user is still a client.'user_id' dtype should be changed from int64 to object"
   ]
  },
  {
   "cell_type": "markdown",
   "id": "e6a59dd6",
   "metadata": {},
   "source": [
    "## Data pre-processing "
   ]
  },
  {
   "cell_type": "markdown",
   "id": "8820d93b",
   "metadata": {},
   "source": [
    "### Converting variables to the necessary data types"
   ]
  },
  {
   "cell_type": "code",
   "execution_count": 13,
   "id": "86d46bfb",
   "metadata": {},
   "outputs": [],
   "source": [
    "data_frames = [df_calls, df_internet, df_messages, df_users ]\n",
    "for df in data_frames:\n",
    "    df['user_id'] = df['user_id'].astype('object')\n"
   ]
  },
  {
   "cell_type": "code",
   "execution_count": 14,
   "id": "6af6eda2",
   "metadata": {},
   "outputs": [
    {
     "name": "stdout",
     "output_type": "stream",
     "text": [
      "<class 'pandas.core.frame.DataFrame'>\n",
      "RangeIndex: 2 entries, 0 to 1\n",
      "Data columns (total 8 columns):\n",
      " #   Column                 Non-Null Count  Dtype  \n",
      "---  ------                 --------------  -----  \n",
      " 0   messages_included      2 non-null      int64  \n",
      " 1   mb_per_month_included  2 non-null      int64  \n",
      " 2   minutes_included       2 non-null      int64  \n",
      " 3   usd_monthly_pay        2 non-null      float64\n",
      " 4   usd_per_gb             2 non-null      float64\n",
      " 5   usd_per_message        2 non-null      float64\n",
      " 6   usd_per_minute         2 non-null      float64\n",
      " 7   plan_name              2 non-null      object \n",
      "dtypes: float64(4), int64(3), object(1)\n",
      "memory usage: 256.0+ bytes\n"
     ]
    }
   ],
   "source": [
    "df_plans = df_plans.astype({'usd_monthly_pay': 'float64', 'usd_per_gb': 'float64'})\n",
    "df_plans.info()"
   ]
  },
  {
   "cell_type": "markdown",
   "id": "138e6490",
   "metadata": {},
   "source": [
    "### Find and eliminate errors in the data\n",
    "### Calls-"
   ]
  },
  {
   "cell_type": "code",
   "execution_count": 15,
   "id": "4585d25e",
   "metadata": {},
   "outputs": [
    {
     "data": {
      "text/html": [
       "<div>\n",
       "<style scoped>\n",
       "    .dataframe tbody tr th:only-of-type {\n",
       "        vertical-align: middle;\n",
       "    }\n",
       "\n",
       "    .dataframe tbody tr th {\n",
       "        vertical-align: top;\n",
       "    }\n",
       "\n",
       "    .dataframe thead th {\n",
       "        text-align: right;\n",
       "    }\n",
       "</style>\n",
       "<table border=\"1\" class=\"dataframe\">\n",
       "  <thead>\n",
       "    <tr style=\"text-align: right;\">\n",
       "      <th></th>\n",
       "      <th>count</th>\n",
       "      <th>unique</th>\n",
       "      <th>top</th>\n",
       "      <th>freq</th>\n",
       "      <th>mean</th>\n",
       "      <th>std</th>\n",
       "      <th>min</th>\n",
       "      <th>25%</th>\n",
       "      <th>50%</th>\n",
       "      <th>75%</th>\n",
       "      <th>max</th>\n",
       "    </tr>\n",
       "  </thead>\n",
       "  <tbody>\n",
       "    <tr>\n",
       "      <th>id</th>\n",
       "      <td>137735</td>\n",
       "      <td>137735</td>\n",
       "      <td>1000_93</td>\n",
       "      <td>1</td>\n",
       "      <td>NaN</td>\n",
       "      <td>NaN</td>\n",
       "      <td>NaN</td>\n",
       "      <td>NaN</td>\n",
       "      <td>NaN</td>\n",
       "      <td>NaN</td>\n",
       "      <td>NaN</td>\n",
       "    </tr>\n",
       "    <tr>\n",
       "      <th>user_id</th>\n",
       "      <td>137735.0</td>\n",
       "      <td>481.0</td>\n",
       "      <td>1324.0</td>\n",
       "      <td>1300.0</td>\n",
       "      <td>NaN</td>\n",
       "      <td>NaN</td>\n",
       "      <td>NaN</td>\n",
       "      <td>NaN</td>\n",
       "      <td>NaN</td>\n",
       "      <td>NaN</td>\n",
       "      <td>NaN</td>\n",
       "    </tr>\n",
       "    <tr>\n",
       "      <th>call_date</th>\n",
       "      <td>137735</td>\n",
       "      <td>351</td>\n",
       "      <td>2018-12-27</td>\n",
       "      <td>1091</td>\n",
       "      <td>NaN</td>\n",
       "      <td>NaN</td>\n",
       "      <td>NaN</td>\n",
       "      <td>NaN</td>\n",
       "      <td>NaN</td>\n",
       "      <td>NaN</td>\n",
       "      <td>NaN</td>\n",
       "    </tr>\n",
       "    <tr>\n",
       "      <th>duration</th>\n",
       "      <td>137735.0</td>\n",
       "      <td>NaN</td>\n",
       "      <td>NaN</td>\n",
       "      <td>NaN</td>\n",
       "      <td>6.745927</td>\n",
       "      <td>5.839241</td>\n",
       "      <td>0.0</td>\n",
       "      <td>1.29</td>\n",
       "      <td>5.98</td>\n",
       "      <td>10.69</td>\n",
       "      <td>37.6</td>\n",
       "    </tr>\n",
       "  </tbody>\n",
       "</table>\n",
       "</div>"
      ],
      "text/plain": [
       "              count  unique         top    freq      mean       std  min  \\\n",
       "id           137735  137735     1000_93       1       NaN       NaN  NaN   \n",
       "user_id    137735.0   481.0      1324.0  1300.0       NaN       NaN  NaN   \n",
       "call_date    137735     351  2018-12-27    1091       NaN       NaN  NaN   \n",
       "duration   137735.0     NaN         NaN     NaN  6.745927  5.839241  0.0   \n",
       "\n",
       "            25%   50%    75%   max  \n",
       "id          NaN   NaN    NaN   NaN  \n",
       "user_id     NaN   NaN    NaN   NaN  \n",
       "call_date   NaN   NaN    NaN   NaN  \n",
       "duration   1.29  5.98  10.69  37.6  "
      ]
     },
     "execution_count": 15,
     "metadata": {},
     "output_type": "execute_result"
    }
   ],
   "source": [
    "# Taking a closer look at the DFs:\n",
    "df_calls.describe(include='all').T\n",
    "# calls- min duration zero (?)"
   ]
  },
  {
   "cell_type": "code",
   "execution_count": 16,
   "id": "c7a2bca0",
   "metadata": {},
   "outputs": [
    {
     "data": {
      "text/plain": [
       "0.1948233927469416"
      ]
     },
     "execution_count": 16,
     "metadata": {},
     "output_type": "execute_result"
    }
   ],
   "source": [
    "# checking the relative amount of duration==0: (~20%)\n",
    "df_calls[df_calls['duration'] == 0]['duration'].count()/len(df_calls)"
   ]
  },
  {
   "cell_type": "code",
   "execution_count": 17,
   "id": "cf086f10",
   "metadata": {},
   "outputs": [
    {
     "data": {
      "text/html": [
       "<div>\n",
       "<style scoped>\n",
       "    .dataframe tbody tr th:only-of-type {\n",
       "        vertical-align: middle;\n",
       "    }\n",
       "\n",
       "    .dataframe tbody tr th {\n",
       "        vertical-align: top;\n",
       "    }\n",
       "\n",
       "    .dataframe thead th {\n",
       "        text-align: right;\n",
       "    }\n",
       "</style>\n",
       "<table border=\"1\" class=\"dataframe\">\n",
       "  <thead>\n",
       "    <tr style=\"text-align: right;\">\n",
       "      <th></th>\n",
       "      <th>id</th>\n",
       "      <th>user_id</th>\n",
       "      <th>call_date</th>\n",
       "      <th>duration</th>\n",
       "    </tr>\n",
       "  </thead>\n",
       "  <tbody>\n",
       "    <tr>\n",
       "      <th>137636</th>\n",
       "      <td>1499_105</td>\n",
       "      <td>1499</td>\n",
       "      <td>2018-09-18</td>\n",
       "      <td>0.0</td>\n",
       "    </tr>\n",
       "    <tr>\n",
       "      <th>137659</th>\n",
       "      <td>1499_128</td>\n",
       "      <td>1499</td>\n",
       "      <td>2018-09-07</td>\n",
       "      <td>0.0</td>\n",
       "    </tr>\n",
       "    <tr>\n",
       "      <th>137661</th>\n",
       "      <td>1499_130</td>\n",
       "      <td>1499</td>\n",
       "      <td>2018-12-18</td>\n",
       "      <td>0.0</td>\n",
       "    </tr>\n",
       "    <tr>\n",
       "      <th>137679</th>\n",
       "      <td>1499_148</td>\n",
       "      <td>1499</td>\n",
       "      <td>2018-12-04</td>\n",
       "      <td>0.0</td>\n",
       "    </tr>\n",
       "    <tr>\n",
       "      <th>137690</th>\n",
       "      <td>1499_159</td>\n",
       "      <td>1499</td>\n",
       "      <td>2018-11-04</td>\n",
       "      <td>0.0</td>\n",
       "    </tr>\n",
       "    <tr>\n",
       "      <th>137694</th>\n",
       "      <td>1499_163</td>\n",
       "      <td>1499</td>\n",
       "      <td>2018-09-24</td>\n",
       "      <td>0.0</td>\n",
       "    </tr>\n",
       "    <tr>\n",
       "      <th>137695</th>\n",
       "      <td>1499_164</td>\n",
       "      <td>1499</td>\n",
       "      <td>2018-10-26</td>\n",
       "      <td>0.0</td>\n",
       "    </tr>\n",
       "    <tr>\n",
       "      <th>137697</th>\n",
       "      <td>1499_166</td>\n",
       "      <td>1499</td>\n",
       "      <td>2018-10-15</td>\n",
       "      <td>0.0</td>\n",
       "    </tr>\n",
       "    <tr>\n",
       "      <th>137698</th>\n",
       "      <td>1499_167</td>\n",
       "      <td>1499</td>\n",
       "      <td>2018-10-13</td>\n",
       "      <td>0.0</td>\n",
       "    </tr>\n",
       "    <tr>\n",
       "      <th>137704</th>\n",
       "      <td>1499_173</td>\n",
       "      <td>1499</td>\n",
       "      <td>2018-10-10</td>\n",
       "      <td>0.0</td>\n",
       "    </tr>\n",
       "    <tr>\n",
       "      <th>137714</th>\n",
       "      <td>1499_183</td>\n",
       "      <td>1499</td>\n",
       "      <td>2018-11-10</td>\n",
       "      <td>0.0</td>\n",
       "    </tr>\n",
       "    <tr>\n",
       "      <th>137715</th>\n",
       "      <td>1499_184</td>\n",
       "      <td>1499</td>\n",
       "      <td>2018-09-15</td>\n",
       "      <td>0.0</td>\n",
       "    </tr>\n",
       "    <tr>\n",
       "      <th>137720</th>\n",
       "      <td>1499_189</td>\n",
       "      <td>1499</td>\n",
       "      <td>2018-12-27</td>\n",
       "      <td>0.0</td>\n",
       "    </tr>\n",
       "    <tr>\n",
       "      <th>137722</th>\n",
       "      <td>1499_191</td>\n",
       "      <td>1499</td>\n",
       "      <td>2018-12-24</td>\n",
       "      <td>0.0</td>\n",
       "    </tr>\n",
       "    <tr>\n",
       "      <th>137725</th>\n",
       "      <td>1499_194</td>\n",
       "      <td>1499</td>\n",
       "      <td>2018-10-31</td>\n",
       "      <td>0.0</td>\n",
       "    </tr>\n",
       "  </tbody>\n",
       "</table>\n",
       "</div>"
      ],
      "text/plain": [
       "              id user_id   call_date  duration\n",
       "137636  1499_105    1499  2018-09-18       0.0\n",
       "137659  1499_128    1499  2018-09-07       0.0\n",
       "137661  1499_130    1499  2018-12-18       0.0\n",
       "137679  1499_148    1499  2018-12-04       0.0\n",
       "137690  1499_159    1499  2018-11-04       0.0\n",
       "137694  1499_163    1499  2018-09-24       0.0\n",
       "137695  1499_164    1499  2018-10-26       0.0\n",
       "137697  1499_166    1499  2018-10-15       0.0\n",
       "137698  1499_167    1499  2018-10-13       0.0\n",
       "137704  1499_173    1499  2018-10-10       0.0\n",
       "137714  1499_183    1499  2018-11-10       0.0\n",
       "137715  1499_184    1499  2018-09-15       0.0\n",
       "137720  1499_189    1499  2018-12-27       0.0\n",
       "137722  1499_191    1499  2018-12-24       0.0\n",
       "137725  1499_194    1499  2018-10-31       0.0"
      ]
     },
     "execution_count": 17,
     "metadata": {},
     "output_type": "execute_result"
    }
   ],
   "source": [
    "# checking if duration==0 is random: (looks like '0' is usually between September and December)\n",
    "df_calls.query('duration == 0').tail(15)"
   ]
  },
  {
   "cell_type": "code",
   "execution_count": 18,
   "id": "1654fd79",
   "metadata": {},
   "outputs": [],
   "source": [
    "#creating a month column for all data-sets.\n",
    "# next stage would be to compare df_calls with duration==0, to the rest of durations and check if there is a difference in months.\n",
    "df_calls['month'] = pd.to_datetime(df_calls['call_date']).dt.month\n",
    "df_internet['month'] = pd.to_datetime(df_internet['session_date']).dt.month\n",
    "df_messages['month'] = pd.to_datetime(df_messages['message_date']).dt.month"
   ]
  },
  {
   "cell_type": "code",
   "execution_count": 19,
   "id": "664b0814",
   "metadata": {},
   "outputs": [],
   "source": [
    "# checking possible difference in distribution of duration ==0 (Not found- most calls are made between August and December- near the end of the calander year)\n",
    "call_duration0 = df_calls.query('duration == 0')\n",
    "call_duration_no0 = df_calls.query('duration != 0')"
   ]
  },
  {
   "cell_type": "code",
   "execution_count": 20,
   "id": "90638c0c",
   "metadata": {},
   "outputs": [
    {
     "data": {
      "text/plain": [
       "count    26834.000000\n",
       "mean         9.327271\n",
       "std          2.402327\n",
       "min          1.000000\n",
       "25%          8.000000\n",
       "50%         10.000000\n",
       "75%         11.000000\n",
       "max         12.000000\n",
       "Name: month, dtype: float64"
      ]
     },
     "execution_count": 20,
     "metadata": {},
     "output_type": "execute_result"
    }
   ],
   "source": [
    "call_duration0['month'].describe()"
   ]
  },
  {
   "cell_type": "code",
   "execution_count": 21,
   "id": "a59ac143",
   "metadata": {},
   "outputs": [
    {
     "data": {
      "text/plain": [
       "count    110901.000000\n",
       "mean          9.319231\n",
       "std           2.415025\n",
       "min           1.000000\n",
       "25%           8.000000\n",
       "50%          10.000000\n",
       "75%          11.000000\n",
       "max          12.000000\n",
       "Name: month, dtype: float64"
      ]
     },
     "execution_count": 21,
     "metadata": {},
     "output_type": "execute_result"
    }
   ],
   "source": [
    "call_duration_no0['month'].describe()"
   ]
  },
  {
   "cell_type": "code",
   "execution_count": 22,
   "id": "615d312a",
   "metadata": {},
   "outputs": [],
   "source": [
    "df_calls = df_calls.query('duration != 0')"
   ]
  },
  {
   "cell_type": "markdown",
   "id": "b0039a12",
   "metadata": {},
   "source": [
    "*Call duration = zero*: there are 20% such calls, randomly distributed across data.I couldn't find an explanation to it- might be an error, a wrong number or a quick answering machine- There is no way of knowing.\n",
    "Although it is 20% of data i prefered dropping these rows. Zero duration is not supppose to affect the revenue, but might affect calculatins of mean duration call."
   ]
  },
  {
   "cell_type": "markdown",
   "id": "ce2d5010",
   "metadata": {},
   "source": [
    "### Internet"
   ]
  },
  {
   "cell_type": "code",
   "execution_count": 23,
   "id": "bbd3d849",
   "metadata": {},
   "outputs": [
    {
     "data": {
      "text/html": [
       "<div>\n",
       "<style scoped>\n",
       "    .dataframe tbody tr th:only-of-type {\n",
       "        vertical-align: middle;\n",
       "    }\n",
       "\n",
       "    .dataframe tbody tr th {\n",
       "        vertical-align: top;\n",
       "    }\n",
       "\n",
       "    .dataframe thead th {\n",
       "        text-align: right;\n",
       "    }\n",
       "</style>\n",
       "<table border=\"1\" class=\"dataframe\">\n",
       "  <thead>\n",
       "    <tr style=\"text-align: right;\">\n",
       "      <th></th>\n",
       "      <th>count</th>\n",
       "      <th>unique</th>\n",
       "      <th>top</th>\n",
       "      <th>freq</th>\n",
       "      <th>mean</th>\n",
       "      <th>std</th>\n",
       "      <th>min</th>\n",
       "      <th>25%</th>\n",
       "      <th>50%</th>\n",
       "      <th>75%</th>\n",
       "      <th>max</th>\n",
       "    </tr>\n",
       "  </thead>\n",
       "  <tbody>\n",
       "    <tr>\n",
       "      <th>id</th>\n",
       "      <td>104825</td>\n",
       "      <td>104825</td>\n",
       "      <td>1000_13</td>\n",
       "      <td>1</td>\n",
       "      <td>NaN</td>\n",
       "      <td>NaN</td>\n",
       "      <td>NaN</td>\n",
       "      <td>NaN</td>\n",
       "      <td>NaN</td>\n",
       "      <td>NaN</td>\n",
       "      <td>NaN</td>\n",
       "    </tr>\n",
       "    <tr>\n",
       "      <th>user_id</th>\n",
       "      <td>104825.0</td>\n",
       "      <td>489.0</td>\n",
       "      <td>1185.0</td>\n",
       "      <td>851.0</td>\n",
       "      <td>NaN</td>\n",
       "      <td>NaN</td>\n",
       "      <td>NaN</td>\n",
       "      <td>NaN</td>\n",
       "      <td>NaN</td>\n",
       "      <td>NaN</td>\n",
       "      <td>NaN</td>\n",
       "    </tr>\n",
       "    <tr>\n",
       "      <th>session_date</th>\n",
       "      <td>104825</td>\n",
       "      <td>351</td>\n",
       "      <td>2018-12-24</td>\n",
       "      <td>851</td>\n",
       "      <td>NaN</td>\n",
       "      <td>NaN</td>\n",
       "      <td>NaN</td>\n",
       "      <td>NaN</td>\n",
       "      <td>NaN</td>\n",
       "      <td>NaN</td>\n",
       "      <td>NaN</td>\n",
       "    </tr>\n",
       "    <tr>\n",
       "      <th>mb_used</th>\n",
       "      <td>104825.0</td>\n",
       "      <td>NaN</td>\n",
       "      <td>NaN</td>\n",
       "      <td>NaN</td>\n",
       "      <td>366.713701</td>\n",
       "      <td>277.170542</td>\n",
       "      <td>0.0</td>\n",
       "      <td>136.08</td>\n",
       "      <td>343.98</td>\n",
       "      <td>554.61</td>\n",
       "      <td>1693.47</td>\n",
       "    </tr>\n",
       "    <tr>\n",
       "      <th>month</th>\n",
       "      <td>104825.0</td>\n",
       "      <td>NaN</td>\n",
       "      <td>NaN</td>\n",
       "      <td>NaN</td>\n",
       "      <td>9.342552</td>\n",
       "      <td>2.400404</td>\n",
       "      <td>1.0</td>\n",
       "      <td>8.0</td>\n",
       "      <td>10.0</td>\n",
       "      <td>11.0</td>\n",
       "      <td>12.0</td>\n",
       "    </tr>\n",
       "  </tbody>\n",
       "</table>\n",
       "</div>"
      ],
      "text/plain": [
       "                 count  unique         top   freq        mean         std  \\\n",
       "id              104825  104825     1000_13      1         NaN         NaN   \n",
       "user_id       104825.0   489.0      1185.0  851.0         NaN         NaN   \n",
       "session_date    104825     351  2018-12-24    851         NaN         NaN   \n",
       "mb_used       104825.0     NaN         NaN    NaN  366.713701  277.170542   \n",
       "month         104825.0     NaN         NaN    NaN    9.342552    2.400404   \n",
       "\n",
       "              min     25%     50%     75%      max  \n",
       "id            NaN     NaN     NaN     NaN      NaN  \n",
       "user_id       NaN     NaN     NaN     NaN      NaN  \n",
       "session_date  NaN     NaN     NaN     NaN      NaN  \n",
       "mb_used       0.0  136.08  343.98  554.61  1693.47  \n",
       "month         1.0     8.0    10.0    11.0     12.0  "
      ]
     },
     "execution_count": 23,
     "metadata": {},
     "output_type": "execute_result"
    }
   ],
   "source": [
    "df_internet.describe(include='all').T\n",
    "# Internet - min mb_used is zero + are there outliers?"
   ]
  },
  {
   "cell_type": "code",
   "execution_count": 24,
   "id": "523ba435",
   "metadata": {},
   "outputs": [
    {
     "data": {
      "image/png": "[encoded data removed]",
      "text/plain": [
       "<Figure size 432x288 with 1 Axes>"
      ]
     },
     "metadata": {
      "needs_background": "light"
     },
     "output_type": "display_data"
    }
   ],
   "source": [
    "# Checking for outliers:\n",
    "bxplt= sns.boxplot(x=df_internet['mb_used'])\n",
    "plt.show()"
   ]
  },
  {
   "cell_type": "code",
   "execution_count": 25,
   "id": "45cb02ac",
   "metadata": {},
   "outputs": [
    {
     "data": {
      "text/plain": [
       "'The value of mb_used located in the 99th percentile is:1080.3007999999995'"
      ]
     },
     "execution_count": 25,
     "metadata": {},
     "output_type": "execute_result"
    }
   ],
   "source": [
    "ninety_nine = np.percentile(df_internet['mb_used'], 99)\n",
    "('The value of mb_used located in the 99th percentile is:{}'.format(ninety_nine))"
   ]
  },
  {
   "cell_type": "markdown",
   "id": "64e9eeb5",
   "metadata": {},
   "source": [
    "#Although these values look like outliers, i decide to keep them (thinking of crazy gamers..)"
   ]
  },
  {
   "cell_type": "code",
   "execution_count": 26,
   "id": "27886bcb",
   "metadata": {},
   "outputs": [],
   "source": [
    "mb_used0 = df_internet.query('mb_used == 0')\n",
    "mb_used_no0 = df_internet.query('mb_used != 0')"
   ]
  },
  {
   "cell_type": "code",
   "execution_count": 27,
   "id": "323aba1a",
   "metadata": {},
   "outputs": [
    {
     "data": {
      "text/html": [
       "<div>\n",
       "<style scoped>\n",
       "    .dataframe tbody tr th:only-of-type {\n",
       "        vertical-align: middle;\n",
       "    }\n",
       "\n",
       "    .dataframe tbody tr th {\n",
       "        vertical-align: top;\n",
       "    }\n",
       "\n",
       "    .dataframe thead th {\n",
       "        text-align: right;\n",
       "    }\n",
       "</style>\n",
       "<table border=\"1\" class=\"dataframe\">\n",
       "  <thead>\n",
       "    <tr style=\"text-align: right;\">\n",
       "      <th></th>\n",
       "      <th>mb_used</th>\n",
       "      <th>month</th>\n",
       "    </tr>\n",
       "  </thead>\n",
       "  <tbody>\n",
       "    <tr>\n",
       "      <th>count</th>\n",
       "      <td>13747.0</td>\n",
       "      <td>13747.000000</td>\n",
       "    </tr>\n",
       "    <tr>\n",
       "      <th>mean</th>\n",
       "      <td>0.0</td>\n",
       "      <td>9.365025</td>\n",
       "    </tr>\n",
       "    <tr>\n",
       "      <th>std</th>\n",
       "      <td>0.0</td>\n",
       "      <td>2.407617</td>\n",
       "    </tr>\n",
       "    <tr>\n",
       "      <th>min</th>\n",
       "      <td>0.0</td>\n",
       "      <td>1.000000</td>\n",
       "    </tr>\n",
       "    <tr>\n",
       "      <th>25%</th>\n",
       "      <td>0.0</td>\n",
       "      <td>8.000000</td>\n",
       "    </tr>\n",
       "    <tr>\n",
       "      <th>50%</th>\n",
       "      <td>0.0</td>\n",
       "      <td>10.000000</td>\n",
       "    </tr>\n",
       "    <tr>\n",
       "      <th>75%</th>\n",
       "      <td>0.0</td>\n",
       "      <td>11.000000</td>\n",
       "    </tr>\n",
       "    <tr>\n",
       "      <th>max</th>\n",
       "      <td>0.0</td>\n",
       "      <td>12.000000</td>\n",
       "    </tr>\n",
       "  </tbody>\n",
       "</table>\n",
       "</div>"
      ],
      "text/plain": [
       "       mb_used         month\n",
       "count  13747.0  13747.000000\n",
       "mean       0.0      9.365025\n",
       "std        0.0      2.407617\n",
       "min        0.0      1.000000\n",
       "25%        0.0      8.000000\n",
       "50%        0.0     10.000000\n",
       "75%        0.0     11.000000\n",
       "max        0.0     12.000000"
      ]
     },
     "execution_count": 27,
     "metadata": {},
     "output_type": "execute_result"
    }
   ],
   "source": [
    "mb_used0.describe()"
   ]
  },
  {
   "cell_type": "code",
   "execution_count": 28,
   "id": "b5a6ae3f",
   "metadata": {},
   "outputs": [
    {
     "data": {
      "text/html": [
       "<div>\n",
       "<style scoped>\n",
       "    .dataframe tbody tr th:only-of-type {\n",
       "        vertical-align: middle;\n",
       "    }\n",
       "\n",
       "    .dataframe tbody tr th {\n",
       "        vertical-align: top;\n",
       "    }\n",
       "\n",
       "    .dataframe thead th {\n",
       "        text-align: right;\n",
       "    }\n",
       "</style>\n",
       "<table border=\"1\" class=\"dataframe\">\n",
       "  <thead>\n",
       "    <tr style=\"text-align: right;\">\n",
       "      <th></th>\n",
       "      <th>mb_used</th>\n",
       "      <th>month</th>\n",
       "    </tr>\n",
       "  </thead>\n",
       "  <tbody>\n",
       "    <tr>\n",
       "      <th>count</th>\n",
       "      <td>91078.000000</td>\n",
       "      <td>91078.000000</td>\n",
       "    </tr>\n",
       "    <tr>\n",
       "      <th>mean</th>\n",
       "      <td>422.064206</td>\n",
       "      <td>9.339160</td>\n",
       "    </tr>\n",
       "    <tr>\n",
       "      <th>std</th>\n",
       "      <td>255.063501</td>\n",
       "      <td>2.399309</td>\n",
       "    </tr>\n",
       "    <tr>\n",
       "      <th>min</th>\n",
       "      <td>0.010000</td>\n",
       "      <td>1.000000</td>\n",
       "    </tr>\n",
       "    <tr>\n",
       "      <th>25%</th>\n",
       "      <td>223.380000</td>\n",
       "      <td>8.000000</td>\n",
       "    </tr>\n",
       "    <tr>\n",
       "      <th>50%</th>\n",
       "      <td>395.905000</td>\n",
       "      <td>10.000000</td>\n",
       "    </tr>\n",
       "    <tr>\n",
       "      <th>75%</th>\n",
       "      <td>588.367500</td>\n",
       "      <td>11.000000</td>\n",
       "    </tr>\n",
       "    <tr>\n",
       "      <th>max</th>\n",
       "      <td>1693.470000</td>\n",
       "      <td>12.000000</td>\n",
       "    </tr>\n",
       "  </tbody>\n",
       "</table>\n",
       "</div>"
      ],
      "text/plain": [
       "            mb_used         month\n",
       "count  91078.000000  91078.000000\n",
       "mean     422.064206      9.339160\n",
       "std      255.063501      2.399309\n",
       "min        0.010000      1.000000\n",
       "25%      223.380000      8.000000\n",
       "50%      395.905000     10.000000\n",
       "75%      588.367500     11.000000\n",
       "max     1693.470000     12.000000"
      ]
     },
     "execution_count": 28,
     "metadata": {},
     "output_type": "execute_result"
    }
   ],
   "source": [
    "mb_used_no0.describe()"
   ]
  },
  {
   "cell_type": "markdown",
   "id": "61b6e668",
   "metadata": {},
   "source": [
    "#mb_used = zero: As with calls, the same here- the zero value comprises 13% of data and randomly distributed. To not damage any mean calculations i might want to run, i decideג to drop these rows."
   ]
  },
  {
   "cell_type": "code",
   "execution_count": 29,
   "id": "d69dd8da",
   "metadata": {},
   "outputs": [],
   "source": [
    "df_internet = df_internet.query('mb_used != 0')"
   ]
  },
  {
   "cell_type": "code",
   "execution_count": 30,
   "id": "3513fb46",
   "metadata": {},
   "outputs": [
    {
     "data": {
      "text/plain": [
       "(91078, 5)"
      ]
     },
     "execution_count": 30,
     "metadata": {},
     "output_type": "execute_result"
    }
   ],
   "source": [
    "df_internet.shape"
   ]
  },
  {
   "cell_type": "markdown",
   "id": "14a2fb53",
   "metadata": {},
   "source": [
    "### Messages:"
   ]
  },
  {
   "cell_type": "code",
   "execution_count": 31,
   "id": "a09aedea",
   "metadata": {},
   "outputs": [
    {
     "data": {
      "text/html": [
       "<div>\n",
       "<style scoped>\n",
       "    .dataframe tbody tr th:only-of-type {\n",
       "        vertical-align: middle;\n",
       "    }\n",
       "\n",
       "    .dataframe tbody tr th {\n",
       "        vertical-align: top;\n",
       "    }\n",
       "\n",
       "    .dataframe thead th {\n",
       "        text-align: right;\n",
       "    }\n",
       "</style>\n",
       "<table border=\"1\" class=\"dataframe\">\n",
       "  <thead>\n",
       "    <tr style=\"text-align: right;\">\n",
       "      <th></th>\n",
       "      <th>count</th>\n",
       "      <th>unique</th>\n",
       "      <th>top</th>\n",
       "      <th>freq</th>\n",
       "      <th>mean</th>\n",
       "      <th>std</th>\n",
       "      <th>min</th>\n",
       "      <th>25%</th>\n",
       "      <th>50%</th>\n",
       "      <th>75%</th>\n",
       "      <th>max</th>\n",
       "    </tr>\n",
       "  </thead>\n",
       "  <tbody>\n",
       "    <tr>\n",
       "      <th>id</th>\n",
       "      <td>76051</td>\n",
       "      <td>76051</td>\n",
       "      <td>1000_125</td>\n",
       "      <td>1</td>\n",
       "      <td>NaN</td>\n",
       "      <td>NaN</td>\n",
       "      <td>NaN</td>\n",
       "      <td>NaN</td>\n",
       "      <td>NaN</td>\n",
       "      <td>NaN</td>\n",
       "      <td>NaN</td>\n",
       "    </tr>\n",
       "    <tr>\n",
       "      <th>user_id</th>\n",
       "      <td>76051.0</td>\n",
       "      <td>402.0</td>\n",
       "      <td>1132.0</td>\n",
       "      <td>1288.0</td>\n",
       "      <td>NaN</td>\n",
       "      <td>NaN</td>\n",
       "      <td>NaN</td>\n",
       "      <td>NaN</td>\n",
       "      <td>NaN</td>\n",
       "      <td>NaN</td>\n",
       "      <td>NaN</td>\n",
       "    </tr>\n",
       "    <tr>\n",
       "      <th>message_date</th>\n",
       "      <td>76051</td>\n",
       "      <td>351</td>\n",
       "      <td>2018-12-28</td>\n",
       "      <td>702</td>\n",
       "      <td>NaN</td>\n",
       "      <td>NaN</td>\n",
       "      <td>NaN</td>\n",
       "      <td>NaN</td>\n",
       "      <td>NaN</td>\n",
       "      <td>NaN</td>\n",
       "      <td>NaN</td>\n",
       "    </tr>\n",
       "    <tr>\n",
       "      <th>month</th>\n",
       "      <td>76051.0</td>\n",
       "      <td>NaN</td>\n",
       "      <td>NaN</td>\n",
       "      <td>NaN</td>\n",
       "      <td>9.584016</td>\n",
       "      <td>2.276392</td>\n",
       "      <td>1.0</td>\n",
       "      <td>8.0</td>\n",
       "      <td>10.0</td>\n",
       "      <td>12.0</td>\n",
       "      <td>12.0</td>\n",
       "    </tr>\n",
       "  </tbody>\n",
       "</table>\n",
       "</div>"
      ],
      "text/plain": [
       "                count unique         top    freq      mean       std  min  \\\n",
       "id              76051  76051    1000_125       1       NaN       NaN  NaN   \n",
       "user_id       76051.0  402.0      1132.0  1288.0       NaN       NaN  NaN   \n",
       "message_date    76051    351  2018-12-28     702       NaN       NaN  NaN   \n",
       "month         76051.0    NaN         NaN     NaN  9.584016  2.276392  1.0   \n",
       "\n",
       "              25%   50%   75%   max  \n",
       "id            NaN   NaN   NaN   NaN  \n",
       "user_id       NaN   NaN   NaN   NaN  \n",
       "message_date  NaN   NaN   NaN   NaN  \n",
       "month         8.0  10.0  12.0  12.0  "
      ]
     },
     "execution_count": 31,
     "metadata": {},
     "output_type": "execute_result"
    }
   ],
   "source": [
    "df_messages.describe(include='all').T"
   ]
  },
  {
   "cell_type": "markdown",
   "id": "5076cd7d",
   "metadata": {},
   "source": [
    "#### Plans:"
   ]
  },
  {
   "cell_type": "code",
   "execution_count": 32,
   "id": "81a7edbf",
   "metadata": {},
   "outputs": [
    {
     "data": {
      "text/html": [
       "<div>\n",
       "<style scoped>\n",
       "    .dataframe tbody tr th:only-of-type {\n",
       "        vertical-align: middle;\n",
       "    }\n",
       "\n",
       "    .dataframe tbody tr th {\n",
       "        vertical-align: top;\n",
       "    }\n",
       "\n",
       "    .dataframe thead th {\n",
       "        text-align: right;\n",
       "    }\n",
       "</style>\n",
       "<table border=\"1\" class=\"dataframe\">\n",
       "  <thead>\n",
       "    <tr style=\"text-align: right;\">\n",
       "      <th></th>\n",
       "      <th>count</th>\n",
       "      <th>unique</th>\n",
       "      <th>top</th>\n",
       "      <th>freq</th>\n",
       "      <th>mean</th>\n",
       "      <th>std</th>\n",
       "      <th>min</th>\n",
       "      <th>25%</th>\n",
       "      <th>50%</th>\n",
       "      <th>75%</th>\n",
       "      <th>max</th>\n",
       "    </tr>\n",
       "  </thead>\n",
       "  <tbody>\n",
       "    <tr>\n",
       "      <th>messages_included</th>\n",
       "      <td>2.0</td>\n",
       "      <td>NaN</td>\n",
       "      <td>NaN</td>\n",
       "      <td>NaN</td>\n",
       "      <td>525.0</td>\n",
       "      <td>671.751442</td>\n",
       "      <td>50.0</td>\n",
       "      <td>287.5</td>\n",
       "      <td>525.0</td>\n",
       "      <td>762.5</td>\n",
       "      <td>1000.0</td>\n",
       "    </tr>\n",
       "    <tr>\n",
       "      <th>mb_per_month_included</th>\n",
       "      <td>2.0</td>\n",
       "      <td>NaN</td>\n",
       "      <td>NaN</td>\n",
       "      <td>NaN</td>\n",
       "      <td>23040.0</td>\n",
       "      <td>10861.160159</td>\n",
       "      <td>15360.0</td>\n",
       "      <td>19200.0</td>\n",
       "      <td>23040.0</td>\n",
       "      <td>26880.0</td>\n",
       "      <td>30720.0</td>\n",
       "    </tr>\n",
       "    <tr>\n",
       "      <th>minutes_included</th>\n",
       "      <td>2.0</td>\n",
       "      <td>NaN</td>\n",
       "      <td>NaN</td>\n",
       "      <td>NaN</td>\n",
       "      <td>1750.0</td>\n",
       "      <td>1767.766953</td>\n",
       "      <td>500.0</td>\n",
       "      <td>1125.0</td>\n",
       "      <td>1750.0</td>\n",
       "      <td>2375.0</td>\n",
       "      <td>3000.0</td>\n",
       "    </tr>\n",
       "    <tr>\n",
       "      <th>usd_monthly_pay</th>\n",
       "      <td>2.0</td>\n",
       "      <td>NaN</td>\n",
       "      <td>NaN</td>\n",
       "      <td>NaN</td>\n",
       "      <td>45.0</td>\n",
       "      <td>35.355339</td>\n",
       "      <td>20.0</td>\n",
       "      <td>32.5</td>\n",
       "      <td>45.0</td>\n",
       "      <td>57.5</td>\n",
       "      <td>70.0</td>\n",
       "    </tr>\n",
       "    <tr>\n",
       "      <th>usd_per_gb</th>\n",
       "      <td>2.0</td>\n",
       "      <td>NaN</td>\n",
       "      <td>NaN</td>\n",
       "      <td>NaN</td>\n",
       "      <td>8.5</td>\n",
       "      <td>2.12132</td>\n",
       "      <td>7.0</td>\n",
       "      <td>7.75</td>\n",
       "      <td>8.5</td>\n",
       "      <td>9.25</td>\n",
       "      <td>10.0</td>\n",
       "    </tr>\n",
       "    <tr>\n",
       "      <th>usd_per_message</th>\n",
       "      <td>2.0</td>\n",
       "      <td>NaN</td>\n",
       "      <td>NaN</td>\n",
       "      <td>NaN</td>\n",
       "      <td>0.02</td>\n",
       "      <td>0.014142</td>\n",
       "      <td>0.01</td>\n",
       "      <td>0.015</td>\n",
       "      <td>0.02</td>\n",
       "      <td>0.025</td>\n",
       "      <td>0.03</td>\n",
       "    </tr>\n",
       "    <tr>\n",
       "      <th>usd_per_minute</th>\n",
       "      <td>2.0</td>\n",
       "      <td>NaN</td>\n",
       "      <td>NaN</td>\n",
       "      <td>NaN</td>\n",
       "      <td>0.02</td>\n",
       "      <td>0.014142</td>\n",
       "      <td>0.01</td>\n",
       "      <td>0.015</td>\n",
       "      <td>0.02</td>\n",
       "      <td>0.025</td>\n",
       "      <td>0.03</td>\n",
       "    </tr>\n",
       "    <tr>\n",
       "      <th>plan_name</th>\n",
       "      <td>2</td>\n",
       "      <td>2</td>\n",
       "      <td>surf</td>\n",
       "      <td>1</td>\n",
       "      <td>NaN</td>\n",
       "      <td>NaN</td>\n",
       "      <td>NaN</td>\n",
       "      <td>NaN</td>\n",
       "      <td>NaN</td>\n",
       "      <td>NaN</td>\n",
       "      <td>NaN</td>\n",
       "    </tr>\n",
       "  </tbody>\n",
       "</table>\n",
       "</div>"
      ],
      "text/plain": [
       "                      count unique   top freq     mean           std      min  \\\n",
       "messages_included       2.0    NaN   NaN  NaN    525.0    671.751442     50.0   \n",
       "mb_per_month_included   2.0    NaN   NaN  NaN  23040.0  10861.160159  15360.0   \n",
       "minutes_included        2.0    NaN   NaN  NaN   1750.0   1767.766953    500.0   \n",
       "usd_monthly_pay         2.0    NaN   NaN  NaN     45.0     35.355339     20.0   \n",
       "usd_per_gb              2.0    NaN   NaN  NaN      8.5       2.12132      7.0   \n",
       "usd_per_message         2.0    NaN   NaN  NaN     0.02      0.014142     0.01   \n",
       "usd_per_minute          2.0    NaN   NaN  NaN     0.02      0.014142     0.01   \n",
       "plan_name                 2      2  surf    1      NaN           NaN      NaN   \n",
       "\n",
       "                           25%      50%      75%      max  \n",
       "messages_included        287.5    525.0    762.5   1000.0  \n",
       "mb_per_month_included  19200.0  23040.0  26880.0  30720.0  \n",
       "minutes_included        1125.0   1750.0   2375.0   3000.0  \n",
       "usd_monthly_pay           32.5     45.0     57.5     70.0  \n",
       "usd_per_gb                7.75      8.5     9.25     10.0  \n",
       "usd_per_message          0.015     0.02    0.025     0.03  \n",
       "usd_per_minute           0.015     0.02    0.025     0.03  \n",
       "plan_name                  NaN      NaN      NaN      NaN  "
      ]
     },
     "execution_count": 32,
     "metadata": {},
     "output_type": "execute_result"
    }
   ],
   "source": [
    "df_plans.describe(include='all').T\n",
    " "
   ]
  },
  {
   "cell_type": "markdown",
   "id": "8b06fc41",
   "metadata": {},
   "source": [
    "### Users:"
   ]
  },
  {
   "cell_type": "code",
   "execution_count": 33,
   "id": "0bd15352",
   "metadata": {},
   "outputs": [
    {
     "data": {
      "text/html": [
       "<div>\n",
       "<style scoped>\n",
       "    .dataframe tbody tr th:only-of-type {\n",
       "        vertical-align: middle;\n",
       "    }\n",
       "\n",
       "    .dataframe tbody tr th {\n",
       "        vertical-align: top;\n",
       "    }\n",
       "\n",
       "    .dataframe thead th {\n",
       "        text-align: right;\n",
       "    }\n",
       "</style>\n",
       "<table border=\"1\" class=\"dataframe\">\n",
       "  <thead>\n",
       "    <tr style=\"text-align: right;\">\n",
       "      <th></th>\n",
       "      <th>count</th>\n",
       "      <th>unique</th>\n",
       "      <th>top</th>\n",
       "      <th>freq</th>\n",
       "      <th>mean</th>\n",
       "      <th>std</th>\n",
       "      <th>min</th>\n",
       "      <th>25%</th>\n",
       "      <th>50%</th>\n",
       "      <th>75%</th>\n",
       "      <th>max</th>\n",
       "    </tr>\n",
       "  </thead>\n",
       "  <tbody>\n",
       "    <tr>\n",
       "      <th>user_id</th>\n",
       "      <td>500.0</td>\n",
       "      <td>500.0</td>\n",
       "      <td>1000.0</td>\n",
       "      <td>1.0</td>\n",
       "      <td>NaN</td>\n",
       "      <td>NaN</td>\n",
       "      <td>NaN</td>\n",
       "      <td>NaN</td>\n",
       "      <td>NaN</td>\n",
       "      <td>NaN</td>\n",
       "      <td>NaN</td>\n",
       "    </tr>\n",
       "    <tr>\n",
       "      <th>first_name</th>\n",
       "      <td>500</td>\n",
       "      <td>458</td>\n",
       "      <td>Leonila</td>\n",
       "      <td>3</td>\n",
       "      <td>NaN</td>\n",
       "      <td>NaN</td>\n",
       "      <td>NaN</td>\n",
       "      <td>NaN</td>\n",
       "      <td>NaN</td>\n",
       "      <td>NaN</td>\n",
       "      <td>NaN</td>\n",
       "    </tr>\n",
       "    <tr>\n",
       "      <th>last_name</th>\n",
       "      <td>500</td>\n",
       "      <td>399</td>\n",
       "      <td>David</td>\n",
       "      <td>3</td>\n",
       "      <td>NaN</td>\n",
       "      <td>NaN</td>\n",
       "      <td>NaN</td>\n",
       "      <td>NaN</td>\n",
       "      <td>NaN</td>\n",
       "      <td>NaN</td>\n",
       "      <td>NaN</td>\n",
       "    </tr>\n",
       "    <tr>\n",
       "      <th>age</th>\n",
       "      <td>500.0</td>\n",
       "      <td>NaN</td>\n",
       "      <td>NaN</td>\n",
       "      <td>NaN</td>\n",
       "      <td>45.486</td>\n",
       "      <td>16.972269</td>\n",
       "      <td>18.0</td>\n",
       "      <td>30.0</td>\n",
       "      <td>46.0</td>\n",
       "      <td>61.0</td>\n",
       "      <td>75.0</td>\n",
       "    </tr>\n",
       "    <tr>\n",
       "      <th>city</th>\n",
       "      <td>500</td>\n",
       "      <td>73</td>\n",
       "      <td>New York-Newark-Jersey City, NY-NJ-PA MSA</td>\n",
       "      <td>80</td>\n",
       "      <td>NaN</td>\n",
       "      <td>NaN</td>\n",
       "      <td>NaN</td>\n",
       "      <td>NaN</td>\n",
       "      <td>NaN</td>\n",
       "      <td>NaN</td>\n",
       "      <td>NaN</td>\n",
       "    </tr>\n",
       "    <tr>\n",
       "      <th>reg_date</th>\n",
       "      <td>500</td>\n",
       "      <td>266</td>\n",
       "      <td>2018-03-08</td>\n",
       "      <td>5</td>\n",
       "      <td>NaN</td>\n",
       "      <td>NaN</td>\n",
       "      <td>NaN</td>\n",
       "      <td>NaN</td>\n",
       "      <td>NaN</td>\n",
       "      <td>NaN</td>\n",
       "      <td>NaN</td>\n",
       "    </tr>\n",
       "    <tr>\n",
       "      <th>tariff</th>\n",
       "      <td>500</td>\n",
       "      <td>2</td>\n",
       "      <td>surf</td>\n",
       "      <td>339</td>\n",
       "      <td>NaN</td>\n",
       "      <td>NaN</td>\n",
       "      <td>NaN</td>\n",
       "      <td>NaN</td>\n",
       "      <td>NaN</td>\n",
       "      <td>NaN</td>\n",
       "      <td>NaN</td>\n",
       "    </tr>\n",
       "    <tr>\n",
       "      <th>churn_date</th>\n",
       "      <td>34</td>\n",
       "      <td>29</td>\n",
       "      <td>2018-12-18</td>\n",
       "      <td>3</td>\n",
       "      <td>NaN</td>\n",
       "      <td>NaN</td>\n",
       "      <td>NaN</td>\n",
       "      <td>NaN</td>\n",
       "      <td>NaN</td>\n",
       "      <td>NaN</td>\n",
       "      <td>NaN</td>\n",
       "    </tr>\n",
       "  </tbody>\n",
       "</table>\n",
       "</div>"
      ],
      "text/plain": [
       "            count unique                                        top freq  \\\n",
       "user_id     500.0  500.0                                     1000.0  1.0   \n",
       "first_name    500    458                                    Leonila    3   \n",
       "last_name     500    399                                      David    3   \n",
       "age         500.0    NaN                                        NaN  NaN   \n",
       "city          500     73  New York-Newark-Jersey City, NY-NJ-PA MSA   80   \n",
       "reg_date      500    266                                 2018-03-08    5   \n",
       "tariff        500      2                                       surf  339   \n",
       "churn_date     34     29                                 2018-12-18    3   \n",
       "\n",
       "              mean        std   min   25%   50%   75%   max  \n",
       "user_id        NaN        NaN   NaN   NaN   NaN   NaN   NaN  \n",
       "first_name     NaN        NaN   NaN   NaN   NaN   NaN   NaN  \n",
       "last_name      NaN        NaN   NaN   NaN   NaN   NaN   NaN  \n",
       "age         45.486  16.972269  18.0  30.0  46.0  61.0  75.0  \n",
       "city           NaN        NaN   NaN   NaN   NaN   NaN   NaN  \n",
       "reg_date       NaN        NaN   NaN   NaN   NaN   NaN   NaN  \n",
       "tariff         NaN        NaN   NaN   NaN   NaN   NaN   NaN  \n",
       "churn_date     NaN        NaN   NaN   NaN   NaN   NaN   NaN  "
      ]
     },
     "execution_count": 33,
     "metadata": {},
     "output_type": "execute_result"
    }
   ],
   "source": [
    "df_users.describe(include='all').T"
   ]
  },
  {
   "cell_type": "markdown",
   "id": "d946217c",
   "metadata": {},
   "source": [
    "#### No duplicates:"
   ]
  },
  {
   "cell_type": "code",
   "execution_count": 34,
   "id": "f9d77538",
   "metadata": {},
   "outputs": [
    {
     "data": {
      "text/plain": [
       "0"
      ]
     },
     "execution_count": 34,
     "metadata": {},
     "output_type": "execute_result"
    }
   ],
   "source": [
    "# Looking for possible duplicates: None were found\n",
    "df_calls.duplicated().sum()"
   ]
  },
  {
   "cell_type": "code",
   "execution_count": 35,
   "id": "a32205fe",
   "metadata": {},
   "outputs": [
    {
     "data": {
      "text/plain": [
       "0"
      ]
     },
     "execution_count": 35,
     "metadata": {},
     "output_type": "execute_result"
    }
   ],
   "source": [
    "df_internet.duplicated().sum()"
   ]
  },
  {
   "cell_type": "code",
   "execution_count": 36,
   "id": "0af175df",
   "metadata": {},
   "outputs": [
    {
     "data": {
      "text/plain": [
       "0"
      ]
     },
     "execution_count": 36,
     "metadata": {},
     "output_type": "execute_result"
    }
   ],
   "source": [
    "df_messages.duplicated().sum()"
   ]
  },
  {
   "cell_type": "code",
   "execution_count": 37,
   "id": "c9f7cfad",
   "metadata": {},
   "outputs": [
    {
     "data": {
      "text/plain": [
       "0"
      ]
     },
     "execution_count": 37,
     "metadata": {},
     "output_type": "execute_result"
    }
   ],
   "source": [
    "df_users.duplicated().sum()"
   ]
  },
  {
   "cell_type": "code",
   "execution_count": 38,
   "id": "9910c47e",
   "metadata": {},
   "outputs": [
    {
     "data": {
      "text/plain": [
       "0"
      ]
     },
     "execution_count": 38,
     "metadata": {},
     "output_type": "execute_result"
    }
   ],
   "source": [
    "df_plans.duplicated().sum()"
   ]
  },
  {
   "cell_type": "markdown",
   "id": "63e28ba3",
   "metadata": {},
   "source": [
    "## preparing variables for analysis:"
   ]
  },
  {
   "cell_type": "code",
   "execution_count": 39,
   "id": "ed55c06e",
   "metadata": {},
   "outputs": [],
   "source": [
    "# rounding up duration calls:\n",
    "#df_calls['duration'] = [math.ceil(number) for number in df_calls['duration']]\n",
    "#df_calls['duration'] = df_calls['duration'].astype(int)\n",
    "#df_calls.head()"
   ]
  },
  {
   "cell_type": "code",
   "execution_count": 40,
   "id": "44ca5841",
   "metadata": {},
   "outputs": [
    {
     "name": "stderr",
     "output_type": "stream",
     "text": [
      "C:\\Users\\USER\\AppData\\Local\\Temp/ipykernel_7232/533170184.py:2: SettingWithCopyWarning: \n",
      "A value is trying to be set on a copy of a slice from a DataFrame.\n",
      "Try using .loc[row_indexer,col_indexer] = value instead\n",
      "\n",
      "See the caveats in the documentation: https://pandas.pydata.org/pandas-docs/stable/user_guide/indexing.html#returning-a-view-versus-a-copy\n",
      "  df_calls['duration'] = np.ceil(df_calls['duration']).astype(int)\n"
     ]
    },
    {
     "data": {
      "text/html": [
       "<div>\n",
       "<style scoped>\n",
       "    .dataframe tbody tr th:only-of-type {\n",
       "        vertical-align: middle;\n",
       "    }\n",
       "\n",
       "    .dataframe tbody tr th {\n",
       "        vertical-align: top;\n",
       "    }\n",
       "\n",
       "    .dataframe thead th {\n",
       "        text-align: right;\n",
       "    }\n",
       "</style>\n",
       "<table border=\"1\" class=\"dataframe\">\n",
       "  <thead>\n",
       "    <tr style=\"text-align: right;\">\n",
       "      <th></th>\n",
       "      <th>id</th>\n",
       "      <th>user_id</th>\n",
       "      <th>call_date</th>\n",
       "      <th>duration</th>\n",
       "      <th>month</th>\n",
       "    </tr>\n",
       "  </thead>\n",
       "  <tbody>\n",
       "    <tr>\n",
       "      <th>0</th>\n",
       "      <td>1000_93</td>\n",
       "      <td>1000</td>\n",
       "      <td>2018-12-27</td>\n",
       "      <td>9</td>\n",
       "      <td>12</td>\n",
       "    </tr>\n",
       "    <tr>\n",
       "      <th>1</th>\n",
       "      <td>1000_145</td>\n",
       "      <td>1000</td>\n",
       "      <td>2018-12-27</td>\n",
       "      <td>14</td>\n",
       "      <td>12</td>\n",
       "    </tr>\n",
       "    <tr>\n",
       "      <th>2</th>\n",
       "      <td>1000_247</td>\n",
       "      <td>1000</td>\n",
       "      <td>2018-12-27</td>\n",
       "      <td>15</td>\n",
       "      <td>12</td>\n",
       "    </tr>\n",
       "    <tr>\n",
       "      <th>3</th>\n",
       "      <td>1000_309</td>\n",
       "      <td>1000</td>\n",
       "      <td>2018-12-28</td>\n",
       "      <td>6</td>\n",
       "      <td>12</td>\n",
       "    </tr>\n",
       "    <tr>\n",
       "      <th>4</th>\n",
       "      <td>1000_380</td>\n",
       "      <td>1000</td>\n",
       "      <td>2018-12-30</td>\n",
       "      <td>5</td>\n",
       "      <td>12</td>\n",
       "    </tr>\n",
       "  </tbody>\n",
       "</table>\n",
       "</div>"
      ],
      "text/plain": [
       "         id user_id   call_date  duration  month\n",
       "0   1000_93    1000  2018-12-27         9     12\n",
       "1  1000_145    1000  2018-12-27        14     12\n",
       "2  1000_247    1000  2018-12-27        15     12\n",
       "3  1000_309    1000  2018-12-28         6     12\n",
       "4  1000_380    1000  2018-12-30         5     12"
      ]
     },
     "execution_count": 40,
     "metadata": {},
     "output_type": "execute_result"
    }
   ],
   "source": [
    "#(Indeed, much better. Thanks!)\n",
    "df_calls['duration'] = np.ceil(df_calls['duration']).astype(int)\n",
    "df_calls.head()"
   ]
  },
  {
   "cell_type": "code",
   "execution_count": 41,
   "id": "1b1f173d",
   "metadata": {},
   "outputs": [],
   "source": [
    "# changing dtype for reg_date as well:\n",
    "df_users['reg_date'] = pd.to_datetime(df_users['reg_date'])"
   ]
  },
  {
   "cell_type": "code",
   "execution_count": 42,
   "id": "c2c7ddd6",
   "metadata": {},
   "outputs": [],
   "source": [
    "# creating an id to indicate plan name:\n",
    "def plan_id (plan_name):\n",
    "    if plan_name == 'surf':\n",
    "        return 0\n",
    "    elif plan_name == 'ultimate':\n",
    "        return 1\n",
    "    return 2"
   ]
  },
  {
   "cell_type": "code",
   "execution_count": 43,
   "id": "88c59c75",
   "metadata": {},
   "outputs": [
    {
     "data": {
      "text/plain": [
       "Index(['user_id', 'first_name', 'last_name', 'age', 'city', 'reg_date',\n",
       "       'tariff', 'churn_date'],\n",
       "      dtype='object')"
      ]
     },
     "execution_count": 43,
     "metadata": {},
     "output_type": "execute_result"
    }
   ],
   "source": [
    "df_users.columns"
   ]
  },
  {
   "cell_type": "code",
   "execution_count": 44,
   "id": "e9509b85",
   "metadata": {},
   "outputs": [
    {
     "data": {
      "text/plain": [
       "Index(['messages_included', 'mb_per_month_included', 'minutes_included',\n",
       "       'usd_monthly_pay', 'usd_per_gb', 'usd_per_message', 'usd_per_minute',\n",
       "       'plan_name'],\n",
       "      dtype='object')"
      ]
     },
     "execution_count": 44,
     "metadata": {},
     "output_type": "execute_result"
    }
   ],
   "source": [
    "df_plans.columns"
   ]
  },
  {
   "cell_type": "code",
   "execution_count": 45,
   "id": "01929ee6",
   "metadata": {
    "scrolled": false
   },
   "outputs": [
    {
     "data": {
      "text/html": [
       "<div>\n",
       "<style scoped>\n",
       "    .dataframe tbody tr th:only-of-type {\n",
       "        vertical-align: middle;\n",
       "    }\n",
       "\n",
       "    .dataframe tbody tr th {\n",
       "        vertical-align: top;\n",
       "    }\n",
       "\n",
       "    .dataframe thead th {\n",
       "        text-align: right;\n",
       "    }\n",
       "</style>\n",
       "<table border=\"1\" class=\"dataframe\">\n",
       "  <thead>\n",
       "    <tr style=\"text-align: right;\">\n",
       "      <th></th>\n",
       "      <th>user_id</th>\n",
       "      <th>first_name</th>\n",
       "      <th>last_name</th>\n",
       "      <th>age</th>\n",
       "      <th>city</th>\n",
       "      <th>reg_date</th>\n",
       "      <th>tariff</th>\n",
       "      <th>churn_date</th>\n",
       "      <th>plan_name_id</th>\n",
       "    </tr>\n",
       "  </thead>\n",
       "  <tbody>\n",
       "    <tr>\n",
       "      <th>0</th>\n",
       "      <td>1000</td>\n",
       "      <td>Anamaria</td>\n",
       "      <td>Bauer</td>\n",
       "      <td>45</td>\n",
       "      <td>Atlanta-Sandy Springs-Roswell, GA MSA</td>\n",
       "      <td>2018-12-24</td>\n",
       "      <td>ultimate</td>\n",
       "      <td>NaN</td>\n",
       "      <td>1</td>\n",
       "    </tr>\n",
       "    <tr>\n",
       "      <th>1</th>\n",
       "      <td>1001</td>\n",
       "      <td>Mickey</td>\n",
       "      <td>Wilkerson</td>\n",
       "      <td>28</td>\n",
       "      <td>Seattle-Tacoma-Bellevue, WA MSA</td>\n",
       "      <td>2018-08-13</td>\n",
       "      <td>surf</td>\n",
       "      <td>NaN</td>\n",
       "      <td>0</td>\n",
       "    </tr>\n",
       "    <tr>\n",
       "      <th>2</th>\n",
       "      <td>1002</td>\n",
       "      <td>Carlee</td>\n",
       "      <td>Hoffman</td>\n",
       "      <td>36</td>\n",
       "      <td>Las Vegas-Henderson-Paradise, NV MSA</td>\n",
       "      <td>2018-10-21</td>\n",
       "      <td>surf</td>\n",
       "      <td>NaN</td>\n",
       "      <td>0</td>\n",
       "    </tr>\n",
       "    <tr>\n",
       "      <th>3</th>\n",
       "      <td>1003</td>\n",
       "      <td>Reynaldo</td>\n",
       "      <td>Jenkins</td>\n",
       "      <td>52</td>\n",
       "      <td>Tulsa, OK MSA</td>\n",
       "      <td>2018-01-28</td>\n",
       "      <td>surf</td>\n",
       "      <td>NaN</td>\n",
       "      <td>0</td>\n",
       "    </tr>\n",
       "    <tr>\n",
       "      <th>4</th>\n",
       "      <td>1004</td>\n",
       "      <td>Leonila</td>\n",
       "      <td>Thompson</td>\n",
       "      <td>40</td>\n",
       "      <td>Seattle-Tacoma-Bellevue, WA MSA</td>\n",
       "      <td>2018-05-23</td>\n",
       "      <td>surf</td>\n",
       "      <td>NaN</td>\n",
       "      <td>0</td>\n",
       "    </tr>\n",
       "  </tbody>\n",
       "</table>\n",
       "</div>"
      ],
      "text/plain": [
       "  user_id first_name  last_name  age                                   city  \\\n",
       "0    1000   Anamaria      Bauer   45  Atlanta-Sandy Springs-Roswell, GA MSA   \n",
       "1    1001     Mickey  Wilkerson   28        Seattle-Tacoma-Bellevue, WA MSA   \n",
       "2    1002     Carlee    Hoffman   36   Las Vegas-Henderson-Paradise, NV MSA   \n",
       "3    1003   Reynaldo    Jenkins   52                          Tulsa, OK MSA   \n",
       "4    1004    Leonila   Thompson   40        Seattle-Tacoma-Bellevue, WA MSA   \n",
       "\n",
       "    reg_date    tariff churn_date  plan_name_id  \n",
       "0 2018-12-24  ultimate        NaN             1  \n",
       "1 2018-08-13      surf        NaN             0  \n",
       "2 2018-10-21      surf        NaN             0  \n",
       "3 2018-01-28      surf        NaN             0  \n",
       "4 2018-05-23      surf        NaN             0  "
      ]
     },
     "execution_count": 45,
     "metadata": {},
     "output_type": "execute_result"
    }
   ],
   "source": [
    "df_plans['plan_name_id'] = df_plans['plan_name'].apply(plan_id)\n",
    "df_users['plan_name_id'] = df_users['tariff'].apply(plan_id)\n",
    "df_users.head()\n"
   ]
  },
  {
   "cell_type": "markdown",
   "id": "3545887c",
   "metadata": {},
   "source": [
    "### The number of calls made and minutes used per month:\n"
   ]
  },
  {
   "cell_type": "code",
   "execution_count": 46,
   "id": "a5226102",
   "metadata": {},
   "outputs": [
    {
     "data": {
      "text/html": [
       "<div>\n",
       "<style scoped>\n",
       "    .dataframe tbody tr th:only-of-type {\n",
       "        vertical-align: middle;\n",
       "    }\n",
       "\n",
       "    .dataframe tbody tr th {\n",
       "        vertical-align: top;\n",
       "    }\n",
       "\n",
       "    .dataframe thead th {\n",
       "        text-align: right;\n",
       "    }\n",
       "</style>\n",
       "<table border=\"1\" class=\"dataframe\">\n",
       "  <thead>\n",
       "    <tr style=\"text-align: right;\">\n",
       "      <th></th>\n",
       "      <th></th>\n",
       "      <th>monthly_calls</th>\n",
       "      <th>monthly_minutes</th>\n",
       "    </tr>\n",
       "    <tr>\n",
       "      <th>user_id</th>\n",
       "      <th>month</th>\n",
       "      <th></th>\n",
       "      <th></th>\n",
       "    </tr>\n",
       "  </thead>\n",
       "  <tbody>\n",
       "    <tr>\n",
       "      <th>1000</th>\n",
       "      <th>12</th>\n",
       "      <td>16</td>\n",
       "      <td>124</td>\n",
       "    </tr>\n",
       "    <tr>\n",
       "      <th rowspan=\"4\" valign=\"top\">1001</th>\n",
       "      <th>8</th>\n",
       "      <td>22</td>\n",
       "      <td>182</td>\n",
       "    </tr>\n",
       "    <tr>\n",
       "      <th>9</th>\n",
       "      <td>38</td>\n",
       "      <td>315</td>\n",
       "    </tr>\n",
       "    <tr>\n",
       "      <th>10</th>\n",
       "      <td>47</td>\n",
       "      <td>393</td>\n",
       "    </tr>\n",
       "    <tr>\n",
       "      <th>11</th>\n",
       "      <td>49</td>\n",
       "      <td>426</td>\n",
       "    </tr>\n",
       "    <tr>\n",
       "      <th>...</th>\n",
       "      <th>...</th>\n",
       "      <td>...</td>\n",
       "      <td>...</td>\n",
       "    </tr>\n",
       "    <tr>\n",
       "      <th>1498</th>\n",
       "      <th>12</th>\n",
       "      <td>32</td>\n",
       "      <td>339</td>\n",
       "    </tr>\n",
       "    <tr>\n",
       "      <th rowspan=\"4\" valign=\"top\">1499</th>\n",
       "      <th>9</th>\n",
       "      <td>35</td>\n",
       "      <td>346</td>\n",
       "    </tr>\n",
       "    <tr>\n",
       "      <th>10</th>\n",
       "      <td>41</td>\n",
       "      <td>385</td>\n",
       "    </tr>\n",
       "    <tr>\n",
       "      <th>11</th>\n",
       "      <td>39</td>\n",
       "      <td>308</td>\n",
       "    </tr>\n",
       "    <tr>\n",
       "      <th>12</th>\n",
       "      <td>56</td>\n",
       "      <td>496</td>\n",
       "    </tr>\n",
       "  </tbody>\n",
       "</table>\n",
       "<p>2256 rows × 2 columns</p>\n",
       "</div>"
      ],
      "text/plain": [
       "               monthly_calls  monthly_minutes\n",
       "user_id month                                \n",
       "1000    12                16              124\n",
       "1001    8                 22              182\n",
       "        9                 38              315\n",
       "        10                47              393\n",
       "        11                49              426\n",
       "...                      ...              ...\n",
       "1498    12                32              339\n",
       "1499    9                 35              346\n",
       "        10                41              385\n",
       "        11                39              308\n",
       "        12                56              496\n",
       "\n",
       "[2256 rows x 2 columns]"
      ]
     },
     "execution_count": 46,
     "metadata": {},
     "output_type": "execute_result"
    }
   ],
   "source": [
    "df_calls_monthly = df_calls.pivot_table(index=['user_id', 'month'], values='duration', aggfunc=['count', 'sum'])\n",
    "df_calls_monthly.columns=['monthly_calls', 'monthly_minutes']\n",
    "df_calls_monthly"
   ]
  },
  {
   "cell_type": "markdown",
   "id": "4ff35525",
   "metadata": {},
   "source": [
    "### The number of text messages sent per month"
   ]
  },
  {
   "cell_type": "code",
   "execution_count": 47,
   "id": "6c0e41b4",
   "metadata": {},
   "outputs": [
    {
     "data": {
      "text/html": [
       "<div>\n",
       "<style scoped>\n",
       "    .dataframe tbody tr th:only-of-type {\n",
       "        vertical-align: middle;\n",
       "    }\n",
       "\n",
       "    .dataframe tbody tr th {\n",
       "        vertical-align: top;\n",
       "    }\n",
       "\n",
       "    .dataframe thead th {\n",
       "        text-align: right;\n",
       "    }\n",
       "</style>\n",
       "<table border=\"1\" class=\"dataframe\">\n",
       "  <thead>\n",
       "    <tr style=\"text-align: right;\">\n",
       "      <th></th>\n",
       "      <th></th>\n",
       "      <th>monthly_texting</th>\n",
       "    </tr>\n",
       "    <tr>\n",
       "      <th>user_id</th>\n",
       "      <th>month</th>\n",
       "      <th></th>\n",
       "    </tr>\n",
       "  </thead>\n",
       "  <tbody>\n",
       "    <tr>\n",
       "      <th>1000</th>\n",
       "      <th>12</th>\n",
       "      <td>11</td>\n",
       "    </tr>\n",
       "    <tr>\n",
       "      <th rowspan=\"4\" valign=\"top\">1001</th>\n",
       "      <th>8</th>\n",
       "      <td>30</td>\n",
       "    </tr>\n",
       "    <tr>\n",
       "      <th>9</th>\n",
       "      <td>44</td>\n",
       "    </tr>\n",
       "    <tr>\n",
       "      <th>10</th>\n",
       "      <td>53</td>\n",
       "    </tr>\n",
       "    <tr>\n",
       "      <th>11</th>\n",
       "      <td>36</td>\n",
       "    </tr>\n",
       "    <tr>\n",
       "      <th>...</th>\n",
       "      <th>...</th>\n",
       "      <td>...</td>\n",
       "    </tr>\n",
       "    <tr>\n",
       "      <th rowspan=\"4\" valign=\"top\">1496</th>\n",
       "      <th>9</th>\n",
       "      <td>21</td>\n",
       "    </tr>\n",
       "    <tr>\n",
       "      <th>10</th>\n",
       "      <td>18</td>\n",
       "    </tr>\n",
       "    <tr>\n",
       "      <th>11</th>\n",
       "      <td>13</td>\n",
       "    </tr>\n",
       "    <tr>\n",
       "      <th>12</th>\n",
       "      <td>11</td>\n",
       "    </tr>\n",
       "    <tr>\n",
       "      <th>1497</th>\n",
       "      <th>12</th>\n",
       "      <td>50</td>\n",
       "    </tr>\n",
       "  </tbody>\n",
       "</table>\n",
       "<p>1806 rows × 1 columns</p>\n",
       "</div>"
      ],
      "text/plain": [
       "               monthly_texting\n",
       "user_id month                 \n",
       "1000    12                  11\n",
       "1001    8                   30\n",
       "        9                   44\n",
       "        10                  53\n",
       "        11                  36\n",
       "...                        ...\n",
       "1496    9                   21\n",
       "        10                  18\n",
       "        11                  13\n",
       "        12                  11\n",
       "1497    12                  50\n",
       "\n",
       "[1806 rows x 1 columns]"
      ]
     },
     "execution_count": 47,
     "metadata": {},
     "output_type": "execute_result"
    }
   ],
   "source": [
    "df_messages_monthly = df_messages.pivot_table(index=['user_id', 'month'], values='id', aggfunc='count')\n",
    "df_messages_monthly.columns=['monthly_texting']\n",
    "df_messages_monthly"
   ]
  },
  {
   "cell_type": "markdown",
   "id": "cfd8a3fe",
   "metadata": {},
   "source": [
    "### The volume of data per month"
   ]
  },
  {
   "cell_type": "code",
   "execution_count": 48,
   "id": "4fbf5b45",
   "metadata": {},
   "outputs": [
    {
     "data": {
      "text/html": [
       "<div>\n",
       "<style scoped>\n",
       "    .dataframe tbody tr th:only-of-type {\n",
       "        vertical-align: middle;\n",
       "    }\n",
       "\n",
       "    .dataframe tbody tr th {\n",
       "        vertical-align: top;\n",
       "    }\n",
       "\n",
       "    .dataframe thead th {\n",
       "        text-align: right;\n",
       "    }\n",
       "</style>\n",
       "<table border=\"1\" class=\"dataframe\">\n",
       "  <thead>\n",
       "    <tr style=\"text-align: right;\">\n",
       "      <th></th>\n",
       "      <th></th>\n",
       "      <th>monthly_data_volume_mb</th>\n",
       "    </tr>\n",
       "    <tr>\n",
       "      <th>user_id</th>\n",
       "      <th>month</th>\n",
       "      <th></th>\n",
       "    </tr>\n",
       "  </thead>\n",
       "  <tbody>\n",
       "    <tr>\n",
       "      <th>1000</th>\n",
       "      <th>12</th>\n",
       "      <td>1901.47</td>\n",
       "    </tr>\n",
       "    <tr>\n",
       "      <th rowspan=\"4\" valign=\"top\">1001</th>\n",
       "      <th>8</th>\n",
       "      <td>6919.15</td>\n",
       "    </tr>\n",
       "    <tr>\n",
       "      <th>9</th>\n",
       "      <td>13314.82</td>\n",
       "    </tr>\n",
       "    <tr>\n",
       "      <th>10</th>\n",
       "      <td>22330.49</td>\n",
       "    </tr>\n",
       "    <tr>\n",
       "      <th>11</th>\n",
       "      <td>18504.30</td>\n",
       "    </tr>\n",
       "    <tr>\n",
       "      <th>...</th>\n",
       "      <th>...</th>\n",
       "      <td>...</td>\n",
       "    </tr>\n",
       "    <tr>\n",
       "      <th>1498</th>\n",
       "      <th>12</th>\n",
       "      <td>23137.69</td>\n",
       "    </tr>\n",
       "    <tr>\n",
       "      <th rowspan=\"4\" valign=\"top\">1499</th>\n",
       "      <th>9</th>\n",
       "      <td>12984.76</td>\n",
       "    </tr>\n",
       "    <tr>\n",
       "      <th>10</th>\n",
       "      <td>19492.43</td>\n",
       "    </tr>\n",
       "    <tr>\n",
       "      <th>11</th>\n",
       "      <td>16813.83</td>\n",
       "    </tr>\n",
       "    <tr>\n",
       "      <th>12</th>\n",
       "      <td>22059.21</td>\n",
       "    </tr>\n",
       "  </tbody>\n",
       "</table>\n",
       "<p>2277 rows × 1 columns</p>\n",
       "</div>"
      ],
      "text/plain": [
       "               monthly_data_volume_mb\n",
       "user_id month                        \n",
       "1000    12                    1901.47\n",
       "1001    8                     6919.15\n",
       "        9                    13314.82\n",
       "        10                   22330.49\n",
       "        11                   18504.30\n",
       "...                               ...\n",
       "1498    12                   23137.69\n",
       "1499    9                    12984.76\n",
       "        10                   19492.43\n",
       "        11                   16813.83\n",
       "        12                   22059.21\n",
       "\n",
       "[2277 rows x 1 columns]"
      ]
     },
     "execution_count": 48,
     "metadata": {},
     "output_type": "execute_result"
    }
   ],
   "source": [
    "df_internet_monthly = df_internet.pivot_table(index=['user_id', 'month'], values='mb_used', aggfunc='sum')\n",
    "df_internet_monthly.columns=['monthly_data_volume_mb']\n",
    "df_internet_monthly\n"
   ]
  },
  {
   "cell_type": "code",
   "execution_count": 49,
   "id": "e90c4e81",
   "metadata": {},
   "outputs": [
    {
     "data": {
      "text/html": [
       "<div>\n",
       "<style scoped>\n",
       "    .dataframe tbody tr th:only-of-type {\n",
       "        vertical-align: middle;\n",
       "    }\n",
       "\n",
       "    .dataframe tbody tr th {\n",
       "        vertical-align: top;\n",
       "    }\n",
       "\n",
       "    .dataframe thead th {\n",
       "        text-align: right;\n",
       "    }\n",
       "</style>\n",
       "<table border=\"1\" class=\"dataframe\">\n",
       "  <thead>\n",
       "    <tr style=\"text-align: right;\">\n",
       "      <th></th>\n",
       "      <th></th>\n",
       "      <th>monthly_data_volume_mb</th>\n",
       "      <th>monthly_gb_used</th>\n",
       "    </tr>\n",
       "    <tr>\n",
       "      <th>user_id</th>\n",
       "      <th>month</th>\n",
       "      <th></th>\n",
       "      <th></th>\n",
       "    </tr>\n",
       "  </thead>\n",
       "  <tbody>\n",
       "    <tr>\n",
       "      <th>1000</th>\n",
       "      <th>12</th>\n",
       "      <td>1901.47</td>\n",
       "      <td>1.90147</td>\n",
       "    </tr>\n",
       "    <tr>\n",
       "      <th rowspan=\"4\" valign=\"top\">1001</th>\n",
       "      <th>8</th>\n",
       "      <td>6919.15</td>\n",
       "      <td>6.91915</td>\n",
       "    </tr>\n",
       "    <tr>\n",
       "      <th>9</th>\n",
       "      <td>13314.82</td>\n",
       "      <td>13.31482</td>\n",
       "    </tr>\n",
       "    <tr>\n",
       "      <th>10</th>\n",
       "      <td>22330.49</td>\n",
       "      <td>22.33049</td>\n",
       "    </tr>\n",
       "    <tr>\n",
       "      <th>11</th>\n",
       "      <td>18504.30</td>\n",
       "      <td>18.50430</td>\n",
       "    </tr>\n",
       "    <tr>\n",
       "      <th>...</th>\n",
       "      <th>...</th>\n",
       "      <td>...</td>\n",
       "      <td>...</td>\n",
       "    </tr>\n",
       "    <tr>\n",
       "      <th>1498</th>\n",
       "      <th>12</th>\n",
       "      <td>23137.69</td>\n",
       "      <td>23.13769</td>\n",
       "    </tr>\n",
       "    <tr>\n",
       "      <th rowspan=\"4\" valign=\"top\">1499</th>\n",
       "      <th>9</th>\n",
       "      <td>12984.76</td>\n",
       "      <td>12.98476</td>\n",
       "    </tr>\n",
       "    <tr>\n",
       "      <th>10</th>\n",
       "      <td>19492.43</td>\n",
       "      <td>19.49243</td>\n",
       "    </tr>\n",
       "    <tr>\n",
       "      <th>11</th>\n",
       "      <td>16813.83</td>\n",
       "      <td>16.81383</td>\n",
       "    </tr>\n",
       "    <tr>\n",
       "      <th>12</th>\n",
       "      <td>22059.21</td>\n",
       "      <td>22.05921</td>\n",
       "    </tr>\n",
       "  </tbody>\n",
       "</table>\n",
       "<p>2277 rows × 2 columns</p>\n",
       "</div>"
      ],
      "text/plain": [
       "               monthly_data_volume_mb  monthly_gb_used\n",
       "user_id month                                         \n",
       "1000    12                    1901.47          1.90147\n",
       "1001    8                     6919.15          6.91915\n",
       "        9                    13314.82         13.31482\n",
       "        10                   22330.49         22.33049\n",
       "        11                   18504.30         18.50430\n",
       "...                               ...              ...\n",
       "1498    12                   23137.69         23.13769\n",
       "1499    9                    12984.76         12.98476\n",
       "        10                   19492.43         19.49243\n",
       "        11                   16813.83         16.81383\n",
       "        12                   22059.21         22.05921\n",
       "\n",
       "[2277 rows x 2 columns]"
      ]
     },
     "execution_count": 49,
     "metadata": {},
     "output_type": "execute_result"
    }
   ],
   "source": [
    "# Transforming mb to gb:\n",
    "mb_to_gb = 0.001\n",
    "df_internet_monthly['monthly_gb_used'] = df_internet_monthly['monthly_data_volume_mb'] * mb_to_gb\n",
    "df_internet_monthly"
   ]
  },
  {
   "cell_type": "code",
   "execution_count": 50,
   "id": "91951493",
   "metadata": {},
   "outputs": [
    {
     "data": {
      "text/html": [
       "<div>\n",
       "<style scoped>\n",
       "    .dataframe tbody tr th:only-of-type {\n",
       "        vertical-align: middle;\n",
       "    }\n",
       "\n",
       "    .dataframe tbody tr th {\n",
       "        vertical-align: top;\n",
       "    }\n",
       "\n",
       "    .dataframe thead th {\n",
       "        text-align: right;\n",
       "    }\n",
       "</style>\n",
       "<table border=\"1\" class=\"dataframe\">\n",
       "  <thead>\n",
       "    <tr style=\"text-align: right;\">\n",
       "      <th></th>\n",
       "      <th></th>\n",
       "      <th>monthly_data_volume_mb</th>\n",
       "      <th>monthly_gb_used</th>\n",
       "    </tr>\n",
       "    <tr>\n",
       "      <th>user_id</th>\n",
       "      <th>month</th>\n",
       "      <th></th>\n",
       "      <th></th>\n",
       "    </tr>\n",
       "  </thead>\n",
       "  <tbody>\n",
       "    <tr>\n",
       "      <th>1000</th>\n",
       "      <th>12</th>\n",
       "      <td>1901.47</td>\n",
       "      <td>2</td>\n",
       "    </tr>\n",
       "    <tr>\n",
       "      <th rowspan=\"4\" valign=\"top\">1001</th>\n",
       "      <th>8</th>\n",
       "      <td>6919.15</td>\n",
       "      <td>7</td>\n",
       "    </tr>\n",
       "    <tr>\n",
       "      <th>9</th>\n",
       "      <td>13314.82</td>\n",
       "      <td>14</td>\n",
       "    </tr>\n",
       "    <tr>\n",
       "      <th>10</th>\n",
       "      <td>22330.49</td>\n",
       "      <td>23</td>\n",
       "    </tr>\n",
       "    <tr>\n",
       "      <th>11</th>\n",
       "      <td>18504.30</td>\n",
       "      <td>19</td>\n",
       "    </tr>\n",
       "  </tbody>\n",
       "</table>\n",
       "</div>"
      ],
      "text/plain": [
       "               monthly_data_volume_mb  monthly_gb_used\n",
       "user_id month                                         \n",
       "1000    12                    1901.47                2\n",
       "1001    8                     6919.15                7\n",
       "        9                    13314.82               14\n",
       "        10                   22330.49               23\n",
       "        11                   18504.30               19"
      ]
     },
     "execution_count": 50,
     "metadata": {},
     "output_type": "execute_result"
    }
   ],
   "source": [
    "# rounding up the monthly data volume for each user:\n",
    "df_internet_monthly['monthly_gb_used'] = np.ceil(df_internet_monthly['monthly_gb_used']).astype(int)\n",
    "\n",
    "df_internet_monthly.head()"
   ]
  },
  {
   "cell_type": "markdown",
   "id": "a2fc5525",
   "metadata": {},
   "source": [
    "### Merging data-sets:"
   ]
  },
  {
   "cell_type": "code",
   "execution_count": 51,
   "id": "3be04db3",
   "metadata": {},
   "outputs": [],
   "source": [
    "data_frames = [df_calls_monthly, df_messages_monthly, df_internet_monthly]\n",
    "df_merged = reduce(lambda left, right:pd.merge(left, right, on=['user_id', 'month'], how='outer'), data_frames).reset_index()"
   ]
  },
  {
   "cell_type": "code",
   "execution_count": 52,
   "id": "1ecd29a6",
   "metadata": {},
   "outputs": [
    {
     "name": "stdout",
     "output_type": "stream",
     "text": [
      "2293\n"
     ]
    }
   ],
   "source": [
    "print(len(df_merged))"
   ]
  },
  {
   "cell_type": "code",
   "execution_count": 53,
   "id": "93f9e85e",
   "metadata": {},
   "outputs": [],
   "source": [
    "df_merged = pd.merge(left=df_merged, right=df_users, how='left', on='user_id')\n"
   ]
  },
  {
   "cell_type": "code",
   "execution_count": 54,
   "id": "6afeedbe",
   "metadata": {},
   "outputs": [
    {
     "data": {
      "text/html": [
       "<div>\n",
       "<style scoped>\n",
       "    .dataframe tbody tr th:only-of-type {\n",
       "        vertical-align: middle;\n",
       "    }\n",
       "\n",
       "    .dataframe tbody tr th {\n",
       "        vertical-align: top;\n",
       "    }\n",
       "\n",
       "    .dataframe thead th {\n",
       "        text-align: right;\n",
       "    }\n",
       "</style>\n",
       "<table border=\"1\" class=\"dataframe\">\n",
       "  <thead>\n",
       "    <tr style=\"text-align: right;\">\n",
       "      <th></th>\n",
       "      <th>user_id</th>\n",
       "      <th>month</th>\n",
       "      <th>monthly_calls</th>\n",
       "      <th>monthly_minutes</th>\n",
       "      <th>monthly_texting</th>\n",
       "      <th>monthly_data_volume_mb</th>\n",
       "      <th>monthly_gb_used</th>\n",
       "      <th>first_name</th>\n",
       "      <th>last_name</th>\n",
       "      <th>age</th>\n",
       "      <th>city</th>\n",
       "      <th>reg_date</th>\n",
       "      <th>tariff</th>\n",
       "      <th>churn_date</th>\n",
       "      <th>plan_name_id</th>\n",
       "    </tr>\n",
       "  </thead>\n",
       "  <tbody>\n",
       "    <tr>\n",
       "      <th>2288</th>\n",
       "      <td>1407</td>\n",
       "      <td>11</td>\n",
       "      <td>NaN</td>\n",
       "      <td>NaN</td>\n",
       "      <td>1.0</td>\n",
       "      <td>290.06</td>\n",
       "      <td>1.0</td>\n",
       "      <td>Tristan</td>\n",
       "      <td>Daugherty</td>\n",
       "      <td>27</td>\n",
       "      <td>New York-Newark-Jersey City, NY-NJ-PA MSA</td>\n",
       "      <td>2018-11-29</td>\n",
       "      <td>ultimate</td>\n",
       "      <td>NaN</td>\n",
       "      <td>1</td>\n",
       "    </tr>\n",
       "    <tr>\n",
       "      <th>2289</th>\n",
       "      <td>1482</td>\n",
       "      <td>10</td>\n",
       "      <td>NaN</td>\n",
       "      <td>NaN</td>\n",
       "      <td>2.0</td>\n",
       "      <td>NaN</td>\n",
       "      <td>NaN</td>\n",
       "      <td>Armand</td>\n",
       "      <td>Glenn</td>\n",
       "      <td>70</td>\n",
       "      <td>New York-Newark-Jersey City, NY-NJ-PA MSA</td>\n",
       "      <td>2018-01-01</td>\n",
       "      <td>ultimate</td>\n",
       "      <td>NaN</td>\n",
       "      <td>1</td>\n",
       "    </tr>\n",
       "    <tr>\n",
       "      <th>2290</th>\n",
       "      <td>1094</td>\n",
       "      <td>10</td>\n",
       "      <td>NaN</td>\n",
       "      <td>NaN</td>\n",
       "      <td>NaN</td>\n",
       "      <td>1728.71</td>\n",
       "      <td>2.0</td>\n",
       "      <td>Walter</td>\n",
       "      <td>Petersen</td>\n",
       "      <td>54</td>\n",
       "      <td>Los Angeles-Long Beach-Anaheim, CA MSA</td>\n",
       "      <td>2018-10-30</td>\n",
       "      <td>surf</td>\n",
       "      <td>2018-12-12</td>\n",
       "      <td>0</td>\n",
       "    </tr>\n",
       "    <tr>\n",
       "      <th>2291</th>\n",
       "      <td>1108</td>\n",
       "      <td>12</td>\n",
       "      <td>NaN</td>\n",
       "      <td>NaN</td>\n",
       "      <td>NaN</td>\n",
       "      <td>233.17</td>\n",
       "      <td>1.0</td>\n",
       "      <td>Porfirio</td>\n",
       "      <td>Kane</td>\n",
       "      <td>45</td>\n",
       "      <td>Salt Lake City, UT MSA</td>\n",
       "      <td>2018-12-30</td>\n",
       "      <td>ultimate</td>\n",
       "      <td>NaN</td>\n",
       "      <td>1</td>\n",
       "    </tr>\n",
       "    <tr>\n",
       "      <th>2292</th>\n",
       "      <td>1311</td>\n",
       "      <td>6</td>\n",
       "      <td>NaN</td>\n",
       "      <td>NaN</td>\n",
       "      <td>NaN</td>\n",
       "      <td>1498.83</td>\n",
       "      <td>2.0</td>\n",
       "      <td>Cherlyn</td>\n",
       "      <td>Saunders</td>\n",
       "      <td>69</td>\n",
       "      <td>Memphis, TN-MS-AR MSA</td>\n",
       "      <td>2018-06-27</td>\n",
       "      <td>ultimate</td>\n",
       "      <td>NaN</td>\n",
       "      <td>1</td>\n",
       "    </tr>\n",
       "  </tbody>\n",
       "</table>\n",
       "</div>"
      ],
      "text/plain": [
       "     user_id  month  monthly_calls  monthly_minutes  monthly_texting  \\\n",
       "2288    1407     11            NaN              NaN              1.0   \n",
       "2289    1482     10            NaN              NaN              2.0   \n",
       "2290    1094     10            NaN              NaN              NaN   \n",
       "2291    1108     12            NaN              NaN              NaN   \n",
       "2292    1311      6            NaN              NaN              NaN   \n",
       "\n",
       "      monthly_data_volume_mb  monthly_gb_used first_name  last_name  age  \\\n",
       "2288                  290.06              1.0    Tristan  Daugherty   27   \n",
       "2289                     NaN              NaN     Armand      Glenn   70   \n",
       "2290                 1728.71              2.0     Walter   Petersen   54   \n",
       "2291                  233.17              1.0   Porfirio       Kane   45   \n",
       "2292                 1498.83              2.0    Cherlyn   Saunders   69   \n",
       "\n",
       "                                           city   reg_date    tariff  \\\n",
       "2288  New York-Newark-Jersey City, NY-NJ-PA MSA 2018-11-29  ultimate   \n",
       "2289  New York-Newark-Jersey City, NY-NJ-PA MSA 2018-01-01  ultimate   \n",
       "2290     Los Angeles-Long Beach-Anaheim, CA MSA 2018-10-30      surf   \n",
       "2291                     Salt Lake City, UT MSA 2018-12-30  ultimate   \n",
       "2292                      Memphis, TN-MS-AR MSA 2018-06-27  ultimate   \n",
       "\n",
       "      churn_date  plan_name_id  \n",
       "2288         NaN             1  \n",
       "2289         NaN             1  \n",
       "2290  2018-12-12             0  \n",
       "2291         NaN             1  \n",
       "2292         NaN             1  "
      ]
     },
     "execution_count": 54,
     "metadata": {},
     "output_type": "execute_result"
    }
   ],
   "source": [
    "df_merged.tail()"
   ]
  },
  {
   "cell_type": "code",
   "execution_count": 55,
   "id": "a0677550",
   "metadata": {
    "scrolled": true
   },
   "outputs": [
    {
     "data": {
      "text/html": [
       "<div>\n",
       "<style scoped>\n",
       "    .dataframe tbody tr th:only-of-type {\n",
       "        vertical-align: middle;\n",
       "    }\n",
       "\n",
       "    .dataframe tbody tr th {\n",
       "        vertical-align: top;\n",
       "    }\n",
       "\n",
       "    .dataframe thead th {\n",
       "        text-align: right;\n",
       "    }\n",
       "</style>\n",
       "<table border=\"1\" class=\"dataframe\">\n",
       "  <thead>\n",
       "    <tr style=\"text-align: right;\">\n",
       "      <th></th>\n",
       "      <th>messages_included</th>\n",
       "      <th>mb_per_month_included</th>\n",
       "      <th>minutes_included</th>\n",
       "      <th>usd_monthly_pay</th>\n",
       "      <th>usd_per_gb</th>\n",
       "      <th>usd_per_message</th>\n",
       "      <th>usd_per_minute</th>\n",
       "      <th>plan_name</th>\n",
       "      <th>plan_name_id</th>\n",
       "    </tr>\n",
       "  </thead>\n",
       "  <tbody>\n",
       "    <tr>\n",
       "      <th>0</th>\n",
       "      <td>50</td>\n",
       "      <td>15360</td>\n",
       "      <td>500</td>\n",
       "      <td>20.0</td>\n",
       "      <td>10.0</td>\n",
       "      <td>0.03</td>\n",
       "      <td>0.03</td>\n",
       "      <td>surf</td>\n",
       "      <td>0</td>\n",
       "    </tr>\n",
       "    <tr>\n",
       "      <th>1</th>\n",
       "      <td>1000</td>\n",
       "      <td>30720</td>\n",
       "      <td>3000</td>\n",
       "      <td>70.0</td>\n",
       "      <td>7.0</td>\n",
       "      <td>0.01</td>\n",
       "      <td>0.01</td>\n",
       "      <td>ultimate</td>\n",
       "      <td>1</td>\n",
       "    </tr>\n",
       "  </tbody>\n",
       "</table>\n",
       "</div>"
      ],
      "text/plain": [
       "   messages_included  mb_per_month_included  minutes_included  \\\n",
       "0                 50                  15360               500   \n",
       "1               1000                  30720              3000   \n",
       "\n",
       "   usd_monthly_pay  usd_per_gb  usd_per_message  usd_per_minute plan_name  \\\n",
       "0             20.0        10.0             0.03            0.03      surf   \n",
       "1             70.0         7.0             0.01            0.01  ultimate   \n",
       "\n",
       "   plan_name_id  \n",
       "0             0  \n",
       "1             1  "
      ]
     },
     "execution_count": 55,
     "metadata": {},
     "output_type": "execute_result"
    }
   ],
   "source": [
    "df_plans.head(2)"
   ]
  },
  {
   "cell_type": "markdown",
   "id": "8e70d035",
   "metadata": {},
   "source": [
    "### The monthly revenue from each user"
   ]
  },
  {
   "cell_type": "code",
   "execution_count": 56,
   "id": "6e4601ab",
   "metadata": {},
   "outputs": [
    {
     "data": {
      "text/plain": [
       "Index(['user_id', 'month', 'monthly_calls', 'monthly_minutes',\n",
       "       'monthly_texting', 'monthly_data_volume_mb', 'monthly_gb_used',\n",
       "       'first_name', 'last_name', 'age', 'city', 'reg_date', 'tariff',\n",
       "       'churn_date', 'plan_name_id'],\n",
       "      dtype='object')"
      ]
     },
     "execution_count": 56,
     "metadata": {},
     "output_type": "execute_result"
    }
   ],
   "source": [
    "df_merged.columns\n"
   ]
  },
  {
   "cell_type": "code",
   "execution_count": 57,
   "id": "baab391d",
   "metadata": {},
   "outputs": [],
   "source": [
    "# a function to calculate the total cost for each user:\n",
    "\n",
    "def cost (row):\n",
    "    calls = row['monthly_minutes']\n",
    "    messages = row['monthly_texting']\n",
    "    internet_gb = row['monthly_gb_used']\n",
    "    internet_mb = row['monthly_data_volume_mb']\n",
    "    plan = row['tariff']\n",
    "    plan_cost = 0\n",
    "    call_cost = 0\n",
    "    message_cost = 0\n",
    "    internet_cost = 0\n",
    "    total_cost = 0\n",
    "    gb_included_ulti = 30\n",
    "    gb_included_surf = 15\n",
    "    if plan == 'ultimate':\n",
    "        plan_cost = df_plans['usd_monthly_pay'].max()\n",
    "        if calls > df_plans['minutes_included'].max():\n",
    "            call_cost = (calls - df_plans['minutes_included'].max()* df_plans['usd_per_minute'].min())\n",
    "        if messages > df_plans['messages_included'].max():\n",
    "            message_cost = (messages - df_plans['messages_included'].max() * df_plans['usd_per_message'].min())\n",
    "        if internet_mb > df_plans['mb_per_month_included'].max():\n",
    "            internet_cost = (internet_gb - gb_included_ulti) * df_plans['usd_per_gb'].min()\n",
    "    elif plan == 'surf':\n",
    "        plan_cost = df_plans['usd_monthly_pay'].min()\n",
    "        if calls > df_plans['minutes_included'].min():\n",
    "            call_cost = (calls - df_plans['minutes_included'].min()* df_plans['usd_per_minute'].max())\n",
    "        if messages > df_plans['messages_included'].min():\n",
    "            message_cost = (messages - df_plans['messages_included'].min() * df_plans['usd_per_message'].max())\n",
    "        if internet_mb > df_plans['mb_per_month_included'].min():\n",
    "            internet_cost = (internet_gb - gb_included_surf) * df_plans['usd_per_gb'].max()\n",
    "        \n",
    "    total_cost = plan_cost + call_cost + message_cost + internet_cost\n",
    "    return total_cost"
   ]
  },
  {
   "cell_type": "code",
   "execution_count": 58,
   "id": "437f8e63",
   "metadata": {},
   "outputs": [
    {
     "data": {
      "text/html": [
       "<div>\n",
       "<style scoped>\n",
       "    .dataframe tbody tr th:only-of-type {\n",
       "        vertical-align: middle;\n",
       "    }\n",
       "\n",
       "    .dataframe tbody tr th {\n",
       "        vertical-align: top;\n",
       "    }\n",
       "\n",
       "    .dataframe thead th {\n",
       "        text-align: right;\n",
       "    }\n",
       "</style>\n",
       "<table border=\"1\" class=\"dataframe\">\n",
       "  <thead>\n",
       "    <tr style=\"text-align: right;\">\n",
       "      <th></th>\n",
       "      <th>user_id</th>\n",
       "      <th>month</th>\n",
       "      <th>monthly_calls</th>\n",
       "      <th>monthly_minutes</th>\n",
       "      <th>monthly_texting</th>\n",
       "      <th>monthly_data_volume_mb</th>\n",
       "      <th>monthly_gb_used</th>\n",
       "      <th>first_name</th>\n",
       "      <th>last_name</th>\n",
       "      <th>age</th>\n",
       "      <th>city</th>\n",
       "      <th>reg_date</th>\n",
       "      <th>tariff</th>\n",
       "      <th>churn_date</th>\n",
       "      <th>plan_name_id</th>\n",
       "      <th>total_cost</th>\n",
       "    </tr>\n",
       "  </thead>\n",
       "  <tbody>\n",
       "    <tr>\n",
       "      <th>0</th>\n",
       "      <td>1000</td>\n",
       "      <td>12</td>\n",
       "      <td>16.0</td>\n",
       "      <td>124.0</td>\n",
       "      <td>11.0</td>\n",
       "      <td>1901.47</td>\n",
       "      <td>2.0</td>\n",
       "      <td>Anamaria</td>\n",
       "      <td>Bauer</td>\n",
       "      <td>45</td>\n",
       "      <td>Atlanta-Sandy Springs-Roswell, GA MSA</td>\n",
       "      <td>2018-12-24</td>\n",
       "      <td>ultimate</td>\n",
       "      <td>NaN</td>\n",
       "      <td>1</td>\n",
       "      <td>70.0</td>\n",
       "    </tr>\n",
       "    <tr>\n",
       "      <th>1</th>\n",
       "      <td>1001</td>\n",
       "      <td>8</td>\n",
       "      <td>22.0</td>\n",
       "      <td>182.0</td>\n",
       "      <td>30.0</td>\n",
       "      <td>6919.15</td>\n",
       "      <td>7.0</td>\n",
       "      <td>Mickey</td>\n",
       "      <td>Wilkerson</td>\n",
       "      <td>28</td>\n",
       "      <td>Seattle-Tacoma-Bellevue, WA MSA</td>\n",
       "      <td>2018-08-13</td>\n",
       "      <td>surf</td>\n",
       "      <td>NaN</td>\n",
       "      <td>0</td>\n",
       "      <td>20.0</td>\n",
       "    </tr>\n",
       "    <tr>\n",
       "      <th>2</th>\n",
       "      <td>1001</td>\n",
       "      <td>9</td>\n",
       "      <td>38.0</td>\n",
       "      <td>315.0</td>\n",
       "      <td>44.0</td>\n",
       "      <td>13314.82</td>\n",
       "      <td>14.0</td>\n",
       "      <td>Mickey</td>\n",
       "      <td>Wilkerson</td>\n",
       "      <td>28</td>\n",
       "      <td>Seattle-Tacoma-Bellevue, WA MSA</td>\n",
       "      <td>2018-08-13</td>\n",
       "      <td>surf</td>\n",
       "      <td>NaN</td>\n",
       "      <td>0</td>\n",
       "      <td>20.0</td>\n",
       "    </tr>\n",
       "    <tr>\n",
       "      <th>3</th>\n",
       "      <td>1001</td>\n",
       "      <td>10</td>\n",
       "      <td>47.0</td>\n",
       "      <td>393.0</td>\n",
       "      <td>53.0</td>\n",
       "      <td>22330.49</td>\n",
       "      <td>23.0</td>\n",
       "      <td>Mickey</td>\n",
       "      <td>Wilkerson</td>\n",
       "      <td>28</td>\n",
       "      <td>Seattle-Tacoma-Bellevue, WA MSA</td>\n",
       "      <td>2018-08-13</td>\n",
       "      <td>surf</td>\n",
       "      <td>NaN</td>\n",
       "      <td>0</td>\n",
       "      <td>151.5</td>\n",
       "    </tr>\n",
       "    <tr>\n",
       "      <th>4</th>\n",
       "      <td>1001</td>\n",
       "      <td>11</td>\n",
       "      <td>49.0</td>\n",
       "      <td>426.0</td>\n",
       "      <td>36.0</td>\n",
       "      <td>18504.30</td>\n",
       "      <td>19.0</td>\n",
       "      <td>Mickey</td>\n",
       "      <td>Wilkerson</td>\n",
       "      <td>28</td>\n",
       "      <td>Seattle-Tacoma-Bellevue, WA MSA</td>\n",
       "      <td>2018-08-13</td>\n",
       "      <td>surf</td>\n",
       "      <td>NaN</td>\n",
       "      <td>0</td>\n",
       "      <td>60.0</td>\n",
       "    </tr>\n",
       "  </tbody>\n",
       "</table>\n",
       "</div>"
      ],
      "text/plain": [
       "  user_id  month  monthly_calls  monthly_minutes  monthly_texting  \\\n",
       "0    1000     12           16.0            124.0             11.0   \n",
       "1    1001      8           22.0            182.0             30.0   \n",
       "2    1001      9           38.0            315.0             44.0   \n",
       "3    1001     10           47.0            393.0             53.0   \n",
       "4    1001     11           49.0            426.0             36.0   \n",
       "\n",
       "   monthly_data_volume_mb  monthly_gb_used first_name  last_name  age  \\\n",
       "0                 1901.47              2.0   Anamaria      Bauer   45   \n",
       "1                 6919.15              7.0     Mickey  Wilkerson   28   \n",
       "2                13314.82             14.0     Mickey  Wilkerson   28   \n",
       "3                22330.49             23.0     Mickey  Wilkerson   28   \n",
       "4                18504.30             19.0     Mickey  Wilkerson   28   \n",
       "\n",
       "                                    city   reg_date    tariff churn_date  \\\n",
       "0  Atlanta-Sandy Springs-Roswell, GA MSA 2018-12-24  ultimate        NaN   \n",
       "1        Seattle-Tacoma-Bellevue, WA MSA 2018-08-13      surf        NaN   \n",
       "2        Seattle-Tacoma-Bellevue, WA MSA 2018-08-13      surf        NaN   \n",
       "3        Seattle-Tacoma-Bellevue, WA MSA 2018-08-13      surf        NaN   \n",
       "4        Seattle-Tacoma-Bellevue, WA MSA 2018-08-13      surf        NaN   \n",
       "\n",
       "   plan_name_id  total_cost  \n",
       "0             1        70.0  \n",
       "1             0        20.0  \n",
       "2             0        20.0  \n",
       "3             0       151.5  \n",
       "4             0        60.0  "
      ]
     },
     "execution_count": 58,
     "metadata": {},
     "output_type": "execute_result"
    }
   ],
   "source": [
    "df_merged['total_cost'] = df_merged.apply(cost, axis=1)\n",
    "df_merged.head()"
   ]
  },
  {
   "cell_type": "code",
   "execution_count": 59,
   "id": "1d77464b",
   "metadata": {},
   "outputs": [
    {
     "data": {
      "text/plain": [
       "user_id                   0.000000\n",
       "month                     0.000000\n",
       "monthly_calls             0.016136\n",
       "monthly_minutes           0.016136\n",
       "monthly_texting           0.212386\n",
       "monthly_data_volume_mb    0.006978\n",
       "monthly_gb_used           0.006978\n",
       "first_name                0.000000\n",
       "last_name                 0.000000\n",
       "age                       0.000000\n",
       "city                      0.000000\n",
       "reg_date                  0.000000\n",
       "tariff                    0.000000\n",
       "churn_date                0.931095\n",
       "plan_name_id              0.000000\n",
       "total_cost                0.000000\n",
       "dtype: float64"
      ]
     },
     "execution_count": 59,
     "metadata": {},
     "output_type": "execute_result"
    }
   ],
   "source": [
    "# checking for missing values in the merged df:\n",
    "\n",
    "df_merged.isnull().sum()/len(df_merged)"
   ]
  },
  {
   "cell_type": "markdown",
   "id": "8adaa788",
   "metadata": {},
   "source": [
    "#### looks like churn_data is missing too much data to be used, and monthly_texting is missing 21.6% of data, which makes sense as the df_messages was indeed quite small)."
   ]
  },
  {
   "cell_type": "markdown",
   "id": "51aca7c7",
   "metadata": {},
   "source": [
    "## Analyzing data:\n",
    "Describe the customers' behavior. Find the minutes, texts, and volume of data the\n",
    "users of each plan require per month. Calculate the mean, variance, and standard\n",
    "deviation. Plot histograms. Describe the distributions."
   ]
  },
  {
   "cell_type": "markdown",
   "id": "5c303287",
   "metadata": {},
   "source": [
    "### Descriptive stat for each plan:\n"
   ]
  },
  {
   "cell_type": "code",
   "execution_count": 60,
   "id": "7b79ce07",
   "metadata": {},
   "outputs": [],
   "source": [
    "df_ultimate = df_merged.query('plan_name_id == 1')\n",
    "df_surf = df_merged.query('plan_name_id == 0')"
   ]
  },
  {
   "cell_type": "markdown",
   "id": "6fb58811",
   "metadata": {},
   "source": [
    "###    -  Surf plan:"
   ]
  },
  {
   "cell_type": "markdown",
   "id": "a82ea499",
   "metadata": {},
   "source": [
    "#### I. Call duration"
   ]
  },
  {
   "cell_type": "code",
   "execution_count": 61,
   "id": "1c9620bf",
   "metadata": {},
   "outputs": [
    {
     "data": {
      "image/png": "[encoded data removed]",
      "text/plain": [
       "<Figure size 432x288 with 1 Axes>"
      ]
     },
     "metadata": {
      "needs_background": "light"
     },
     "output_type": "display_data"
    },
    {
     "name": "stdout",
     "output_type": "stream",
     "text": [
      "The distribution of call minutes has a positive/right skew\n",
      "surf plan minutes median: 430.0\n",
      "surf plan minutes mean: 436.8\n",
      "surf plan minutes variance: 52447.57\n",
      "surf plan minutes standard deviation: 229.01\n"
     ]
    }
   ],
   "source": [
    "# descriptive stat for call duration:\n",
    "surf_calls_mean = round(df_surf['monthly_minutes'].mean(), 2)\n",
    "surf_calls_median = round(df_surf['monthly_minutes'].median(), 2)\n",
    "surf_calls_var = round(np.var(df_surf['monthly_minutes']), 2)\n",
    "surf_calls_std = round(np.sqrt(surf_calls_var), 2)\n",
    "df_surf.hist('monthly_minutes')\n",
    "plt.xlabel('duration in minutes')\n",
    "plt.ylabel('Frequency')\n",
    "plt.show()\n",
    "if surf_calls_mean > surf_calls_median:\n",
    "    print('The distribution of call minutes has a positive/right skew')\n",
    "elif surf_calls_mean < surf_calls_median:\n",
    "    print('The distribution of call minutes has a negative/left skew')\n",
    "else:\n",
    "    print ('The distribution of call minutes is a normal distribution')\n",
    "\n",
    "print('surf plan minutes median:', surf_calls_median)\n",
    "print('surf plan minutes mean:', surf_calls_mean)\n",
    "print('surf plan minutes variance:', surf_calls_var)\n",
    "print('surf plan minutes standard deviation:', surf_calls_std)\n"
   ]
  },
  {
   "cell_type": "markdown",
   "id": "ce8206c1",
   "metadata": {},
   "source": [
    "#### II. Number of messages:"
   ]
  },
  {
   "cell_type": "code",
   "execution_count": 62,
   "id": "79f903d3",
   "metadata": {},
   "outputs": [
    {
     "data": {
      "image/png": "[encoded data removed]",
      "text/plain": [
       "<Figure size 432x288 with 1 Axes>"
      ]
     },
     "metadata": {
      "needs_background": "light"
     },
     "output_type": "display_data"
    },
    {
     "name": "stdout",
     "output_type": "stream",
     "text": [
      "The distribution of texting has a positive/right skew\n",
      "surf plan texting median: 32.0\n",
      "surf plan texting mean: 40.11\n",
      "surf plan texting variance: 1090.45\n",
      "surf plan texting standard deviation: 33.02\n"
     ]
    }
   ],
   "source": [
    "surf_messages_mean = round(df_surf['monthly_texting'].mean(), 2)\n",
    "surf_messages_median = round(df_surf['monthly_texting'].median(), 2)\n",
    "surf_messages_var = round(np.var(df_surf['monthly_texting']), 2)\n",
    "surf_messages_std = round(np.sqrt(surf_messages_var), 2)\n",
    "df_surf.hist('monthly_texting')\n",
    "plt.xlabel('Number of messages')\n",
    "plt.ylabel('Frequency')\n",
    "plt.show()\n",
    "if surf_messages_mean > surf_messages_median:\n",
    "    print('The distribution of texting has a positive/right skew')\n",
    "elif surf_messages_mean < surf_messages_median:\n",
    "    print('The distribution of texting has a negative/left skew')\n",
    "else:\n",
    "    print ('The distribution of texting is a normal distribution')\n",
    "print('surf plan texting median:', surf_messages_median)    \n",
    "print('surf plan texting mean:', surf_messages_mean)\n",
    "print('surf plan texting variance:', surf_messages_var)\n",
    "print('surf plan texting standard deviation:', surf_messages_std)\n"
   ]
  },
  {
   "cell_type": "markdown",
   "id": "9d9d8b27",
   "metadata": {},
   "source": [
    "#### III. Volume of data:"
   ]
  },
  {
   "cell_type": "code",
   "execution_count": 63,
   "id": "d31c8bf2",
   "metadata": {},
   "outputs": [
    {
     "data": {
      "image/png": "[encoded data removed]",
      "text/plain": [
       "<Figure size 432x288 with 1 Axes>"
      ]
     },
     "metadata": {
      "needs_background": "light"
     },
     "output_type": "display_data"
    },
    {
     "name": "stdout",
     "output_type": "stream",
     "text": [
      "The distribution of Mb used has a negative/left skew\n",
      "surf plan Mb used median: 16923.83\n",
      "surf plan Mb used mean: 16717.7\n",
      "surf plan Mb used variance: 62128323.16\n",
      "surf plan Mb used standard deviation: 7882.15\n"
     ]
    }
   ],
   "source": [
    "surf_mb_used_mean = round(df_surf['monthly_data_volume_mb'].mean(), 2)\n",
    "surf_mb_used_median = round(df_surf['monthly_data_volume_mb'].median(), 2)\n",
    "surf_mb_used_var = round(np.var(df_surf['monthly_data_volume_mb']), 2)\n",
    "surf_mb_used_std = round(np.sqrt(surf_mb_used_var), 2)\n",
    "df_surf.hist('monthly_data_volume_mb')\n",
    "plt.xlabel('Volume of data im MB')\n",
    "plt.ylabel('Frequency')\n",
    "plt.show()\n",
    "if surf_mb_used_mean > surf_mb_used_median:\n",
    "    print('The distribution of Mb used has a positive/right skew')\n",
    "elif surf_mb_used_mean < surf_mb_used_median:\n",
    "    print('The distribution of Mb used has a negative/left skew')\n",
    "else:\n",
    "    print ('The distribution of Mb used is a normal distribution')\n",
    "print('surf plan Mb used median:', surf_mb_used_median)    \n",
    "print('surf plan Mb used mean:', surf_mb_used_mean)\n",
    "print('surf plan Mb used variance:', surf_mb_used_var)\n",
    "print('surf plan Mb used standard deviation:', surf_mb_used_std)\n"
   ]
  },
  {
   "cell_type": "markdown",
   "id": "9c41bf16",
   "metadata": {},
   "source": [
    "###  - Ultimate plan"
   ]
  },
  {
   "cell_type": "markdown",
   "id": "9f4ba141",
   "metadata": {},
   "source": [
    "#### I. Call duration"
   ]
  },
  {
   "cell_type": "code",
   "execution_count": 64,
   "id": "99469693",
   "metadata": {},
   "outputs": [
    {
     "data": {
      "image/png": "[encoded data removed]",
      "text/plain": [
       "<Figure size 432x288 with 1 Axes>"
      ]
     },
     "metadata": {
      "needs_background": "light"
     },
     "output_type": "display_data"
    },
    {
     "name": "stdout",
     "output_type": "stream",
     "text": [
      "The distribution of call minutes has a positive/right skew\n",
      "ultimate plan minutes median: 425.5\n",
      "ultimate plan minutes mean: 435.29\n",
      "ultimate plan minutes variance: 56307.89\n",
      "ultimate plan minutes standard deviation: 237.29\n"
     ]
    }
   ],
   "source": [
    "# descriptive stat for call duration:\n",
    "ultimate_calls_mean = round(df_ultimate['monthly_minutes'].mean(), 2)\n",
    "ultimate_calls_median = round(df_ultimate['monthly_minutes'].median(), 2)\n",
    "ultimate_calls_var = round(np.var(df_ultimate['monthly_minutes']), 2)\n",
    "ultimate_calls_std = round(np.sqrt(ultimate_calls_var), 2)\n",
    "df_ultimate.hist('monthly_minutes')\n",
    "plt.xlabel('duration in minutes')\n",
    "plt.ylabel('Frequency')\n",
    "plt.show()\n",
    "if ultimate_calls_mean > ultimate_calls_median:\n",
    "    print('The distribution of call minutes has a positive/right skew')\n",
    "elif ultimate_calls_mean < ultimate_calls_median:\n",
    "    print('The distribution of call minutes has a negative/left skew')\n",
    "else:\n",
    "    print ('The distribution of call minutes is a normal distribution')\n",
    "\n",
    "print('ultimate plan minutes median:', ultimate_calls_median)\n",
    "print('ultimate plan minutes mean:', ultimate_calls_mean)\n",
    "print('ultimate plan minutes variance:', ultimate_calls_var)\n",
    "print('ultimate plan minutes standard deviation:', ultimate_calls_std)\n"
   ]
  },
  {
   "cell_type": "markdown",
   "id": "e5db7d56",
   "metadata": {},
   "source": [
    "#### II. Number of messages:"
   ]
  },
  {
   "cell_type": "code",
   "execution_count": 65,
   "id": "ab31005a",
   "metadata": {},
   "outputs": [
    {
     "data": {
      "image/png": "[encoded data removed]",
      "text/plain": [
       "<Figure size 432x288 with 1 Axes>"
      ]
     },
     "metadata": {
      "needs_background": "light"
     },
     "output_type": "display_data"
    },
    {
     "name": "stdout",
     "output_type": "stream",
     "text": [
      "The distribution of texting has a positive/right skew\n",
      "ultimate plan texting median: 41.0\n",
      "ultimate plan texting mean: 46.3\n",
      "ultimate plan texting variance: 1083.32\n",
      "ultimate plan texting standard deviation: 32.91\n"
     ]
    }
   ],
   "source": [
    "ultimate_messages_mean = round(df_ultimate['monthly_texting'].mean(), 2)\n",
    "ultimate_messages_median = round(df_ultimate['monthly_texting'].median(), 2)\n",
    "ultimate_messages_var = round(np.var(df_ultimate['monthly_texting']), 2)\n",
    "ultimate_messages_std = round(np.sqrt(ultimate_messages_var), 2)\n",
    "df_ultimate.hist('monthly_texting')\n",
    "plt.xlabel('Number of messages')\n",
    "plt.ylabel('Frequency')\n",
    "plt.show()\n",
    "if ultimate_messages_mean > ultimate_messages_median:\n",
    "    print('The distribution of texting has a positive/right skew')\n",
    "elif ultimate_messages_mean < ultimate_messages_median:\n",
    "    print('The distribution of texting has a negative/left skew')\n",
    "else:\n",
    "    print ('The distribution of texting is a normal distribution')\n",
    "print('ultimate plan texting median:', ultimate_messages_median)    \n",
    "print('ultimate plan texting mean:', ultimate_messages_mean)\n",
    "print('ultimate plan texting variance:', ultimate_messages_var)\n",
    "print('ultimate plan texting standard deviation:', ultimate_messages_std)\n"
   ]
  },
  {
   "cell_type": "markdown",
   "id": "1b955893",
   "metadata": {},
   "source": [
    "#### III. Volume of data:"
   ]
  },
  {
   "cell_type": "code",
   "execution_count": 66,
   "id": "3f92d1d4",
   "metadata": {},
   "outputs": [
    {
     "data": {
      "image/png": "[encoded data removed]",
      "text/plain": [
       "<Figure size 432x288 with 1 Axes>"
      ]
     },
     "metadata": {
      "needs_background": "light"
     },
     "output_type": "display_data"
    },
    {
     "name": "stdout",
     "output_type": "stream",
     "text": [
      "The distribution of Mb used has a positive/right skew\n",
      "ultimate plan Mb used median: 16863.45\n",
      "ultimate plan Mb used mean: 17238.64\n",
      "ultimate plan Mb used variance: 61239556.12\n",
      "ultimate plan Mb used standard deviation: 7825.57\n"
     ]
    }
   ],
   "source": [
    "ultimate_mb_used_mean = round(df_ultimate['monthly_data_volume_mb'].mean(), 2)\n",
    "ultimate_mb_used_median = round(df_ultimate['monthly_data_volume_mb'].median(), 2)\n",
    "ultimate_mb_used_var = round(np.var(df_ultimate['monthly_data_volume_mb']), 2)\n",
    "ultimate_mb_used_std = round(np.sqrt(ultimate_mb_used_var), 2)\n",
    "df_ultimate.hist('monthly_data_volume_mb')\n",
    "plt.xlabel('Volume of data im MB')\n",
    "plt.ylabel('Frequency')\n",
    "plt.show()\n",
    "if ultimate_mb_used_mean > ultimate_mb_used_median:\n",
    "    print('The distribution of Mb used has a positive/right skew')\n",
    "elif ultimate_mb_used_mean < ultimate_mb_used_median:\n",
    "    print('The distribution of Mb used has a negative/left skew')\n",
    "else:\n",
    "    print ('The distribution of Mb used is a normal distribution')\n",
    "print('ultimate plan Mb used median:', ultimate_mb_used_median)    \n",
    "print('ultimate plan Mb used mean:', ultimate_mb_used_mean)\n",
    "print('ultimate plan Mb used variance:', ultimate_mb_used_var)\n",
    "print('ultimate plan Mb used standard deviation:', ultimate_mb_used_std)\n"
   ]
  },
  {
   "cell_type": "markdown",
   "id": "05e15bc8",
   "metadata": {},
   "source": [
    "### Summary:"
   ]
  },
  {
   "cell_type": "markdown",
   "id": "62ca5813",
   "metadata": {},
   "source": [
    "\n",
    "* Note: While Examining the two distributions, especially through the histograms, bare in mind that there are more thn twice as much customers in the basic \"surf\" plan, compared with the \"ultimate\" plan.\n",
    "* Comparison of the two plans' des. stat.:\n",
    "\n",
    "**Call Duration**: Distributions are very similar, with almost equal means and std.\n",
    " The Distributions have a positive/right skew.\n",
    "\n",
    "**Texting**: Distributions of both plans are very similar- both have a positive/right skew. However, the mean and median measures show that the ultimate clients sended on average more messages than the surf clients do, and the median is higher for the as well. (It is not clear yet, however if this dif is sig.)\n",
    "\n",
    "**Surfing**: Distributions are very similar, with almost equal means and std (mean is slightly (probably not significantly)higher for the ultimate clients, while the median is the other way around).\n",
    " The Distributions look similar when observing the histograms, although for the surf plan the distribution is almost normal (mean~= median), with a slight negative skew, whereas the ultimate distribution has a slight positive skew.\n",
    " - An interesting observation concerns the min values of internet use. It seems that we were right to drop the zero values, as they were indeed probably outlier (the next low values are 92 and 233 for surf and ultimate clients, respectively). \n"
   ]
  },
  {
   "cell_type": "code",
   "execution_count": 67,
   "id": "b7625888",
   "metadata": {},
   "outputs": [
    {
     "data": {
      "text/html": [
       "<div>\n",
       "<style scoped>\n",
       "    .dataframe tbody tr th:only-of-type {\n",
       "        vertical-align: middle;\n",
       "    }\n",
       "\n",
       "    .dataframe tbody tr th {\n",
       "        vertical-align: top;\n",
       "    }\n",
       "\n",
       "    .dataframe thead th {\n",
       "        text-align: right;\n",
       "    }\n",
       "</style>\n",
       "<table border=\"1\" class=\"dataframe\">\n",
       "  <thead>\n",
       "    <tr style=\"text-align: right;\">\n",
       "      <th></th>\n",
       "      <th>month</th>\n",
       "      <th>monthly_calls</th>\n",
       "      <th>monthly_minutes</th>\n",
       "      <th>monthly_texting</th>\n",
       "      <th>monthly_data_volume_mb</th>\n",
       "      <th>monthly_gb_used</th>\n",
       "      <th>age</th>\n",
       "      <th>plan_name_id</th>\n",
       "      <th>total_cost</th>\n",
       "    </tr>\n",
       "  </thead>\n",
       "  <tbody>\n",
       "    <tr>\n",
       "      <th>count</th>\n",
       "      <td>720.000000</td>\n",
       "      <td>712.000000</td>\n",
       "      <td>712.000000</td>\n",
       "      <td>584.000000</td>\n",
       "      <td>719.000000</td>\n",
       "      <td>719.000000</td>\n",
       "      <td>720.000000</td>\n",
       "      <td>720.0</td>\n",
       "      <td>720.000000</td>\n",
       "    </tr>\n",
       "    <tr>\n",
       "      <th>mean</th>\n",
       "      <td>9.151389</td>\n",
       "      <td>49.191011</td>\n",
       "      <td>435.286517</td>\n",
       "      <td>46.296233</td>\n",
       "      <td>17238.642253</td>\n",
       "      <td>17.744089</td>\n",
       "      <td>47.719444</td>\n",
       "      <td>1.0</td>\n",
       "      <td>72.654167</td>\n",
       "    </tr>\n",
       "    <tr>\n",
       "      <th>std</th>\n",
       "      <td>2.558495</td>\n",
       "      <td>26.457567</td>\n",
       "      <td>237.459650</td>\n",
       "      <td>32.942118</td>\n",
       "      <td>7831.018323</td>\n",
       "      <td>7.842896</td>\n",
       "      <td>16.804088</td>\n",
       "      <td>0.0</td>\n",
       "      <td>12.669924</td>\n",
       "    </tr>\n",
       "    <tr>\n",
       "      <th>min</th>\n",
       "      <td>1.000000</td>\n",
       "      <td>2.000000</td>\n",
       "      <td>10.000000</td>\n",
       "      <td>1.000000</td>\n",
       "      <td>233.170000</td>\n",
       "      <td>1.000000</td>\n",
       "      <td>18.000000</td>\n",
       "      <td>1.0</td>\n",
       "      <td>70.000000</td>\n",
       "    </tr>\n",
       "    <tr>\n",
       "      <th>25%</th>\n",
       "      <td>8.000000</td>\n",
       "      <td>30.000000</td>\n",
       "      <td>263.000000</td>\n",
       "      <td>21.000000</td>\n",
       "      <td>12671.130000</td>\n",
       "      <td>13.000000</td>\n",
       "      <td>34.000000</td>\n",
       "      <td>1.0</td>\n",
       "      <td>70.000000</td>\n",
       "    </tr>\n",
       "    <tr>\n",
       "      <th>50%</th>\n",
       "      <td>10.000000</td>\n",
       "      <td>48.000000</td>\n",
       "      <td>425.500000</td>\n",
       "      <td>41.000000</td>\n",
       "      <td>16863.450000</td>\n",
       "      <td>17.000000</td>\n",
       "      <td>48.500000</td>\n",
       "      <td>1.0</td>\n",
       "      <td>70.000000</td>\n",
       "    </tr>\n",
       "    <tr>\n",
       "      <th>75%</th>\n",
       "      <td>11.000000</td>\n",
       "      <td>64.000000</td>\n",
       "      <td>566.000000</td>\n",
       "      <td>66.000000</td>\n",
       "      <td>21025.155000</td>\n",
       "      <td>22.000000</td>\n",
       "      <td>64.000000</td>\n",
       "      <td>1.0</td>\n",
       "      <td>70.000000</td>\n",
       "    </tr>\n",
       "    <tr>\n",
       "      <th>max</th>\n",
       "      <td>12.000000</td>\n",
       "      <td>156.000000</td>\n",
       "      <td>1369.000000</td>\n",
       "      <td>166.000000</td>\n",
       "      <td>46595.330000</td>\n",
       "      <td>47.000000</td>\n",
       "      <td>75.000000</td>\n",
       "      <td>1.0</td>\n",
       "      <td>189.000000</td>\n",
       "    </tr>\n",
       "  </tbody>\n",
       "</table>\n",
       "</div>"
      ],
      "text/plain": [
       "            month  monthly_calls  monthly_minutes  monthly_texting  \\\n",
       "count  720.000000     712.000000       712.000000       584.000000   \n",
       "mean     9.151389      49.191011       435.286517        46.296233   \n",
       "std      2.558495      26.457567       237.459650        32.942118   \n",
       "min      1.000000       2.000000        10.000000         1.000000   \n",
       "25%      8.000000      30.000000       263.000000        21.000000   \n",
       "50%     10.000000      48.000000       425.500000        41.000000   \n",
       "75%     11.000000      64.000000       566.000000        66.000000   \n",
       "max     12.000000     156.000000      1369.000000       166.000000   \n",
       "\n",
       "       monthly_data_volume_mb  monthly_gb_used         age  plan_name_id  \\\n",
       "count              719.000000       719.000000  720.000000         720.0   \n",
       "mean             17238.642253        17.744089   47.719444           1.0   \n",
       "std               7831.018323         7.842896   16.804088           0.0   \n",
       "min                233.170000         1.000000   18.000000           1.0   \n",
       "25%              12671.130000        13.000000   34.000000           1.0   \n",
       "50%              16863.450000        17.000000   48.500000           1.0   \n",
       "75%              21025.155000        22.000000   64.000000           1.0   \n",
       "max              46595.330000        47.000000   75.000000           1.0   \n",
       "\n",
       "       total_cost  \n",
       "count  720.000000  \n",
       "mean    72.654167  \n",
       "std     12.669924  \n",
       "min     70.000000  \n",
       "25%     70.000000  \n",
       "50%     70.000000  \n",
       "75%     70.000000  \n",
       "max    189.000000  "
      ]
     },
     "execution_count": 67,
     "metadata": {},
     "output_type": "execute_result"
    }
   ],
   "source": [
    "df_ultimate.describe()"
   ]
  },
  {
   "cell_type": "code",
   "execution_count": 68,
   "id": "fc72ab49",
   "metadata": {},
   "outputs": [
    {
     "data": {
      "text/html": [
       "<div>\n",
       "<style scoped>\n",
       "    .dataframe tbody tr th:only-of-type {\n",
       "        vertical-align: middle;\n",
       "    }\n",
       "\n",
       "    .dataframe tbody tr th {\n",
       "        vertical-align: top;\n",
       "    }\n",
       "\n",
       "    .dataframe thead th {\n",
       "        text-align: right;\n",
       "    }\n",
       "</style>\n",
       "<table border=\"1\" class=\"dataframe\">\n",
       "  <thead>\n",
       "    <tr style=\"text-align: right;\">\n",
       "      <th></th>\n",
       "      <th>month</th>\n",
       "      <th>monthly_calls</th>\n",
       "      <th>monthly_minutes</th>\n",
       "      <th>monthly_texting</th>\n",
       "      <th>monthly_data_volume_mb</th>\n",
       "      <th>monthly_gb_used</th>\n",
       "      <th>age</th>\n",
       "      <th>plan_name_id</th>\n",
       "      <th>total_cost</th>\n",
       "    </tr>\n",
       "  </thead>\n",
       "  <tbody>\n",
       "    <tr>\n",
       "      <th>count</th>\n",
       "      <td>1573.000000</td>\n",
       "      <td>1544.000000</td>\n",
       "      <td>1544.000000</td>\n",
       "      <td>1222.000000</td>\n",
       "      <td>1558.000000</td>\n",
       "      <td>1558.000000</td>\n",
       "      <td>1573.000000</td>\n",
       "      <td>1573.0</td>\n",
       "      <td>1573.000000</td>\n",
       "    </tr>\n",
       "    <tr>\n",
       "      <th>mean</th>\n",
       "      <td>9.182454</td>\n",
       "      <td>49.143135</td>\n",
       "      <td>436.802461</td>\n",
       "      <td>40.109656</td>\n",
       "      <td>16717.702137</td>\n",
       "      <td>17.201540</td>\n",
       "      <td>44.379530</td>\n",
       "      <td>0.0</td>\n",
       "      <td>314.778131</td>\n",
       "    </tr>\n",
       "    <tr>\n",
       "      <th>std</th>\n",
       "      <td>2.468199</td>\n",
       "      <td>25.304258</td>\n",
       "      <td>229.088544</td>\n",
       "      <td>33.035500</td>\n",
       "      <td>7884.682983</td>\n",
       "      <td>7.877707</td>\n",
       "      <td>16.646535</td>\n",
       "      <td>0.0</td>\n",
       "      <td>353.081981</td>\n",
       "    </tr>\n",
       "    <tr>\n",
       "      <th>min</th>\n",
       "      <td>1.000000</td>\n",
       "      <td>1.000000</td>\n",
       "      <td>2.000000</td>\n",
       "      <td>1.000000</td>\n",
       "      <td>92.310000</td>\n",
       "      <td>1.000000</td>\n",
       "      <td>18.000000</td>\n",
       "      <td>0.0</td>\n",
       "      <td>20.000000</td>\n",
       "    </tr>\n",
       "    <tr>\n",
       "      <th>25%</th>\n",
       "      <td>8.000000</td>\n",
       "      <td>32.000000</td>\n",
       "      <td>279.000000</td>\n",
       "      <td>16.000000</td>\n",
       "      <td>12187.955000</td>\n",
       "      <td>13.000000</td>\n",
       "      <td>29.000000</td>\n",
       "      <td>0.0</td>\n",
       "      <td>20.000000</td>\n",
       "    </tr>\n",
       "    <tr>\n",
       "      <th>50%</th>\n",
       "      <td>10.000000</td>\n",
       "      <td>48.000000</td>\n",
       "      <td>430.000000</td>\n",
       "      <td>32.000000</td>\n",
       "      <td>16923.830000</td>\n",
       "      <td>17.000000</td>\n",
       "      <td>45.000000</td>\n",
       "      <td>0.0</td>\n",
       "      <td>100.000000</td>\n",
       "    </tr>\n",
       "    <tr>\n",
       "      <th>75%</th>\n",
       "      <td>11.000000</td>\n",
       "      <td>65.000000</td>\n",
       "      <td>579.000000</td>\n",
       "      <td>54.000000</td>\n",
       "      <td>21039.860000</td>\n",
       "      <td>22.000000</td>\n",
       "      <td>59.000000</td>\n",
       "      <td>0.0</td>\n",
       "      <td>637.000000</td>\n",
       "    </tr>\n",
       "    <tr>\n",
       "      <th>max</th>\n",
       "      <td>12.000000</td>\n",
       "      <td>167.000000</td>\n",
       "      <td>1510.000000</td>\n",
       "      <td>266.000000</td>\n",
       "      <td>70931.590000</td>\n",
       "      <td>71.000000</td>\n",
       "      <td>75.000000</td>\n",
       "      <td>0.0</td>\n",
       "      <td>1868.500000</td>\n",
       "    </tr>\n",
       "  </tbody>\n",
       "</table>\n",
       "</div>"
      ],
      "text/plain": [
       "             month  monthly_calls  monthly_minutes  monthly_texting  \\\n",
       "count  1573.000000    1544.000000      1544.000000      1222.000000   \n",
       "mean      9.182454      49.143135       436.802461        40.109656   \n",
       "std       2.468199      25.304258       229.088544        33.035500   \n",
       "min       1.000000       1.000000         2.000000         1.000000   \n",
       "25%       8.000000      32.000000       279.000000        16.000000   \n",
       "50%      10.000000      48.000000       430.000000        32.000000   \n",
       "75%      11.000000      65.000000       579.000000        54.000000   \n",
       "max      12.000000     167.000000      1510.000000       266.000000   \n",
       "\n",
       "       monthly_data_volume_mb  monthly_gb_used          age  plan_name_id  \\\n",
       "count             1558.000000      1558.000000  1573.000000        1573.0   \n",
       "mean             16717.702137        17.201540    44.379530           0.0   \n",
       "std               7884.682983         7.877707    16.646535           0.0   \n",
       "min                 92.310000         1.000000    18.000000           0.0   \n",
       "25%              12187.955000        13.000000    29.000000           0.0   \n",
       "50%              16923.830000        17.000000    45.000000           0.0   \n",
       "75%              21039.860000        22.000000    59.000000           0.0   \n",
       "max              70931.590000        71.000000    75.000000           0.0   \n",
       "\n",
       "        total_cost  \n",
       "count  1573.000000  \n",
       "mean    314.778131  \n",
       "std     353.081981  \n",
       "min      20.000000  \n",
       "25%      20.000000  \n",
       "50%     100.000000  \n",
       "75%     637.000000  \n",
       "max    1868.500000  "
      ]
     },
     "execution_count": 68,
     "metadata": {},
     "output_type": "execute_result"
    }
   ],
   "source": [
    "df_surf.describe()"
   ]
  },
  {
   "cell_type": "code",
   "execution_count": 69,
   "id": "409e8057",
   "metadata": {},
   "outputs": [
    {
     "data": {
      "text/plain": [
       "Text(0, 0.5, 'Frequency')"
      ]
     },
     "execution_count": 69,
     "metadata": {},
     "output_type": "execute_result"
    },
    {
     "data": {
      "image/png": "[encoded data removed]",
      "text/plain": [
       "<Figure size 432x288 with 1 Axes>"
      ]
     },
     "metadata": {
      "needs_background": "light"
     },
     "output_type": "display_data"
    }
   ],
   "source": [
    "df_surf['monthly_minutes'].hist(range= (0,1400), color='blue')\n",
    "df_ultimate['monthly_minutes'].hist(range= (0,1400), color='red')\n",
    "plt.xlabel('duration in minutes')\n",
    "plt.ylabel('Frequency')"
   ]
  },
  {
   "cell_type": "code",
   "execution_count": 70,
   "id": "c3cef76c",
   "metadata": {},
   "outputs": [
    {
     "data": {
      "text/plain": [
       "Text(0, 0.5, 'Frequency')"
      ]
     },
     "execution_count": 70,
     "metadata": {},
     "output_type": "execute_result"
    },
    {
     "data": {
      "image/png": "[encoded data removed]",
      "text/plain": [
       "<Figure size 432x288 with 1 Axes>"
      ]
     },
     "metadata": {
      "needs_background": "light"
     },
     "output_type": "display_data"
    }
   ],
   "source": [
    "df_surf['monthly_texting'].hist(range= (0,300), color='blue')\n",
    "df_ultimate['monthly_texting'].hist(range= (0,300), color='red')\n",
    "plt.xlabel('Number of messages')\n",
    "plt.ylabel('Frequency')"
   ]
  },
  {
   "cell_type": "code",
   "execution_count": 71,
   "id": "84417bf1",
   "metadata": {},
   "outputs": [
    {
     "data": {
      "text/plain": [
       "Text(0, 0.5, 'Frequency')"
      ]
     },
     "execution_count": 71,
     "metadata": {},
     "output_type": "execute_result"
    },
    {
     "data": {
      "image/png": "[encoded data removed]",
      "text/plain": [
       "<Figure size 432x288 with 1 Axes>"
      ]
     },
     "metadata": {
      "needs_background": "light"
     },
     "output_type": "display_data"
    }
   ],
   "source": [
    "df_surf['monthly_data_volume_mb'].hist(range= (0,80000), color='blue')\n",
    "df_ultimate['monthly_data_volume_mb'].hist(range= (0,80000), color='red')\n",
    "plt.xlabel('Volume of data im MB')\n",
    "plt.ylabel('Frequency')\n"
   ]
  },
  {
   "cell_type": "markdown",
   "id": "71ddedf2",
   "metadata": {},
   "source": [
    "## Testing the hypotheses:\n",
    "Two hypotheses were made- one regarding a possible significant difference in revenue between customers of the \"surf\" plan and customers of the \"ultimate\" plan, and the other concerned posssible differences in revenue between to NY-NJ area and the other areas.\n"
   ]
  },
  {
   "cell_type": "markdown",
   "id": "3f41b5fa",
   "metadata": {},
   "source": [
    "### 1. Comparing average revenue from Surf and Ultimate calling plans:\n",
    "- H0: The null hypothesis was that no difference would be found between the average revenue from the \"surf\" plan users, and the \"ultimate\" plan users.\n",
    "- H1: The alternative hypothesis was that a significant difference would be found in the revenue from these two plan.\n"
   ]
  },
  {
   "cell_type": "code",
   "execution_count": 72,
   "id": "dc382990",
   "metadata": {},
   "outputs": [
    {
     "data": {
      "text/plain": [
       "LeveneResult(statistic=2851.643912853271, pvalue=0.0)"
      ]
     },
     "execution_count": 72,
     "metadata": {},
     "output_type": "execute_result"
    }
   ],
   "source": [
    "# checking the equal variance assumption: [Significant difference between variances has been established (H0 can be rejected)]\n",
    "st.levene(df_surf['total_cost'], df_ultimate['total_cost'], center = 'mean')"
   ]
  },
  {
   "cell_type": "code",
   "execution_count": 73,
   "id": "b9e81a41",
   "metadata": {},
   "outputs": [
    {
     "name": "stdout",
     "output_type": "stream",
     "text": [
      "p-value: 1.2429912364454623e-133\n",
      "We reject the null hypothesis\n",
      "surf mean: 314.7781309599491\n",
      "ultimate mean: 72.65416666666667\n"
     ]
    }
   ],
   "source": [
    "# independent t-test with equal_var = False:\n",
    "alpha = 0.05\n",
    "result1 = st.ttest_ind(df_surf['total_cost'], df_ultimate['total_cost'], equal_var = False)\n",
    "print ('p-value:', result1.pvalue)\n",
    "if result1.pvalue < alpha:\n",
    "    print(\"We reject the null hypothesis\")\n",
    "else:\n",
    "    print(\"We can't reject the null hypothesis\")\n",
    "print('surf mean:', df_surf['total_cost'].mean())\n",
    "print('ultimate mean:', df_ultimate['total_cost'].mean())"
   ]
  },
  {
   "cell_type": "markdown",
   "id": "d43787ca",
   "metadata": {},
   "source": [
    "#### Conclusions for plan revenue:\n",
    "Our null hypothesis was that the two plans do not differ in terms of their average total cost. We wanted to test if this was true. I chose to use the conventional threshold of 5% (alpha= 0.05) as a probability risk measure.\n",
    "\n",
    "First, i tested whether there is a sig. difference between the two dfs variances. Levenes test showed that there was. Hence, i ran the independant sample t-test under the assumption of non-equal variances. Result showed that the average revenue (or the total cost) from the surf plan is significantly higher than the one from the ultimate program."
   ]
  },
  {
   "cell_type": "markdown",
   "id": "90019e5c",
   "metadata": {},
   "source": [
    "### 2. Comparing average revenue from users in NY-NJ area to other ereas:\n",
    "- H0: The null hypothesis was that no difference would be found between the revenue from users living in NY-NJ area, and users living in other areas.\n",
    "- H1: The alternative hypothesis was that a significant difference would be found in the revenue from these two areas."
   ]
  },
  {
   "cell_type": "code",
   "execution_count": 74,
   "id": "c4b56d57",
   "metadata": {},
   "outputs": [],
   "source": [
    "# Sub-setting by area:\n",
    "ny_nj_users = df_merged[df_merged['city'].str.contains(\"NY-NJ\")]\n",
    "other_regions = df_merged[~df_merged['city'].str.contains(\"NY-NJ\")]"
   ]
  },
  {
   "cell_type": "code",
   "execution_count": 75,
   "id": "a94dde7d",
   "metadata": {},
   "outputs": [
    {
     "data": {
      "text/plain": [
       "56    New York-Newark-Jersey City, NY-NJ-PA MSA\n",
       "57    New York-Newark-Jersey City, NY-NJ-PA MSA\n",
       "75    New York-Newark-Jersey City, NY-NJ-PA MSA\n",
       "76    New York-Newark-Jersey City, NY-NJ-PA MSA\n",
       "77    New York-Newark-Jersey City, NY-NJ-PA MSA\n",
       "Name: city, dtype: object"
      ]
     },
     "execution_count": 75,
     "metadata": {},
     "output_type": "execute_result"
    }
   ],
   "source": [
    "ny_nj_users['city'].head()"
   ]
  },
  {
   "cell_type": "code",
   "execution_count": 76,
   "id": "dcbb25a2",
   "metadata": {},
   "outputs": [
    {
     "data": {
      "text/plain": [
       "LeveneResult(statistic=7.844074492035576, pvalue=0.0051415441496986515)"
      ]
     },
     "execution_count": 76,
     "metadata": {},
     "output_type": "execute_result"
    }
   ],
   "source": [
    "# checking the equal variance assumption: [Significant difference between variances has been established (H0 can be rejected)]\n",
    "st.levene(ny_nj_users['total_cost'], other_regions['total_cost'], center = 'mean')"
   ]
  },
  {
   "cell_type": "code",
   "execution_count": 77,
   "id": "6cd1d2a8",
   "metadata": {},
   "outputs": [
    {
     "name": "stdout",
     "output_type": "stream",
     "text": [
      "p-value: 0.05821829565466183\n",
      "We can't reject the null hypothesis\n",
      "NY-NJ's area mean: 266.87931034482756\n",
      "Other regions' mean: 233.21685803757828\n"
     ]
    }
   ],
   "source": [
    "# independent t-test with equal_var = False:\n",
    "alpha = 0.05\n",
    "result2 = st.ttest_ind(ny_nj_users['total_cost'], other_regions['total_cost'], equal_var = False)\n",
    "print ('p-value:', result2.pvalue)\n",
    "if result2.pvalue < alpha:\n",
    "    print(\"We reject the null hypothesis\")\n",
    "else:\n",
    "    print(\"We can't reject the null hypothesis\")\n",
    "print(\"NY-NJ's area mean:\", ny_nj_users['total_cost'].mean())\n",
    "print(\"Other regions' mean:\", other_regions['total_cost'].mean())"
   ]
  },
  {
   "cell_type": "markdown",
   "id": "6fcf6e5a",
   "metadata": {},
   "source": [
    "#### Conclusions for area revenue:\n",
    "Our null hypothesis was that users living in the NY-NJ area do not differ in terms of their average total cost from users living in other areas. I chose to use the conventional threshold of 5% (alpha= 0.05) as a probability risk measure.\n",
    "\n",
    "First, i tested whether there is a sig. difference between the two groups' variances. Levenes test showed that there was. Hence, i ran the independant sample t-test under the assumption of non-equal variances. \n",
    "Result showed that the average revenue (or total cost) from the NY-NJ users is not significantly different than the one from users living in other regions (although the average cost paid by them us slightly higher)."
   ]
  },
  {
   "cell_type": "markdown",
   "id": "ec0517df",
   "metadata": {},
   "source": [
    "## General conclusions:\n",
    "\n",
    "This project was ordered by the commercial department of \"Telecom operator Megaline\" company.\n",
    "The central question guiding the analysis concerened the revenues of the two pre-paid plans, Surf and Ultimate. \n",
    "The commercial department wanted to know which of the plans brings in more revenue in order to adjust the advertising budget. \n",
    "In this analysis we carried out a preliminary analysis of data on 500 Megaline clients.\n",
    "\n",
    "\n",
    "Databases included 5 data sheets collected over a year (2018).\n",
    "Data included info about the clients names, ages, where they're from, and which plan they use. Also there was data about the number and length of the calls they made, text messages they sent and volume of data they used when surfing the net.\n",
    "\n",
    "The analysis included a few stages:\n",
    " - ***Preprocessing***: There were no missing values or duplicated data rows. However, 20% of call durations were listed as '0', as well as 13% of volume of data. These zeros were randomly distributed, but in order to not affect future mean calculations, these rows were dropped.\n",
    " \n",
    " - ***Exploratory data analysis***: A few adjustments have been made to the data in order to fit our needs: data types of some of the variables were changed, assistive variables were created, and relevand data sets were merged.\n",
    "- preliminary observations regarding the descriptive statistics showed that there are more than twice as much clients in the basic \"surf\" plan, compared with the \"ultimate\" plan.\n",
    "- Looking into the plans' components revealed the folowing:\n",
    "**Call Duration**: Distributions of both plans were very similar, with almost equal means and std.\n",
    " The Distributions had a positive/right skew.\n",
    "\n",
    "**Texting**: Distributions of both plans were very similar- both had a positive/right skew. However, the mean and median measures show that the \"ultimate\" clients sended on average more messages than the \"surf\" clients do, and the median was higher for them as well. (No statistical tests were run on this observation, so dif. might not be sig.)\n",
    "\n",
    "**Surfing**: Distributions were very similar, with almost equal means and std (mean is slightly (probably not significantly)higher for the ultimate clients, while the median is the other way around).\n",
    " \n",
    " - ***Testing hypothese***:\n",
    " We tested 2 hypotheses. For both we ran a t-test for independant samples, under the assumption of non-equal variances, and with a p-value threshhold of 0.05.\n",
    " - The average cost for clients in the two plans would be different.\n",
    "Result showed that the average revenue (or the total cost) from the surf plan is significantly higher than the one from the ultimate program.\n",
    "- The average cost for clients living in NY-NJ area would be different from the average cost of clients living in other areas.\n",
    "Result showed that the average revenue (or total cost) from the NY-NJ users is not significantly different than the one from users living in other regions.\n",
    "\n",
    "- Conclusions:\n",
    "Although most clients choose to register to the more basic \"Surf\" plan, it seems they are using their minutes, messages and surf volume just as much as the \"Ultimate\" clients do, and hence- end up paying more.\n",
    "\n",
    "I would suggest to widen this analysis to try and estimate how many clients would have to move from the Surf plan to the Ultimte plan in order to make the company's profit higher than it is now.This evaluation might help the commercial department set its goals.\n",
    "besides that, I would suggest widening the area analysis to include other areas, and also look for possible interctions between plan and region.\n",
    "\n",
    "Good luck :)\n",
    "\n",
    "\n",
    "\n"
   ]
  }
 ],
 "metadata": {
  "ExecuteTimeLog": [
   {
    "duration": 1623,
    "start_time": "2022-02-20T12:37:01.115Z"
   },
   {
    "duration": 847,
    "start_time": "2022-02-20T12:37:02.740Z"
   },
   {
    "duration": 16,
    "start_time": "2022-02-20T12:37:03.590Z"
   },
   {
    "duration": 25,
    "start_time": "2022-02-20T12:37:03.609Z"
   },
   {
    "duration": 12,
    "start_time": "2022-02-20T12:37:03.636Z"
   },
   {
    "duration": 20,
    "start_time": "2022-02-20T12:37:03.651Z"
   },
   {
    "duration": 37,
    "start_time": "2022-02-20T12:37:03.673Z"
   },
   {
    "duration": 16,
    "start_time": "2022-02-20T12:37:03.714Z"
   },
   {
    "duration": 14,
    "start_time": "2022-02-20T12:37:03.733Z"
   },
   {
    "duration": 11,
    "start_time": "2022-02-20T12:37:03.748Z"
   },
   {
    "duration": 52,
    "start_time": "2022-02-20T12:37:03.762Z"
   },
   {
    "duration": 13,
    "start_time": "2022-02-20T12:37:03.817Z"
   },
   {
    "duration": 30,
    "start_time": "2022-02-20T12:37:03.832Z"
   },
   {
    "duration": 12,
    "start_time": "2022-02-20T12:37:03.865Z"
   },
   {
    "duration": 250,
    "start_time": "2022-02-20T12:37:03.880Z"
   },
   {
    "duration": 29,
    "start_time": "2022-02-20T12:37:04.132Z"
   },
   {
    "duration": 47,
    "start_time": "2022-02-20T12:37:04.163Z"
   },
   {
    "duration": 109,
    "start_time": "2022-02-20T12:37:04.212Z"
   },
   {
    "duration": 23,
    "start_time": "2022-02-20T12:37:04.324Z"
   },
   {
    "duration": 11,
    "start_time": "2022-02-20T12:37:04.349Z"
   },
   {
    "duration": 12,
    "start_time": "2022-02-20T12:37:04.363Z"
   },
   {
    "duration": 19,
    "start_time": "2022-02-20T12:37:04.411Z"
   },
   {
    "duration": 208,
    "start_time": "2022-02-20T12:37:04.436Z"
   },
   {
    "duration": 242,
    "start_time": "2022-02-20T12:37:04.648Z"
   },
   {
    "duration": 7,
    "start_time": "2022-02-20T12:37:04.893Z"
   },
   {
    "duration": 26,
    "start_time": "2022-02-20T12:37:04.911Z"
   },
   {
    "duration": 28,
    "start_time": "2022-02-20T12:37:04.940Z"
   },
   {
    "duration": 62,
    "start_time": "2022-02-20T12:37:04.971Z"
   },
   {
    "duration": 14,
    "start_time": "2022-02-20T12:37:05.036Z"
   },
   {
    "duration": 7,
    "start_time": "2022-02-20T12:37:05.053Z"
   },
   {
    "duration": 222,
    "start_time": "2022-02-20T12:37:05.064Z"
   },
   {
    "duration": 61,
    "start_time": "2022-02-20T12:37:05.289Z"
   },
   {
    "duration": 80,
    "start_time": "2022-02-20T12:37:05.353Z"
   },
   {
    "duration": 87,
    "start_time": "2022-02-20T12:37:05.436Z"
   },
   {
    "duration": 50,
    "start_time": "2022-02-20T12:37:05.526Z"
   },
   {
    "duration": 59,
    "start_time": "2022-02-20T12:37:05.578Z"
   },
   {
    "duration": 11,
    "start_time": "2022-02-20T12:37:05.641Z"
   },
   {
    "duration": 14,
    "start_time": "2022-02-20T12:37:05.655Z"
   },
   {
    "duration": 126,
    "start_time": "2022-02-20T12:37:05.671Z"
   },
   {
    "duration": 13,
    "start_time": "2022-02-20T12:37:05.800Z"
   },
   {
    "duration": 7,
    "start_time": "2022-02-20T12:37:05.816Z"
   },
   {
    "duration": 12139,
    "start_time": "2022-02-20T12:37:05.826Z"
   },
   {
    "duration": 447,
    "start_time": "2022-02-20T12:37:17.521Z"
   },
   {
    "duration": 439,
    "start_time": "2022-02-20T12:37:17.531Z"
   },
   {
    "duration": 437,
    "start_time": "2022-02-20T12:37:17.534Z"
   },
   {
    "duration": 437,
    "start_time": "2022-02-20T12:37:17.536Z"
   },
   {
    "duration": 435,
    "start_time": "2022-02-20T12:37:17.539Z"
   },
   {
    "duration": 435,
    "start_time": "2022-02-20T12:37:17.541Z"
   },
   {
    "duration": 436,
    "start_time": "2022-02-20T12:37:17.544Z"
   },
   {
    "duration": 434,
    "start_time": "2022-02-20T12:37:17.547Z"
   },
   {
    "duration": 433,
    "start_time": "2022-02-20T12:37:17.550Z"
   },
   {
    "duration": 432,
    "start_time": "2022-02-20T12:37:17.552Z"
   },
   {
    "duration": 431,
    "start_time": "2022-02-20T12:37:17.555Z"
   },
   {
    "duration": 430,
    "start_time": "2022-02-20T12:37:17.558Z"
   },
   {
    "duration": 428,
    "start_time": "2022-02-20T12:37:17.561Z"
   },
   {
    "duration": 421,
    "start_time": "2022-02-20T12:37:17.570Z"
   },
   {
    "duration": 420,
    "start_time": "2022-02-20T12:37:17.573Z"
   },
   {
    "duration": 418,
    "start_time": "2022-02-20T12:37:17.576Z"
   },
   {
    "duration": 417,
    "start_time": "2022-02-20T12:37:17.579Z"
   },
   {
    "duration": 417,
    "start_time": "2022-02-20T12:37:17.581Z"
   },
   {
    "duration": 416,
    "start_time": "2022-02-20T12:37:17.584Z"
   },
   {
    "duration": 415,
    "start_time": "2022-02-20T12:37:17.586Z"
   },
   {
    "duration": 414,
    "start_time": "2022-02-20T12:37:17.589Z"
   },
   {
    "duration": 411,
    "start_time": "2022-02-20T12:37:17.593Z"
   },
   {
    "duration": 411,
    "start_time": "2022-02-20T12:37:17.595Z"
   },
   {
    "duration": 412,
    "start_time": "2022-02-20T12:37:17.598Z"
   },
   {
    "duration": 411,
    "start_time": "2022-02-20T12:37:17.601Z"
   },
   {
    "duration": 411,
    "start_time": "2022-02-20T12:37:17.603Z"
   },
   {
    "duration": 409,
    "start_time": "2022-02-20T12:37:17.606Z"
   },
   {
    "duration": 408,
    "start_time": "2022-02-20T12:37:17.609Z"
   },
   {
    "duration": 406,
    "start_time": "2022-02-20T12:37:17.612Z"
   },
   {
    "duration": 405,
    "start_time": "2022-02-20T12:37:17.615Z"
   },
   {
    "duration": 25,
    "start_time": "2022-02-20T12:37:46.443Z"
   },
   {
    "duration": 14,
    "start_time": "2022-02-20T12:43:18.959Z"
   },
   {
    "duration": 370,
    "start_time": "2022-02-20T13:01:59.962Z"
   },
   {
    "duration": 17,
    "start_time": "2022-02-20T13:02:05.142Z"
   },
   {
    "duration": 26,
    "start_time": "2022-02-20T13:02:11.895Z"
   },
   {
    "duration": 21,
    "start_time": "2022-02-20T13:02:17.088Z"
   },
   {
    "duration": 171,
    "start_time": "2022-02-20T13:02:29.125Z"
   },
   {
    "duration": 9,
    "start_time": "2022-02-20T13:02:32.879Z"
   },
   {
    "duration": 6,
    "start_time": "2022-02-20T13:02:39.095Z"
   },
   {
    "duration": 135,
    "start_time": "2022-02-20T13:09:22.513Z"
   },
   {
    "duration": 1562,
    "start_time": "2022-02-20T13:13:12.215Z"
   },
   {
    "duration": 871,
    "start_time": "2022-02-20T13:13:13.780Z"
   },
   {
    "duration": 18,
    "start_time": "2022-02-20T13:13:14.654Z"
   },
   {
    "duration": 25,
    "start_time": "2022-02-20T13:13:14.675Z"
   },
   {
    "duration": 12,
    "start_time": "2022-02-20T13:13:14.703Z"
   },
   {
    "duration": 21,
    "start_time": "2022-02-20T13:13:14.718Z"
   },
   {
    "duration": 10,
    "start_time": "2022-02-20T13:13:14.742Z"
   },
   {
    "duration": 16,
    "start_time": "2022-02-20T13:13:14.754Z"
   },
   {
    "duration": 13,
    "start_time": "2022-02-20T13:13:14.809Z"
   },
   {
    "duration": 12,
    "start_time": "2022-02-20T13:13:14.825Z"
   },
   {
    "duration": 20,
    "start_time": "2022-02-20T13:13:14.839Z"
   },
   {
    "duration": 17,
    "start_time": "2022-02-20T13:13:14.862Z"
   },
   {
    "duration": 27,
    "start_time": "2022-02-20T13:13:14.910Z"
   },
   {
    "duration": 12,
    "start_time": "2022-02-20T13:13:14.940Z"
   },
   {
    "duration": 267,
    "start_time": "2022-02-20T13:13:14.955Z"
   },
   {
    "duration": 28,
    "start_time": "2022-02-20T13:13:15.224Z"
   },
   {
    "duration": 43,
    "start_time": "2022-02-20T13:13:15.255Z"
   },
   {
    "duration": 121,
    "start_time": "2022-02-20T13:13:15.300Z"
   },
   {
    "duration": 25,
    "start_time": "2022-02-20T13:13:15.424Z"
   },
   {
    "duration": 12,
    "start_time": "2022-02-20T13:13:15.452Z"
   },
   {
    "duration": 46,
    "start_time": "2022-02-20T13:13:15.466Z"
   },
   {
    "duration": 18,
    "start_time": "2022-02-20T13:13:15.514Z"
   },
   {
    "duration": 232,
    "start_time": "2022-02-20T13:13:15.535Z"
   },
   {
    "duration": 239,
    "start_time": "2022-02-20T13:13:15.769Z"
   },
   {
    "duration": 8,
    "start_time": "2022-02-20T13:13:16.011Z"
   },
   {
    "duration": 35,
    "start_time": "2022-02-20T13:13:16.021Z"
   },
   {
    "duration": 50,
    "start_time": "2022-02-20T13:13:16.063Z"
   },
   {
    "duration": 28,
    "start_time": "2022-02-20T13:13:16.117Z"
   },
   {
    "duration": 14,
    "start_time": "2022-02-20T13:13:16.148Z"
   },
   {
    "duration": 6,
    "start_time": "2022-02-20T13:13:16.164Z"
   },
   {
    "duration": 150,
    "start_time": "2022-02-20T13:13:16.172Z"
   },
   {
    "duration": 51,
    "start_time": "2022-02-20T13:13:16.325Z"
   },
   {
    "duration": 79,
    "start_time": "2022-02-20T13:13:16.379Z"
   },
   {
    "duration": 93,
    "start_time": "2022-02-20T13:13:16.461Z"
   },
   {
    "duration": 68,
    "start_time": "2022-02-20T13:13:16.556Z"
   },
   {
    "duration": 33,
    "start_time": "2022-02-20T13:13:16.627Z"
   },
   {
    "duration": 9,
    "start_time": "2022-02-20T13:13:16.662Z"
   },
   {
    "duration": 37,
    "start_time": "2022-02-20T13:13:16.674Z"
   },
   {
    "duration": 98,
    "start_time": "2022-02-20T13:13:16.714Z"
   },
   {
    "duration": 7,
    "start_time": "2022-02-20T13:13:16.814Z"
   },
   {
    "duration": 5,
    "start_time": "2022-02-20T13:13:16.824Z"
   },
   {
    "duration": 10996,
    "start_time": "2022-02-20T13:13:16.832Z"
   },
   {
    "duration": 539,
    "start_time": "2022-02-20T13:13:27.293Z"
   },
   {
    "duration": 539,
    "start_time": "2022-02-20T13:13:27.296Z"
   },
   {
    "duration": 539,
    "start_time": "2022-02-20T13:13:27.298Z"
   },
   {
    "duration": 538,
    "start_time": "2022-02-20T13:13:27.301Z"
   },
   {
    "duration": 537,
    "start_time": "2022-02-20T13:13:27.305Z"
   },
   {
    "duration": 536,
    "start_time": "2022-02-20T13:13:27.308Z"
   },
   {
    "duration": 536,
    "start_time": "2022-02-20T13:13:27.310Z"
   },
   {
    "duration": 536,
    "start_time": "2022-02-20T13:13:27.313Z"
   },
   {
    "duration": 536,
    "start_time": "2022-02-20T13:13:27.315Z"
   },
   {
    "duration": 535,
    "start_time": "2022-02-20T13:13:27.318Z"
   },
   {
    "duration": 533,
    "start_time": "2022-02-20T13:13:27.322Z"
   },
   {
    "duration": 532,
    "start_time": "2022-02-20T13:13:27.325Z"
   },
   {
    "duration": 518,
    "start_time": "2022-02-20T13:13:27.342Z"
   },
   {
    "duration": 517,
    "start_time": "2022-02-20T13:13:27.345Z"
   },
   {
    "duration": 499,
    "start_time": "2022-02-20T13:13:27.365Z"
   },
   {
    "duration": 497,
    "start_time": "2022-02-20T13:13:27.369Z"
   },
   {
    "duration": 498,
    "start_time": "2022-02-20T13:13:27.371Z"
   },
   {
    "duration": 538,
    "start_time": "2022-02-20T13:13:27.374Z"
   },
   {
    "duration": 537,
    "start_time": "2022-02-20T13:13:27.377Z"
   },
   {
    "duration": 537,
    "start_time": "2022-02-20T13:13:27.380Z"
   },
   {
    "duration": 536,
    "start_time": "2022-02-20T13:13:27.383Z"
   },
   {
    "duration": 536,
    "start_time": "2022-02-20T13:13:27.385Z"
   },
   {
    "duration": 526,
    "start_time": "2022-02-20T13:13:27.397Z"
   },
   {
    "duration": 526,
    "start_time": "2022-02-20T13:13:27.400Z"
   },
   {
    "duration": 525,
    "start_time": "2022-02-20T13:13:27.403Z"
   },
   {
    "duration": 524,
    "start_time": "2022-02-20T13:13:27.406Z"
   },
   {
    "duration": 524,
    "start_time": "2022-02-20T13:13:27.408Z"
   },
   {
    "duration": 522,
    "start_time": "2022-02-20T13:13:27.412Z"
   },
   {
    "duration": 521,
    "start_time": "2022-02-20T13:13:27.415Z"
   },
   {
    "duration": 520,
    "start_time": "2022-02-20T13:13:27.418Z"
   },
   {
    "duration": 299,
    "start_time": "2022-02-20T14:03:39.152Z"
   },
   {
    "duration": 1253,
    "start_time": "2022-02-20T14:03:55.750Z"
   },
   {
    "duration": 486,
    "start_time": "2022-02-20T14:03:57.005Z"
   },
   {
    "duration": 15,
    "start_time": "2022-02-20T14:03:57.493Z"
   },
   {
    "duration": 38,
    "start_time": "2022-02-20T14:03:57.511Z"
   },
   {
    "duration": 9,
    "start_time": "2022-02-20T14:03:57.551Z"
   },
   {
    "duration": 25,
    "start_time": "2022-02-20T14:03:57.562Z"
   },
   {
    "duration": 8,
    "start_time": "2022-02-20T14:03:57.589Z"
   },
   {
    "duration": 22,
    "start_time": "2022-02-20T14:03:57.600Z"
   },
   {
    "duration": 11,
    "start_time": "2022-02-20T14:03:57.625Z"
   },
   {
    "duration": 23,
    "start_time": "2022-02-20T14:03:57.638Z"
   },
   {
    "duration": 32,
    "start_time": "2022-02-20T14:03:57.664Z"
   },
   {
    "duration": 15,
    "start_time": "2022-02-20T14:03:57.698Z"
   },
   {
    "duration": 33,
    "start_time": "2022-02-20T14:03:57.716Z"
   },
   {
    "duration": 15,
    "start_time": "2022-02-20T14:03:57.752Z"
   },
   {
    "duration": 343,
    "start_time": "2022-02-20T14:03:57.770Z"
   },
   {
    "duration": 31,
    "start_time": "2022-02-20T14:03:58.119Z"
   },
   {
    "duration": 21,
    "start_time": "2022-02-20T14:03:58.153Z"
   },
   {
    "duration": 102,
    "start_time": "2022-02-20T14:03:58.177Z"
   },
   {
    "duration": 33,
    "start_time": "2022-02-20T14:03:58.281Z"
   },
   {
    "duration": 8,
    "start_time": "2022-02-20T14:03:58.317Z"
   },
   {
    "duration": 21,
    "start_time": "2022-02-20T14:03:58.337Z"
   },
   {
    "duration": 14,
    "start_time": "2022-02-20T14:03:58.361Z"
   },
   {
    "duration": 232,
    "start_time": "2022-02-20T14:03:58.380Z"
   },
   {
    "duration": 153,
    "start_time": "2022-02-20T14:03:58.616Z"
   },
   {
    "duration": 8,
    "start_time": "2022-02-20T14:03:58.771Z"
   },
   {
    "duration": 43,
    "start_time": "2022-02-20T14:03:58.780Z"
   },
   {
    "duration": 17,
    "start_time": "2022-02-20T14:03:58.826Z"
   },
   {
    "duration": 31,
    "start_time": "2022-02-20T14:03:58.844Z"
   },
   {
    "duration": 16,
    "start_time": "2022-02-20T14:03:58.877Z"
   },
   {
    "duration": 24,
    "start_time": "2022-02-20T14:03:58.895Z"
   },
   {
    "duration": 110,
    "start_time": "2022-02-20T14:03:58.921Z"
   },
   {
    "duration": 31,
    "start_time": "2022-02-20T14:03:59.032Z"
   },
   {
    "duration": 53,
    "start_time": "2022-02-20T14:03:59.065Z"
   },
   {
    "duration": 65,
    "start_time": "2022-02-20T14:03:59.120Z"
   },
   {
    "duration": 48,
    "start_time": "2022-02-20T14:03:59.187Z"
   },
   {
    "duration": 27,
    "start_time": "2022-02-20T14:03:59.236Z"
   },
   {
    "duration": 10,
    "start_time": "2022-02-20T14:03:59.265Z"
   },
   {
    "duration": 18,
    "start_time": "2022-02-20T14:03:59.277Z"
   },
   {
    "duration": 79,
    "start_time": "2022-02-20T14:03:59.297Z"
   },
   {
    "duration": 5,
    "start_time": "2022-02-20T14:03:59.377Z"
   },
   {
    "duration": 12,
    "start_time": "2022-02-20T14:03:59.384Z"
   },
   {
    "duration": 351,
    "start_time": "2022-02-20T14:03:59.398Z"
   },
   {
    "duration": -2486,
    "start_time": "2022-02-20T14:04:02.237Z"
   },
   {
    "duration": -2600,
    "start_time": "2022-02-20T14:04:02.352Z"
   },
   {
    "duration": -2622,
    "start_time": "2022-02-20T14:04:02.375Z"
   },
   {
    "duration": -2638,
    "start_time": "2022-02-20T14:04:02.392Z"
   },
   {
    "duration": -2654,
    "start_time": "2022-02-20T14:04:02.409Z"
   },
   {
    "duration": -2669,
    "start_time": "2022-02-20T14:04:02.425Z"
   },
   {
    "duration": -2719,
    "start_time": "2022-02-20T14:04:02.476Z"
   },
   {
    "duration": -2745,
    "start_time": "2022-02-20T14:04:02.503Z"
   },
   {
    "duration": -2762,
    "start_time": "2022-02-20T14:04:02.521Z"
   },
   {
    "duration": -2777,
    "start_time": "2022-02-20T14:04:02.537Z"
   },
   {
    "duration": -2792,
    "start_time": "2022-02-20T14:04:02.554Z"
   },
   {
    "duration": -2807,
    "start_time": "2022-02-20T14:04:02.570Z"
   },
   {
    "duration": -2859,
    "start_time": "2022-02-20T14:04:02.623Z"
   },
   {
    "duration": -2872,
    "start_time": "2022-02-20T14:04:02.637Z"
   },
   {
    "duration": -2885,
    "start_time": "2022-02-20T14:04:02.651Z"
   },
   {
    "duration": -2896,
    "start_time": "2022-02-20T14:04:02.663Z"
   },
   {
    "duration": -2907,
    "start_time": "2022-02-20T14:04:02.675Z"
   },
   {
    "duration": -2918,
    "start_time": "2022-02-20T14:04:02.687Z"
   },
   {
    "duration": -2929,
    "start_time": "2022-02-20T14:04:02.700Z"
   },
   {
    "duration": -2939,
    "start_time": "2022-02-20T14:04:02.711Z"
   },
   {
    "duration": -2979,
    "start_time": "2022-02-20T14:04:02.752Z"
   },
   {
    "duration": -2991,
    "start_time": "2022-02-20T14:04:02.765Z"
   },
   {
    "duration": -3002,
    "start_time": "2022-02-20T14:04:02.777Z"
   },
   {
    "duration": -3012,
    "start_time": "2022-02-20T14:04:02.788Z"
   },
   {
    "duration": -3024,
    "start_time": "2022-02-20T14:04:02.801Z"
   },
   {
    "duration": -3036,
    "start_time": "2022-02-20T14:04:02.814Z"
   },
   {
    "duration": -3047,
    "start_time": "2022-02-20T14:04:02.826Z"
   },
   {
    "duration": -3060,
    "start_time": "2022-02-20T14:04:02.840Z"
   },
   {
    "duration": -3103,
    "start_time": "2022-02-20T14:04:02.884Z"
   },
   {
    "duration": -3117,
    "start_time": "2022-02-20T14:04:02.899Z"
   },
   {
    "duration": -3133,
    "start_time": "2022-02-20T14:04:02.916Z"
   },
   {
    "duration": 409,
    "start_time": "2022-02-20T14:04:25.657Z"
   },
   {
    "duration": 6,
    "start_time": "2022-02-20T14:05:26.969Z"
   },
   {
    "duration": 1242,
    "start_time": "2022-02-20T14:06:53.458Z"
   },
   {
    "duration": 452,
    "start_time": "2022-02-20T14:06:54.702Z"
   },
   {
    "duration": 13,
    "start_time": "2022-02-20T14:06:55.156Z"
   },
   {
    "duration": 23,
    "start_time": "2022-02-20T14:06:55.172Z"
   },
   {
    "duration": 9,
    "start_time": "2022-02-20T14:06:55.197Z"
   },
   {
    "duration": 25,
    "start_time": "2022-02-20T14:06:55.208Z"
   },
   {
    "duration": 8,
    "start_time": "2022-02-20T14:06:55.235Z"
   },
   {
    "duration": 13,
    "start_time": "2022-02-20T14:06:55.247Z"
   },
   {
    "duration": 16,
    "start_time": "2022-02-20T14:06:55.263Z"
   },
   {
    "duration": 37,
    "start_time": "2022-02-20T14:06:55.281Z"
   },
   {
    "duration": 11,
    "start_time": "2022-02-20T14:06:55.321Z"
   },
   {
    "duration": 10,
    "start_time": "2022-02-20T14:06:55.334Z"
   },
   {
    "duration": 32,
    "start_time": "2022-02-20T14:06:55.346Z"
   },
   {
    "duration": 10,
    "start_time": "2022-02-20T14:06:55.380Z"
   },
   {
    "duration": 229,
    "start_time": "2022-02-20T14:06:55.392Z"
   },
   {
    "duration": 24,
    "start_time": "2022-02-20T14:06:55.624Z"
   },
   {
    "duration": 20,
    "start_time": "2022-02-20T14:06:55.650Z"
   },
   {
    "duration": 95,
    "start_time": "2022-02-20T14:06:55.672Z"
   },
   {
    "duration": 20,
    "start_time": "2022-02-20T14:06:55.769Z"
   },
   {
    "duration": 8,
    "start_time": "2022-02-20T14:06:55.790Z"
   },
   {
    "duration": 25,
    "start_time": "2022-02-20T14:06:55.799Z"
   },
   {
    "duration": 20,
    "start_time": "2022-02-20T14:06:55.826Z"
   },
   {
    "duration": 163,
    "start_time": "2022-02-20T14:06:55.850Z"
   },
   {
    "duration": 156,
    "start_time": "2022-02-20T14:06:56.016Z"
   },
   {
    "duration": 6,
    "start_time": "2022-02-20T14:06:56.174Z"
   },
   {
    "duration": 37,
    "start_time": "2022-02-20T14:06:56.182Z"
   },
   {
    "duration": 17,
    "start_time": "2022-02-20T14:06:56.221Z"
   },
   {
    "duration": 19,
    "start_time": "2022-02-20T14:06:56.240Z"
   },
   {
    "duration": 10,
    "start_time": "2022-02-20T14:06:56.261Z"
   },
   {
    "duration": 4,
    "start_time": "2022-02-20T14:06:56.272Z"
   },
   {
    "duration": 126,
    "start_time": "2022-02-20T14:06:56.277Z"
   },
   {
    "duration": 41,
    "start_time": "2022-02-20T14:06:56.404Z"
   },
   {
    "duration": 35,
    "start_time": "2022-02-20T14:06:56.447Z"
   },
   {
    "duration": 91,
    "start_time": "2022-02-20T14:06:56.484Z"
   },
   {
    "duration": 63,
    "start_time": "2022-02-20T14:06:56.576Z"
   },
   {
    "duration": 26,
    "start_time": "2022-02-20T14:06:56.641Z"
   },
   {
    "duration": 8,
    "start_time": "2022-02-20T14:06:56.668Z"
   },
   {
    "duration": 6,
    "start_time": "2022-02-20T14:06:56.679Z"
   },
   {
    "duration": 87,
    "start_time": "2022-02-20T14:06:56.686Z"
   },
   {
    "duration": 5,
    "start_time": "2022-02-20T14:06:56.775Z"
   },
   {
    "duration": 6,
    "start_time": "2022-02-20T14:06:56.782Z"
   },
   {
    "duration": 8,
    "start_time": "2022-02-20T14:06:56.790Z"
   },
   {
    "duration": 16,
    "start_time": "2022-02-20T14:06:56.818Z"
   },
   {
    "duration": 60,
    "start_time": "2022-02-20T14:06:56.836Z"
   },
   {
    "duration": 57,
    "start_time": "2022-02-20T14:06:56.898Z"
   },
   {
    "duration": 35,
    "start_time": "2022-02-20T14:06:56.957Z"
   },
   {
    "duration": 40,
    "start_time": "2022-02-20T14:06:56.995Z"
   },
   {
    "duration": 13,
    "start_time": "2022-02-20T14:06:57.036Z"
   },
   {
    "duration": 27,
    "start_time": "2022-02-20T14:06:57.051Z"
   },
   {
    "duration": 46,
    "start_time": "2022-02-20T14:06:57.080Z"
   },
   {
    "duration": 26,
    "start_time": "2022-02-20T14:06:57.128Z"
   },
   {
    "duration": 11,
    "start_time": "2022-02-20T14:06:57.156Z"
   },
   {
    "duration": 10,
    "start_time": "2022-02-20T14:06:57.170Z"
   },
   {
    "duration": 1419,
    "start_time": "2022-02-20T14:06:57.183Z"
   },
   {
    "duration": 14,
    "start_time": "2022-02-20T14:06:58.605Z"
   },
   {
    "duration": 11,
    "start_time": "2022-02-20T14:06:58.622Z"
   },
   {
    "duration": 249,
    "start_time": "2022-02-20T14:06:58.635Z"
   },
   {
    "duration": 205,
    "start_time": "2022-02-20T14:06:58.886Z"
   },
   {
    "duration": 267,
    "start_time": "2022-02-20T14:06:59.093Z"
   },
   {
    "duration": 378,
    "start_time": "2022-02-20T14:06:59.362Z"
   },
   {
    "duration": 321,
    "start_time": "2022-02-20T14:06:59.742Z"
   },
   {
    "duration": 368,
    "start_time": "2022-02-20T14:07:00.065Z"
   },
   {
    "duration": 59,
    "start_time": "2022-02-20T14:07:00.436Z"
   },
   {
    "duration": 58,
    "start_time": "2022-02-20T14:07:00.498Z"
   },
   {
    "duration": 243,
    "start_time": "2022-02-20T14:07:00.557Z"
   },
   {
    "duration": 228,
    "start_time": "2022-02-20T14:07:00.802Z"
   },
   {
    "duration": 249,
    "start_time": "2022-02-20T14:07:01.032Z"
   },
   {
    "duration": 7,
    "start_time": "2022-02-20T14:07:01.286Z"
   },
   {
    "duration": 33,
    "start_time": "2022-02-20T14:07:01.295Z"
   },
   {
    "duration": 72,
    "start_time": "2022-02-20T14:07:01.330Z"
   },
   {
    "duration": 39,
    "start_time": "2022-02-20T14:07:01.404Z"
   },
   {
    "duration": 15,
    "start_time": "2022-02-20T14:07:01.445Z"
   },
   {
    "duration": 23,
    "start_time": "2022-02-20T14:07:01.462Z"
   },
   {
    "duration": 7,
    "start_time": "2022-02-20T14:31:26.252Z"
   },
   {
    "duration": 77,
    "start_time": "2022-02-20T14:31:31.742Z"
   },
   {
    "duration": 85,
    "start_time": "2022-02-20T14:32:04.919Z"
   },
   {
    "duration": 83,
    "start_time": "2022-02-20T14:32:15.497Z"
   },
   {
    "duration": 5,
    "start_time": "2022-02-20T14:34:03.895Z"
   },
   {
    "duration": 12,
    "start_time": "2022-02-20T14:34:49.810Z"
   },
   {
    "duration": 1624,
    "start_time": "2022-02-20T14:37:04.196Z"
   },
   {
    "duration": 587,
    "start_time": "2022-02-20T14:37:05.822Z"
   },
   {
    "duration": 16,
    "start_time": "2022-02-20T14:37:06.412Z"
   },
   {
    "duration": 40,
    "start_time": "2022-02-20T14:37:06.430Z"
   },
   {
    "duration": 8,
    "start_time": "2022-02-20T14:37:06.471Z"
   },
   {
    "duration": 22,
    "start_time": "2022-02-20T14:37:06.481Z"
   },
   {
    "duration": 10,
    "start_time": "2022-02-20T14:37:06.518Z"
   },
   {
    "duration": 35,
    "start_time": "2022-02-20T14:37:06.532Z"
   },
   {
    "duration": 39,
    "start_time": "2022-02-20T14:37:06.570Z"
   },
   {
    "duration": 18,
    "start_time": "2022-02-20T14:37:06.611Z"
   },
   {
    "duration": 19,
    "start_time": "2022-02-20T14:37:06.631Z"
   },
   {
    "duration": 16,
    "start_time": "2022-02-20T14:37:06.651Z"
   },
   {
    "duration": 36,
    "start_time": "2022-02-20T14:37:06.668Z"
   },
   {
    "duration": 9,
    "start_time": "2022-02-20T14:37:06.706Z"
   },
   {
    "duration": 206,
    "start_time": "2022-02-20T14:37:06.717Z"
   },
   {
    "duration": 25,
    "start_time": "2022-02-20T14:37:06.924Z"
   },
   {
    "duration": 19,
    "start_time": "2022-02-20T14:37:06.951Z"
   },
   {
    "duration": 93,
    "start_time": "2022-02-20T14:37:06.972Z"
   },
   {
    "duration": 20,
    "start_time": "2022-02-20T14:37:07.067Z"
   },
   {
    "duration": 14,
    "start_time": "2022-02-20T14:37:07.089Z"
   },
   {
    "duration": 22,
    "start_time": "2022-02-20T14:37:07.105Z"
   },
   {
    "duration": 21,
    "start_time": "2022-02-20T14:37:07.129Z"
   },
   {
    "duration": 174,
    "start_time": "2022-02-20T14:37:07.154Z"
   },
   {
    "duration": 152,
    "start_time": "2022-02-20T14:37:07.330Z"
   },
   {
    "duration": 6,
    "start_time": "2022-02-20T14:37:07.484Z"
   },
   {
    "duration": 34,
    "start_time": "2022-02-20T14:37:07.492Z"
   },
   {
    "duration": 16,
    "start_time": "2022-02-20T14:37:07.528Z"
   },
   {
    "duration": 23,
    "start_time": "2022-02-20T14:37:07.546Z"
   },
   {
    "duration": 10,
    "start_time": "2022-02-20T14:37:07.570Z"
   },
   {
    "duration": 38,
    "start_time": "2022-02-20T14:37:07.582Z"
   },
   {
    "duration": 108,
    "start_time": "2022-02-20T14:37:07.621Z"
   },
   {
    "duration": 29,
    "start_time": "2022-02-20T14:37:07.731Z"
   },
   {
    "duration": 67,
    "start_time": "2022-02-20T14:37:07.762Z"
   },
   {
    "duration": 62,
    "start_time": "2022-02-20T14:37:07.831Z"
   },
   {
    "duration": 57,
    "start_time": "2022-02-20T14:37:07.895Z"
   },
   {
    "duration": 26,
    "start_time": "2022-02-20T14:37:07.954Z"
   },
   {
    "duration": 17,
    "start_time": "2022-02-20T14:37:07.981Z"
   },
   {
    "duration": 24,
    "start_time": "2022-02-20T14:37:08.000Z"
   },
   {
    "duration": 9,
    "start_time": "2022-02-20T14:37:08.026Z"
   },
   {
    "duration": 33,
    "start_time": "2022-02-20T14:37:08.037Z"
   },
   {
    "duration": 29,
    "start_time": "2022-02-20T14:37:08.073Z"
   },
   {
    "duration": 43,
    "start_time": "2022-02-20T14:37:08.104Z"
   },
   {
    "duration": 22,
    "start_time": "2022-02-20T14:37:08.149Z"
   },
   {
    "duration": 40,
    "start_time": "2022-02-20T14:37:08.173Z"
   },
   {
    "duration": 81,
    "start_time": "2022-02-20T14:37:08.214Z"
   },
   {
    "duration": 55,
    "start_time": "2022-02-20T14:37:08.298Z"
   },
   {
    "duration": 48,
    "start_time": "2022-02-20T14:37:08.355Z"
   },
   {
    "duration": 33,
    "start_time": "2022-02-20T14:37:08.406Z"
   },
   {
    "duration": 20,
    "start_time": "2022-02-20T14:37:08.441Z"
   },
   {
    "duration": 40,
    "start_time": "2022-02-20T14:37:08.463Z"
   },
   {
    "duration": 34,
    "start_time": "2022-02-20T14:37:08.505Z"
   },
   {
    "duration": 47,
    "start_time": "2022-02-20T14:37:08.541Z"
   },
   {
    "duration": 11,
    "start_time": "2022-02-20T14:37:08.590Z"
   },
   {
    "duration": 28,
    "start_time": "2022-02-20T14:37:08.603Z"
   },
   {
    "duration": 916,
    "start_time": "2022-02-20T14:37:08.634Z"
   },
   {
    "duration": 7,
    "start_time": "2022-02-20T14:37:09.552Z"
   },
   {
    "duration": 29,
    "start_time": "2022-02-20T14:37:09.560Z"
   },
   {
    "duration": 244,
    "start_time": "2022-02-20T14:37:09.591Z"
   },
   {
    "duration": 313,
    "start_time": "2022-02-20T14:37:09.838Z"
   },
   {
    "duration": 227,
    "start_time": "2022-02-20T14:37:10.153Z"
   },
   {
    "duration": 238,
    "start_time": "2022-02-20T14:37:10.381Z"
   },
   {
    "duration": 217,
    "start_time": "2022-02-20T14:37:10.621Z"
   },
   {
    "duration": 280,
    "start_time": "2022-02-20T14:37:10.840Z"
   },
   {
    "duration": 38,
    "start_time": "2022-02-20T14:37:11.121Z"
   },
   {
    "duration": 58,
    "start_time": "2022-02-20T14:37:11.161Z"
   },
   {
    "duration": 227,
    "start_time": "2022-02-20T14:37:11.221Z"
   },
   {
    "duration": 221,
    "start_time": "2022-02-20T14:37:11.450Z"
   },
   {
    "duration": 245,
    "start_time": "2022-02-20T14:37:11.677Z"
   },
   {
    "duration": 7,
    "start_time": "2022-02-20T14:37:11.924Z"
   },
   {
    "duration": 21,
    "start_time": "2022-02-20T14:37:11.933Z"
   },
   {
    "duration": 23,
    "start_time": "2022-02-20T14:37:11.956Z"
   },
   {
    "duration": 44,
    "start_time": "2022-02-20T14:37:11.981Z"
   },
   {
    "duration": 38,
    "start_time": "2022-02-20T14:37:12.027Z"
   },
   {
    "duration": 34,
    "start_time": "2022-02-20T14:37:12.067Z"
   },
   {
    "duration": 1318,
    "start_time": "2022-02-20T20:51:38.641Z"
   },
   {
    "duration": 624,
    "start_time": "2022-02-20T20:51:39.961Z"
   },
   {
    "duration": 13,
    "start_time": "2022-02-20T20:51:40.590Z"
   },
   {
    "duration": 24,
    "start_time": "2022-02-20T20:51:40.606Z"
   },
   {
    "duration": 9,
    "start_time": "2022-02-20T20:51:40.632Z"
   },
   {
    "duration": 30,
    "start_time": "2022-02-20T20:51:40.644Z"
   },
   {
    "duration": 8,
    "start_time": "2022-02-20T20:51:40.677Z"
   },
   {
    "duration": 14,
    "start_time": "2022-02-20T20:51:40.688Z"
   },
   {
    "duration": 12,
    "start_time": "2022-02-20T20:51:40.704Z"
   },
   {
    "duration": 8,
    "start_time": "2022-02-20T20:51:40.718Z"
   },
   {
    "duration": 41,
    "start_time": "2022-02-20T20:51:40.728Z"
   },
   {
    "duration": 7,
    "start_time": "2022-02-20T20:51:40.771Z"
   },
   {
    "duration": 25,
    "start_time": "2022-02-20T20:51:40.780Z"
   },
   {
    "duration": 9,
    "start_time": "2022-02-20T20:51:40.807Z"
   },
   {
    "duration": 241,
    "start_time": "2022-02-20T20:51:40.819Z"
   },
   {
    "duration": 29,
    "start_time": "2022-02-20T20:51:41.068Z"
   },
   {
    "duration": 18,
    "start_time": "2022-02-20T20:51:41.099Z"
   },
   {
    "duration": 96,
    "start_time": "2022-02-20T20:51:41.118Z"
   },
   {
    "duration": 21,
    "start_time": "2022-02-20T20:51:41.216Z"
   },
   {
    "duration": 10,
    "start_time": "2022-02-20T20:51:41.239Z"
   },
   {
    "duration": 27,
    "start_time": "2022-02-20T20:51:41.251Z"
   },
   {
    "duration": 14,
    "start_time": "2022-02-20T20:51:41.283Z"
   },
   {
    "duration": 208,
    "start_time": "2022-02-20T20:51:41.300Z"
   },
   {
    "duration": 174,
    "start_time": "2022-02-20T20:51:41.510Z"
   },
   {
    "duration": 6,
    "start_time": "2022-02-20T20:51:41.686Z"
   },
   {
    "duration": 36,
    "start_time": "2022-02-20T20:51:41.694Z"
   },
   {
    "duration": 18,
    "start_time": "2022-02-20T20:51:41.733Z"
   },
   {
    "duration": 26,
    "start_time": "2022-02-20T20:51:41.769Z"
   },
   {
    "duration": 12,
    "start_time": "2022-02-20T20:51:41.796Z"
   },
   {
    "duration": 3,
    "start_time": "2022-02-20T20:51:41.810Z"
   },
   {
    "duration": 128,
    "start_time": "2022-02-20T20:51:41.815Z"
   },
   {
    "duration": 43,
    "start_time": "2022-02-20T20:51:41.945Z"
   },
   {
    "duration": 36,
    "start_time": "2022-02-20T20:51:41.990Z"
   },
   {
    "duration": 78,
    "start_time": "2022-02-20T20:51:42.028Z"
   },
   {
    "duration": 34,
    "start_time": "2022-02-20T20:51:42.108Z"
   },
   {
    "duration": 43,
    "start_time": "2022-02-20T20:51:42.144Z"
   },
   {
    "duration": 6,
    "start_time": "2022-02-20T20:51:42.189Z"
   },
   {
    "duration": 7,
    "start_time": "2022-02-20T20:51:42.197Z"
   },
   {
    "duration": 5,
    "start_time": "2022-02-20T20:51:42.205Z"
   },
   {
    "duration": 14,
    "start_time": "2022-02-20T20:51:42.212Z"
   },
   {
    "duration": 4,
    "start_time": "2022-02-20T20:51:42.228Z"
   },
   {
    "duration": 37,
    "start_time": "2022-02-20T20:51:42.233Z"
   },
   {
    "duration": 9,
    "start_time": "2022-02-20T20:51:42.272Z"
   },
   {
    "duration": 17,
    "start_time": "2022-02-20T20:51:42.282Z"
   },
   {
    "duration": 76,
    "start_time": "2022-02-20T20:51:42.301Z"
   },
   {
    "duration": 40,
    "start_time": "2022-02-20T20:51:42.380Z"
   },
   {
    "duration": 50,
    "start_time": "2022-02-20T20:51:42.422Z"
   },
   {
    "duration": 18,
    "start_time": "2022-02-20T20:51:42.474Z"
   },
   {
    "duration": 12,
    "start_time": "2022-02-20T20:51:42.493Z"
   },
   {
    "duration": 26,
    "start_time": "2022-02-20T20:51:42.507Z"
   },
   {
    "duration": 42,
    "start_time": "2022-02-20T20:51:42.535Z"
   },
   {
    "duration": 30,
    "start_time": "2022-02-20T20:51:42.579Z"
   },
   {
    "duration": 11,
    "start_time": "2022-02-20T20:51:42.611Z"
   },
   {
    "duration": 7,
    "start_time": "2022-02-20T20:51:42.624Z"
   },
   {
    "duration": 918,
    "start_time": "2022-02-20T20:51:42.633Z"
   },
   {
    "duration": 18,
    "start_time": "2022-02-20T20:51:43.552Z"
   },
   {
    "duration": 9,
    "start_time": "2022-02-20T20:51:43.572Z"
   },
   {
    "duration": 267,
    "start_time": "2022-02-20T20:51:43.582Z"
   },
   {
    "duration": 236,
    "start_time": "2022-02-20T20:51:43.851Z"
   },
   {
    "duration": 253,
    "start_time": "2022-02-20T20:51:44.089Z"
   },
   {
    "duration": 260,
    "start_time": "2022-02-20T20:51:44.344Z"
   },
   {
    "duration": 242,
    "start_time": "2022-02-20T20:51:44.606Z"
   },
   {
    "duration": 300,
    "start_time": "2022-02-20T20:51:44.850Z"
   },
   {
    "duration": 49,
    "start_time": "2022-02-20T20:51:45.152Z"
   },
   {
    "duration": 41,
    "start_time": "2022-02-20T20:51:45.203Z"
   },
   {
    "duration": 290,
    "start_time": "2022-02-20T20:51:45.246Z"
   },
   {
    "duration": 271,
    "start_time": "2022-02-20T20:51:45.543Z"
   },
   {
    "duration": 264,
    "start_time": "2022-02-20T20:51:45.817Z"
   },
   {
    "duration": 7,
    "start_time": "2022-02-20T20:51:46.084Z"
   },
   {
    "duration": 9,
    "start_time": "2022-02-20T20:51:46.093Z"
   },
   {
    "duration": 10,
    "start_time": "2022-02-20T20:51:46.104Z"
   },
   {
    "duration": 8,
    "start_time": "2022-02-20T20:51:46.116Z"
   },
   {
    "duration": 6,
    "start_time": "2022-02-20T20:51:46.126Z"
   },
   {
    "duration": 38,
    "start_time": "2022-02-20T20:51:46.134Z"
   },
   {
    "duration": 27,
    "start_time": "2022-02-20T20:52:16.102Z"
   },
   {
    "duration": 26,
    "start_time": "2022-02-20T21:02:59.729Z"
   },
   {
    "duration": 20,
    "start_time": "2022-02-20T21:11:28.804Z"
   },
   {
    "duration": 16,
    "start_time": "2022-02-20T22:18:13.270Z"
   },
   {
    "duration": 3,
    "start_time": "2022-02-20T22:19:03.478Z"
   },
   {
    "duration": 17,
    "start_time": "2022-02-20T22:19:49.421Z"
   },
   {
    "duration": 17,
    "start_time": "2022-02-20T22:19:58.689Z"
   },
   {
    "duration": 360,
    "start_time": "2022-02-21T07:29:02.221Z"
   },
   {
    "duration": 1546,
    "start_time": "2022-02-21T07:29:12.096Z"
   },
   {
    "duration": 1013,
    "start_time": "2022-02-21T07:29:13.645Z"
   },
   {
    "duration": 16,
    "start_time": "2022-02-21T07:29:14.662Z"
   },
   {
    "duration": 21,
    "start_time": "2022-02-21T07:29:14.681Z"
   },
   {
    "duration": 10,
    "start_time": "2022-02-21T07:29:14.705Z"
   },
   {
    "duration": 23,
    "start_time": "2022-02-21T07:29:14.718Z"
   },
   {
    "duration": 19,
    "start_time": "2022-02-21T07:29:14.744Z"
   },
   {
    "duration": 15,
    "start_time": "2022-02-21T07:29:14.767Z"
   },
   {
    "duration": 13,
    "start_time": "2022-02-21T07:29:14.785Z"
   },
   {
    "duration": 10,
    "start_time": "2022-02-21T07:29:14.800Z"
   },
   {
    "duration": 17,
    "start_time": "2022-02-21T07:29:14.813Z"
   },
   {
    "duration": 31,
    "start_time": "2022-02-21T07:29:14.833Z"
   },
   {
    "duration": 31,
    "start_time": "2022-02-21T07:29:14.867Z"
   },
   {
    "duration": 62,
    "start_time": "2022-02-21T07:29:14.901Z"
   },
   {
    "duration": 401,
    "start_time": "2022-02-21T07:29:14.966Z"
   },
   {
    "duration": 31,
    "start_time": "2022-02-21T07:29:15.369Z"
   },
   {
    "duration": 75,
    "start_time": "2022-02-21T07:29:15.403Z"
   },
   {
    "duration": 158,
    "start_time": "2022-02-21T07:29:15.480Z"
   },
   {
    "duration": 35,
    "start_time": "2022-02-21T07:29:15.640Z"
   },
   {
    "duration": 12,
    "start_time": "2022-02-21T07:29:15.678Z"
   },
   {
    "duration": 15,
    "start_time": "2022-02-21T07:29:15.692Z"
   },
   {
    "duration": 51,
    "start_time": "2022-02-21T07:29:15.710Z"
   },
   {
    "duration": 215,
    "start_time": "2022-02-21T07:29:15.768Z"
   },
   {
    "duration": 229,
    "start_time": "2022-02-21T07:29:15.987Z"
   },
   {
    "duration": 9,
    "start_time": "2022-02-21T07:29:16.218Z"
   },
   {
    "duration": 51,
    "start_time": "2022-02-21T07:29:16.229Z"
   },
   {
    "duration": 24,
    "start_time": "2022-02-21T07:29:16.282Z"
   },
   {
    "duration": 28,
    "start_time": "2022-02-21T07:29:16.309Z"
   },
   {
    "duration": 14,
    "start_time": "2022-02-21T07:29:16.362Z"
   },
   {
    "duration": 5,
    "start_time": "2022-02-21T07:29:16.379Z"
   },
   {
    "duration": 145,
    "start_time": "2022-02-21T07:29:16.387Z"
   },
   {
    "duration": 61,
    "start_time": "2022-02-21T07:29:16.535Z"
   },
   {
    "duration": 71,
    "start_time": "2022-02-21T07:29:16.599Z"
   },
   {
    "duration": 91,
    "start_time": "2022-02-21T07:29:16.672Z"
   },
   {
    "duration": 52,
    "start_time": "2022-02-21T07:29:16.766Z"
   },
   {
    "duration": 54,
    "start_time": "2022-02-21T07:29:16.821Z"
   },
   {
    "duration": 9,
    "start_time": "2022-02-21T07:29:16.878Z"
   },
   {
    "duration": 11,
    "start_time": "2022-02-21T07:29:16.890Z"
   },
   {
    "duration": 5,
    "start_time": "2022-02-21T07:29:16.904Z"
   },
   {
    "duration": 52,
    "start_time": "2022-02-21T07:29:16.911Z"
   },
   {
    "duration": 5,
    "start_time": "2022-02-21T07:29:16.967Z"
   },
   {
    "duration": 6,
    "start_time": "2022-02-21T07:29:16.975Z"
   },
   {
    "duration": 8,
    "start_time": "2022-02-21T07:29:16.984Z"
   },
   {
    "duration": 23,
    "start_time": "2022-02-21T07:29:16.994Z"
   },
   {
    "duration": 118,
    "start_time": "2022-02-21T07:29:17.019Z"
   },
   {
    "duration": 67,
    "start_time": "2022-02-21T07:29:17.139Z"
   },
   {
    "duration": 59,
    "start_time": "2022-02-21T07:29:17.208Z"
   },
   {
    "duration": 23,
    "start_time": "2022-02-21T07:29:17.270Z"
   },
   {
    "duration": 15,
    "start_time": "2022-02-21T07:29:17.295Z"
   },
   {
    "duration": 70,
    "start_time": "2022-02-21T07:29:17.313Z"
   },
   {
    "duration": 5,
    "start_time": "2022-02-21T07:29:17.387Z"
   },
   {
    "duration": 44,
    "start_time": "2022-02-21T07:29:17.395Z"
   },
   {
    "duration": 40,
    "start_time": "2022-02-21T07:29:17.442Z"
   },
   {
    "duration": 11,
    "start_time": "2022-02-21T07:29:17.485Z"
   },
   {
    "duration": 1671,
    "start_time": "2022-02-21T07:29:17.499Z"
   },
   {
    "duration": 10,
    "start_time": "2022-02-21T07:29:19.172Z"
   },
   {
    "duration": 12,
    "start_time": "2022-02-21T07:29:19.184Z"
   },
   {
    "duration": 368,
    "start_time": "2022-02-21T07:29:19.198Z"
   },
   {
    "duration": 319,
    "start_time": "2022-02-21T07:29:19.569Z"
   },
   {
    "duration": 362,
    "start_time": "2022-02-21T07:29:19.890Z"
   },
   {
    "duration": 370,
    "start_time": "2022-02-21T07:29:20.254Z"
   },
   {
    "duration": 348,
    "start_time": "2022-02-21T07:29:20.627Z"
   },
   {
    "duration": 405,
    "start_time": "2022-02-21T07:29:20.978Z"
   },
   {
    "duration": 77,
    "start_time": "2022-02-21T07:29:21.386Z"
   },
   {
    "duration": 61,
    "start_time": "2022-02-21T07:29:21.465Z"
   },
   {
    "duration": 399,
    "start_time": "2022-02-21T07:29:21.529Z"
   },
   {
    "duration": 409,
    "start_time": "2022-02-21T07:29:21.930Z"
   },
   {
    "duration": 397,
    "start_time": "2022-02-21T07:29:22.346Z"
   },
   {
    "duration": 16,
    "start_time": "2022-02-21T07:29:22.746Z"
   },
   {
    "duration": 8,
    "start_time": "2022-02-21T07:29:22.765Z"
   },
   {
    "duration": 14,
    "start_time": "2022-02-21T07:29:22.776Z"
   },
   {
    "duration": 13,
    "start_time": "2022-02-21T07:29:22.792Z"
   },
   {
    "duration": 13,
    "start_time": "2022-02-21T07:29:22.808Z"
   },
   {
    "duration": 43,
    "start_time": "2022-02-21T07:29:22.824Z"
   },
   {
    "duration": 77,
    "start_time": "2022-02-21T07:32:13.124Z"
   },
   {
    "duration": 45,
    "start_time": "2022-02-21T07:32:32.886Z"
   },
   {
    "duration": 25,
    "start_time": "2022-02-21T07:32:38.271Z"
   },
   {
    "duration": 15,
    "start_time": "2022-02-21T07:32:46.306Z"
   },
   {
    "duration": 415,
    "start_time": "2022-02-21T07:34:37.335Z"
   },
   {
    "duration": 300,
    "start_time": "2022-02-21T07:34:49.081Z"
   },
   {
    "duration": 111,
    "start_time": "2022-02-21T07:36:32.507Z"
   },
   {
    "duration": 14,
    "start_time": "2022-02-21T07:36:48.071Z"
   },
   {
    "duration": 22,
    "start_time": "2022-02-21T07:37:54.928Z"
   },
   {
    "duration": 48,
    "start_time": "2022-02-21T07:38:59.348Z"
   },
   {
    "duration": 36,
    "start_time": "2022-02-21T07:39:06.737Z"
   },
   {
    "duration": 285,
    "start_time": "2022-02-21T07:45:23.953Z"
   },
   {
    "duration": 52,
    "start_time": "2022-02-21T08:04:56.466Z"
   },
   {
    "duration": 41,
    "start_time": "2022-02-21T08:05:07.668Z"
   },
   {
    "duration": 30,
    "start_time": "2022-02-21T08:05:32.960Z"
   },
   {
    "duration": 6,
    "start_time": "2022-02-21T08:05:33.938Z"
   },
   {
    "duration": 36,
    "start_time": "2022-02-21T08:05:36.191Z"
   },
   {
    "duration": 25,
    "start_time": "2022-02-21T08:05:37.767Z"
   },
   {
    "duration": 72,
    "start_time": "2022-02-21T08:06:14.795Z"
   },
   {
    "duration": 430,
    "start_time": "2022-02-21T08:13:24.394Z"
   },
   {
    "duration": 78,
    "start_time": "2022-02-21T08:13:38.962Z"
   },
   {
    "duration": 38,
    "start_time": "2022-02-21T08:14:51.209Z"
   },
   {
    "duration": 295,
    "start_time": "2022-02-21T08:15:31.346Z"
   },
   {
    "duration": 774,
    "start_time": "2022-02-21T08:15:41.634Z"
   },
   {
    "duration": 28,
    "start_time": "2022-02-21T08:15:50.286Z"
   },
   {
    "duration": 5,
    "start_time": "2022-02-21T08:15:51.246Z"
   },
   {
    "duration": 46,
    "start_time": "2022-02-21T08:15:52.747Z"
   },
   {
    "duration": 25,
    "start_time": "2022-02-21T08:15:58.174Z"
   },
   {
    "duration": 11,
    "start_time": "2022-02-21T08:56:32.455Z"
   },
   {
    "duration": 102,
    "start_time": "2022-02-21T09:11:55.842Z"
   },
   {
    "duration": 323,
    "start_time": "2022-02-21T09:12:16.489Z"
   },
   {
    "duration": 99,
    "start_time": "2022-02-21T09:13:50.924Z"
   },
   {
    "duration": 147,
    "start_time": "2022-02-21T09:14:15.274Z"
   },
   {
    "duration": 108,
    "start_time": "2022-02-21T09:14:36.325Z"
   },
   {
    "duration": 113,
    "start_time": "2022-02-21T09:16:04.641Z"
   },
   {
    "duration": 16,
    "start_time": "2022-02-21T09:16:27.782Z"
   },
   {
    "duration": 348,
    "start_time": "2022-02-21T09:20:18.697Z"
   },
   {
    "duration": 21,
    "start_time": "2022-02-21T09:22:13.623Z"
   },
   {
    "duration": 312,
    "start_time": "2022-02-21T09:23:41.349Z"
   },
   {
    "duration": 354,
    "start_time": "2022-02-21T09:23:52.099Z"
   },
   {
    "duration": 548,
    "start_time": "2022-02-21T09:24:21.286Z"
   },
   {
    "duration": 308,
    "start_time": "2022-02-21T09:25:32.250Z"
   },
   {
    "duration": 347,
    "start_time": "2022-02-21T09:25:40.706Z"
   },
   {
    "duration": 336,
    "start_time": "2022-02-21T09:27:23.809Z"
   },
   {
    "duration": 287,
    "start_time": "2022-02-21T09:33:08.137Z"
   },
   {
    "duration": 310,
    "start_time": "2022-02-21T09:33:25.341Z"
   },
   {
    "duration": 265,
    "start_time": "2022-02-21T09:35:09.555Z"
   },
   {
    "duration": 318,
    "start_time": "2022-02-21T09:35:40.543Z"
   },
   {
    "duration": 7564,
    "start_time": "2022-02-21T09:36:39.655Z"
   },
   {
    "duration": 4690,
    "start_time": "2022-02-21T09:37:59.904Z"
   },
   {
    "duration": 26,
    "start_time": "2022-02-21T09:41:03.439Z"
   },
   {
    "duration": 344,
    "start_time": "2022-02-21T09:42:57.238Z"
   },
   {
    "duration": 340,
    "start_time": "2022-02-21T09:43:25.117Z"
   },
   {
    "duration": 271,
    "start_time": "2022-02-21T09:44:11.148Z"
   },
   {
    "duration": 304,
    "start_time": "2022-02-21T09:51:43.511Z"
   },
   {
    "duration": 303,
    "start_time": "2022-02-21T09:52:44.076Z"
   },
   {
    "duration": 330,
    "start_time": "2022-02-21T09:53:22.104Z"
   },
   {
    "duration": 19,
    "start_time": "2022-02-21T09:56:52.894Z"
   },
   {
    "duration": 20,
    "start_time": "2022-02-21T09:57:18.431Z"
   },
   {
    "duration": 24,
    "start_time": "2022-02-21T09:57:45.873Z"
   },
   {
    "duration": 21,
    "start_time": "2022-02-21T09:58:00.116Z"
   },
   {
    "duration": 19,
    "start_time": "2022-02-21T09:58:30.341Z"
   },
   {
    "duration": 17,
    "start_time": "2022-02-21T09:58:50.425Z"
   },
   {
    "duration": 18,
    "start_time": "2022-02-21T09:59:17.347Z"
   },
   {
    "duration": 20,
    "start_time": "2022-02-21T10:00:24.345Z"
   },
   {
    "duration": 19,
    "start_time": "2022-02-21T10:00:41.340Z"
   },
   {
    "duration": 17,
    "start_time": "2022-02-21T10:00:42.759Z"
   },
   {
    "duration": 17,
    "start_time": "2022-02-21T10:00:57.599Z"
   },
   {
    "duration": 19,
    "start_time": "2022-02-21T10:01:36.510Z"
   },
   {
    "duration": 22,
    "start_time": "2022-02-21T10:01:49.354Z"
   },
   {
    "duration": 16,
    "start_time": "2022-02-21T10:01:50.965Z"
   },
   {
    "duration": 25,
    "start_time": "2022-02-21T10:07:11.975Z"
   },
   {
    "duration": 15,
    "start_time": "2022-02-21T10:07:21.253Z"
   },
   {
    "duration": 362,
    "start_time": "2022-02-21T10:07:24.671Z"
   },
   {
    "duration": 302,
    "start_time": "2022-02-21T10:11:05.153Z"
   },
   {
    "duration": 325,
    "start_time": "2022-02-21T10:11:33.906Z"
   },
   {
    "duration": 283,
    "start_time": "2022-02-21T10:12:19.416Z"
   },
   {
    "duration": 289,
    "start_time": "2022-02-21T10:14:51.900Z"
   },
   {
    "duration": 329,
    "start_time": "2022-02-21T10:15:36.515Z"
   },
   {
    "duration": 350,
    "start_time": "2022-02-21T10:23:57.998Z"
   },
   {
    "duration": 500,
    "start_time": "2022-02-21T10:24:49.892Z"
   },
   {
    "duration": 1570,
    "start_time": "2022-02-21T10:25:39.471Z"
   },
   {
    "duration": 569,
    "start_time": "2022-02-21T10:25:41.044Z"
   },
   {
    "duration": 15,
    "start_time": "2022-02-21T10:25:41.616Z"
   },
   {
    "duration": 21,
    "start_time": "2022-02-21T10:25:41.635Z"
   },
   {
    "duration": 11,
    "start_time": "2022-02-21T10:25:41.658Z"
   },
   {
    "duration": 19,
    "start_time": "2022-02-21T10:25:41.672Z"
   },
   {
    "duration": 10,
    "start_time": "2022-02-21T10:25:41.694Z"
   },
   {
    "duration": 22,
    "start_time": "2022-02-21T10:25:41.708Z"
   },
   {
    "duration": 13,
    "start_time": "2022-02-21T10:25:41.761Z"
   },
   {
    "duration": 10,
    "start_time": "2022-02-21T10:25:41.776Z"
   },
   {
    "duration": 16,
    "start_time": "2022-02-21T10:25:41.788Z"
   },
   {
    "duration": 10,
    "start_time": "2022-02-21T10:25:41.806Z"
   },
   {
    "duration": 62,
    "start_time": "2022-02-21T10:25:41.818Z"
   },
   {
    "duration": 14,
    "start_time": "2022-02-21T10:25:41.882Z"
   },
   {
    "duration": 242,
    "start_time": "2022-02-21T10:25:41.899Z"
   },
   {
    "duration": 42,
    "start_time": "2022-02-21T10:25:42.143Z"
   },
   {
    "duration": 27,
    "start_time": "2022-02-21T10:25:42.188Z"
   },
   {
    "duration": 123,
    "start_time": "2022-02-21T10:25:42.218Z"
   },
   {
    "duration": 37,
    "start_time": "2022-02-21T10:25:42.343Z"
   },
   {
    "duration": 13,
    "start_time": "2022-02-21T10:25:42.383Z"
   },
   {
    "duration": 14,
    "start_time": "2022-02-21T10:25:42.399Z"
   },
   {
    "duration": 57,
    "start_time": "2022-02-21T10:25:42.415Z"
   },
   {
    "duration": 191,
    "start_time": "2022-02-21T10:25:42.478Z"
   },
   {
    "duration": 219,
    "start_time": "2022-02-21T10:25:42.673Z"
   },
   {
    "duration": 8,
    "start_time": "2022-02-21T10:25:42.894Z"
   },
   {
    "duration": 40,
    "start_time": "2022-02-21T10:25:42.904Z"
   },
   {
    "duration": 36,
    "start_time": "2022-02-21T10:25:42.946Z"
   },
   {
    "duration": 29,
    "start_time": "2022-02-21T10:25:42.984Z"
   },
   {
    "duration": 48,
    "start_time": "2022-02-21T10:25:43.016Z"
   },
   {
    "duration": 5,
    "start_time": "2022-02-21T10:25:43.067Z"
   },
   {
    "duration": 137,
    "start_time": "2022-02-21T10:25:43.075Z"
   },
   {
    "duration": 62,
    "start_time": "2022-02-21T10:25:43.215Z"
   },
   {
    "duration": 53,
    "start_time": "2022-02-21T10:25:43.280Z"
   },
   {
    "duration": 94,
    "start_time": "2022-02-21T10:25:43.336Z"
   },
   {
    "duration": 59,
    "start_time": "2022-02-21T10:25:43.433Z"
   },
   {
    "duration": 35,
    "start_time": "2022-02-21T10:25:43.495Z"
   },
   {
    "duration": 33,
    "start_time": "2022-02-21T10:25:43.533Z"
   },
   {
    "duration": 10,
    "start_time": "2022-02-21T10:25:43.569Z"
   },
   {
    "duration": 4,
    "start_time": "2022-02-21T10:25:43.582Z"
   },
   {
    "duration": 16,
    "start_time": "2022-02-21T10:25:43.588Z"
   },
   {
    "duration": 6,
    "start_time": "2022-02-21T10:25:43.606Z"
   },
   {
    "duration": 8,
    "start_time": "2022-02-21T10:25:43.614Z"
   },
   {
    "duration": 40,
    "start_time": "2022-02-21T10:25:43.625Z"
   },
   {
    "duration": 20,
    "start_time": "2022-02-21T10:25:43.667Z"
   },
   {
    "duration": 110,
    "start_time": "2022-02-21T10:25:43.690Z"
   },
   {
    "duration": 60,
    "start_time": "2022-02-21T10:25:43.803Z"
   },
   {
    "duration": 45,
    "start_time": "2022-02-21T10:25:43.867Z"
   },
   {
    "duration": 58,
    "start_time": "2022-02-21T10:25:43.915Z"
   },
   {
    "duration": 14,
    "start_time": "2022-02-21T10:25:43.976Z"
   },
   {
    "duration": 36,
    "start_time": "2022-02-21T10:25:43.994Z"
   },
   {
    "duration": 4,
    "start_time": "2022-02-21T10:25:44.032Z"
   },
   {
    "duration": 46,
    "start_time": "2022-02-21T10:25:44.062Z"
   },
   {
    "duration": 49,
    "start_time": "2022-02-21T10:25:44.111Z"
   },
   {
    "duration": 16,
    "start_time": "2022-02-21T10:25:44.164Z"
   },
   {
    "duration": 426,
    "start_time": "2022-02-21T10:25:44.182Z"
   },
   {
    "duration": -4147,
    "start_time": "2022-02-21T10:25:48.758Z"
   },
   {
    "duration": -4159,
    "start_time": "2022-02-21T10:25:48.771Z"
   },
   {
    "duration": -4174,
    "start_time": "2022-02-21T10:25:48.788Z"
   },
   {
    "duration": -4190,
    "start_time": "2022-02-21T10:25:48.805Z"
   },
   {
    "duration": -4205,
    "start_time": "2022-02-21T10:25:48.822Z"
   },
   {
    "duration": -4265,
    "start_time": "2022-02-21T10:25:48.884Z"
   },
   {
    "duration": -4280,
    "start_time": "2022-02-21T10:25:48.900Z"
   },
   {
    "duration": -4291,
    "start_time": "2022-02-21T10:25:48.913Z"
   },
   {
    "duration": -4304,
    "start_time": "2022-02-21T10:25:48.927Z"
   },
   {
    "duration": -4316,
    "start_time": "2022-02-21T10:25:48.941Z"
   },
   {
    "duration": -4329,
    "start_time": "2022-02-21T10:25:48.955Z"
   },
   {
    "duration": -4341,
    "start_time": "2022-02-21T10:25:48.968Z"
   },
   {
    "duration": -4375,
    "start_time": "2022-02-21T10:25:49.004Z"
   },
   {
    "duration": -4387,
    "start_time": "2022-02-21T10:25:49.017Z"
   },
   {
    "duration": -4400,
    "start_time": "2022-02-21T10:25:49.031Z"
   },
   {
    "duration": -4412,
    "start_time": "2022-02-21T10:25:49.045Z"
   },
   {
    "duration": -4425,
    "start_time": "2022-02-21T10:25:49.059Z"
   },
   {
    "duration": -4436,
    "start_time": "2022-02-21T10:25:49.071Z"
   },
   {
    "duration": -4450,
    "start_time": "2022-02-21T10:25:49.086Z"
   },
   {
    "duration": -4482,
    "start_time": "2022-02-21T10:25:49.120Z"
   },
   {
    "duration": -4496,
    "start_time": "2022-02-21T10:25:49.135Z"
   },
   {
    "duration": -4508,
    "start_time": "2022-02-21T10:25:49.148Z"
   },
   {
    "duration": -4522,
    "start_time": "2022-02-21T10:25:49.164Z"
   },
   {
    "duration": -4534,
    "start_time": "2022-02-21T10:25:49.177Z"
   },
   {
    "duration": 118,
    "start_time": "2022-02-21T10:26:43.746Z"
   },
   {
    "duration": 92,
    "start_time": "2022-02-21T10:27:00.117Z"
   },
   {
    "duration": 16,
    "start_time": "2022-02-21T10:27:12.186Z"
   },
   {
    "duration": 17,
    "start_time": "2022-02-21T10:28:56.394Z"
   },
   {
    "duration": 557,
    "start_time": "2022-02-21T10:32:05.723Z"
   },
   {
    "duration": 348,
    "start_time": "2022-02-21T10:32:28.222Z"
   },
   {
    "duration": 7,
    "start_time": "2022-02-21T10:33:21.493Z"
   },
   {
    "duration": 20,
    "start_time": "2022-02-21T10:33:59.311Z"
   },
   {
    "duration": 19,
    "start_time": "2022-02-21T10:34:41.398Z"
   },
   {
    "duration": 10,
    "start_time": "2022-02-21T10:43:49.548Z"
   },
   {
    "duration": 618,
    "start_time": "2022-02-21T10:43:50.684Z"
   },
   {
    "duration": 13,
    "start_time": "2022-02-21T10:50:16.894Z"
   },
   {
    "duration": 19,
    "start_time": "2022-02-21T10:50:20.632Z"
   },
   {
    "duration": 1698,
    "start_time": "2022-02-21T10:50:27.300Z"
   },
   {
    "duration": 10,
    "start_time": "2022-02-21T10:50:29.482Z"
   },
   {
    "duration": 284,
    "start_time": "2022-02-21T10:53:14.771Z"
   },
   {
    "duration": 273,
    "start_time": "2022-02-21T10:53:15.528Z"
   },
   {
    "duration": 1524,
    "start_time": "2022-02-21T10:54:06.071Z"
   },
   {
    "duration": 557,
    "start_time": "2022-02-21T10:54:07.598Z"
   },
   {
    "duration": 15,
    "start_time": "2022-02-21T10:54:08.158Z"
   },
   {
    "duration": 22,
    "start_time": "2022-02-21T10:54:08.176Z"
   },
   {
    "duration": 13,
    "start_time": "2022-02-21T10:54:08.201Z"
   },
   {
    "duration": 52,
    "start_time": "2022-02-21T10:54:08.216Z"
   },
   {
    "duration": 11,
    "start_time": "2022-02-21T10:54:08.271Z"
   },
   {
    "duration": 15,
    "start_time": "2022-02-21T10:54:08.286Z"
   },
   {
    "duration": 13,
    "start_time": "2022-02-21T10:54:08.304Z"
   },
   {
    "duration": 44,
    "start_time": "2022-02-21T10:54:08.319Z"
   },
   {
    "duration": 17,
    "start_time": "2022-02-21T10:54:08.365Z"
   },
   {
    "duration": 11,
    "start_time": "2022-02-21T10:54:08.384Z"
   },
   {
    "duration": 34,
    "start_time": "2022-02-21T10:54:08.397Z"
   },
   {
    "duration": 13,
    "start_time": "2022-02-21T10:54:08.461Z"
   },
   {
    "duration": 226,
    "start_time": "2022-02-21T10:54:08.477Z"
   },
   {
    "duration": 28,
    "start_time": "2022-02-21T10:54:08.705Z"
   },
   {
    "duration": 42,
    "start_time": "2022-02-21T10:54:08.735Z"
   },
   {
    "duration": 112,
    "start_time": "2022-02-21T10:54:08.780Z"
   },
   {
    "duration": 24,
    "start_time": "2022-02-21T10:54:08.895Z"
   },
   {
    "duration": 11,
    "start_time": "2022-02-21T10:54:08.922Z"
   },
   {
    "duration": 13,
    "start_time": "2022-02-21T10:54:08.961Z"
   },
   {
    "duration": 16,
    "start_time": "2022-02-21T10:54:08.977Z"
   },
   {
    "duration": 208,
    "start_time": "2022-02-21T10:54:09.000Z"
   },
   {
    "duration": 236,
    "start_time": "2022-02-21T10:54:09.213Z"
   },
   {
    "duration": 14,
    "start_time": "2022-02-21T10:54:09.452Z"
   },
   {
    "duration": 26,
    "start_time": "2022-02-21T10:54:09.469Z"
   },
   {
    "duration": 24,
    "start_time": "2022-02-21T10:54:09.498Z"
   },
   {
    "duration": 61,
    "start_time": "2022-02-21T10:54:09.524Z"
   },
   {
    "duration": 14,
    "start_time": "2022-02-21T10:54:09.588Z"
   },
   {
    "duration": 4,
    "start_time": "2022-02-21T10:54:09.605Z"
   },
   {
    "duration": 151,
    "start_time": "2022-02-21T10:54:09.611Z"
   },
   {
    "duration": 48,
    "start_time": "2022-02-21T10:54:09.765Z"
   },
   {
    "duration": 80,
    "start_time": "2022-02-21T10:54:09.815Z"
   },
   {
    "duration": 89,
    "start_time": "2022-02-21T10:54:09.898Z"
   },
   {
    "duration": 72,
    "start_time": "2022-02-21T10:54:09.989Z"
   },
   {
    "duration": 36,
    "start_time": "2022-02-21T10:54:10.063Z"
   },
   {
    "duration": 11,
    "start_time": "2022-02-21T10:54:10.102Z"
   },
   {
    "duration": 8,
    "start_time": "2022-02-21T10:54:10.116Z"
   },
   {
    "duration": 3,
    "start_time": "2022-02-21T10:54:10.161Z"
   },
   {
    "duration": 19,
    "start_time": "2022-02-21T10:54:10.167Z"
   },
   {
    "duration": 5,
    "start_time": "2022-02-21T10:54:10.189Z"
   },
   {
    "duration": 21,
    "start_time": "2022-02-21T10:54:10.196Z"
   },
   {
    "duration": 10,
    "start_time": "2022-02-21T10:54:10.219Z"
   },
   {
    "duration": 46,
    "start_time": "2022-02-21T10:54:10.233Z"
   },
   {
    "duration": 97,
    "start_time": "2022-02-21T10:54:10.282Z"
   },
   {
    "duration": 47,
    "start_time": "2022-02-21T10:54:10.382Z"
   },
   {
    "duration": 67,
    "start_time": "2022-02-21T10:54:10.432Z"
   },
   {
    "duration": 24,
    "start_time": "2022-02-21T10:54:10.502Z"
   },
   {
    "duration": 39,
    "start_time": "2022-02-21T10:54:10.528Z"
   },
   {
    "duration": 32,
    "start_time": "2022-02-21T10:54:10.570Z"
   },
   {
    "duration": 4,
    "start_time": "2022-02-21T10:54:10.605Z"
   },
   {
    "duration": 76,
    "start_time": "2022-02-21T10:54:10.611Z"
   },
   {
    "duration": 22,
    "start_time": "2022-02-21T10:54:10.690Z"
   },
   {
    "duration": 14,
    "start_time": "2022-02-21T10:54:10.715Z"
   },
   {
    "duration": 34,
    "start_time": "2022-02-21T10:54:10.732Z"
   },
   {
    "duration": 26,
    "start_time": "2022-02-21T10:54:10.769Z"
   },
   {
    "duration": 1730,
    "start_time": "2022-02-21T10:54:10.798Z"
   },
   {
    "duration": 10,
    "start_time": "2022-02-21T10:54:12.530Z"
   },
   {
    "duration": 12,
    "start_time": "2022-02-21T10:54:12.561Z"
   },
   {
    "duration": 360,
    "start_time": "2022-02-21T10:54:12.576Z"
   },
   {
    "duration": 325,
    "start_time": "2022-02-21T10:54:12.938Z"
   },
   {
    "duration": 343,
    "start_time": "2022-02-21T10:54:13.265Z"
   },
   {
    "duration": 337,
    "start_time": "2022-02-21T10:54:13.610Z"
   },
   {
    "duration": 331,
    "start_time": "2022-02-21T10:54:13.949Z"
   },
   {
    "duration": 388,
    "start_time": "2022-02-21T10:54:14.283Z"
   },
   {
    "duration": 54,
    "start_time": "2022-02-21T10:54:14.673Z"
   },
   {
    "duration": 77,
    "start_time": "2022-02-21T10:54:14.729Z"
   },
   {
    "duration": 387,
    "start_time": "2022-02-21T10:54:14.813Z"
   },
   {
    "duration": 383,
    "start_time": "2022-02-21T10:54:15.202Z"
   },
   {
    "duration": 376,
    "start_time": "2022-02-21T10:54:15.588Z"
   },
   {
    "duration": 10,
    "start_time": "2022-02-21T10:54:15.967Z"
   },
   {
    "duration": 12,
    "start_time": "2022-02-21T10:54:15.980Z"
   },
   {
    "duration": 14,
    "start_time": "2022-02-21T10:54:15.995Z"
   },
   {
    "duration": 53,
    "start_time": "2022-02-21T10:54:16.012Z"
   },
   {
    "duration": 9,
    "start_time": "2022-02-21T10:54:16.067Z"
   },
   {
    "duration": 15,
    "start_time": "2022-02-21T10:54:16.078Z"
   },
   {
    "duration": 16,
    "start_time": "2022-02-21T10:56:59.067Z"
   },
   {
    "duration": 1274,
    "start_time": "2022-02-21T16:46:13.179Z"
   },
   {
    "duration": 669,
    "start_time": "2022-02-21T16:46:14.456Z"
   },
   {
    "duration": 2576,
    "start_time": "2022-02-21T16:46:15.127Z"
   },
   {
    "duration": 857,
    "start_time": "2022-02-21T16:46:17.706Z"
   },
   {
    "duration": 391,
    "start_time": "2022-02-21T16:46:18.565Z"
   },
   {
    "duration": 1259,
    "start_time": "2022-02-21T16:46:18.957Z"
   },
   {
    "duration": 1374,
    "start_time": "2022-02-21T16:46:20.218Z"
   },
   {
    "duration": 1851,
    "start_time": "2022-02-21T16:46:21.594Z"
   },
   {
    "duration": 1281,
    "start_time": "2022-02-21T16:46:23.447Z"
   },
   {
    "duration": 1108,
    "start_time": "2022-02-21T16:46:24.731Z"
   },
   {
    "duration": 1341,
    "start_time": "2022-02-21T16:46:25.841Z"
   },
   {
    "duration": 3468,
    "start_time": "2022-02-21T16:46:27.184Z"
   },
   {
    "duration": 1247,
    "start_time": "2022-02-21T16:46:30.653Z"
   },
   {
    "duration": 1198,
    "start_time": "2022-02-21T16:46:31.902Z"
   },
   {
    "duration": 903,
    "start_time": "2022-02-21T16:46:33.102Z"
   },
   {
    "duration": 806,
    "start_time": "2022-02-21T16:46:34.007Z"
   },
   {
    "duration": 1377,
    "start_time": "2022-02-21T16:46:34.815Z"
   },
   {
    "duration": 922,
    "start_time": "2022-02-21T16:46:36.193Z"
   },
   {
    "duration": 765,
    "start_time": "2022-02-21T16:46:37.117Z"
   },
   {
    "duration": 1534,
    "start_time": "2022-02-21T16:46:37.884Z"
   },
   {
    "duration": 1246,
    "start_time": "2022-02-21T16:46:39.420Z"
   },
   {
    "duration": 1357,
    "start_time": "2022-02-21T16:46:40.668Z"
   },
   {
    "duration": 1118,
    "start_time": "2022-02-21T16:46:42.027Z"
   },
   {
    "duration": 927,
    "start_time": "2022-02-21T16:46:43.147Z"
   },
   {
    "duration": 999,
    "start_time": "2022-02-21T16:46:44.076Z"
   },
   {
    "duration": 858,
    "start_time": "2022-02-21T16:46:45.076Z"
   },
   {
    "duration": 2552,
    "start_time": "2022-02-21T16:46:45.938Z"
   },
   {
    "duration": 3544,
    "start_time": "2022-02-21T16:46:48.493Z"
   },
   {
    "duration": 2261,
    "start_time": "2022-02-21T16:46:52.038Z"
   },
   {
    "duration": 1204,
    "start_time": "2022-02-21T16:46:54.301Z"
   },
   {
    "duration": 1567,
    "start_time": "2022-02-21T16:46:55.507Z"
   },
   {
    "duration": 3253,
    "start_time": "2022-02-21T16:46:57.076Z"
   },
   {
    "duration": 1523,
    "start_time": "2022-02-21T16:47:00.330Z"
   },
   {
    "duration": 1882,
    "start_time": "2022-02-21T16:47:01.854Z"
   },
   {
    "duration": 2058,
    "start_time": "2022-02-21T16:47:03.738Z"
   },
   {
    "duration": 3049,
    "start_time": "2022-02-21T16:47:05.798Z"
   },
   {
    "duration": 2464,
    "start_time": "2022-02-21T16:47:08.849Z"
   },
   {
    "duration": 2536,
    "start_time": "2022-02-21T16:47:11.314Z"
   },
   {
    "duration": 5577,
    "start_time": "2022-02-21T16:47:13.852Z"
   },
   {
    "duration": 6565,
    "start_time": "2022-02-21T16:47:19.431Z"
   },
   {
    "duration": 8651,
    "start_time": "2022-02-21T16:47:25.997Z"
   },
   {
    "duration": 2242,
    "start_time": "2022-02-21T16:47:34.650Z"
   },
   {
    "duration": 1635,
    "start_time": "2022-02-21T16:47:36.894Z"
   },
   {
    "duration": 2396,
    "start_time": "2022-02-21T16:47:38.530Z"
   },
   {
    "duration": 6005,
    "start_time": "2022-02-21T16:47:40.928Z"
   },
   {
    "duration": 4080,
    "start_time": "2022-02-21T16:47:46.935Z"
   },
   {
    "duration": 4878,
    "start_time": "2022-02-21T16:47:51.017Z"
   },
   {
    "duration": 1797,
    "start_time": "2022-02-21T16:47:55.897Z"
   },
   {
    "duration": 1871,
    "start_time": "2022-02-21T16:47:57.696Z"
   },
   {
    "duration": 2852,
    "start_time": "2022-02-21T16:47:59.568Z"
   },
   {
    "duration": 2409,
    "start_time": "2022-02-21T16:48:02.422Z"
   },
   {
    "duration": 4499,
    "start_time": "2022-02-21T16:48:04.833Z"
   },
   {
    "duration": 6687,
    "start_time": "2022-02-21T16:48:09.334Z"
   },
   {
    "duration": 6274,
    "start_time": "2022-02-21T16:48:16.023Z"
   },
   {
    "duration": 5502,
    "start_time": "2022-02-21T16:48:22.299Z"
   },
   {
    "duration": 4204,
    "start_time": "2022-02-21T16:48:27.803Z"
   },
   {
    "duration": 10953,
    "start_time": "2022-02-21T16:48:32.008Z"
   },
   {
    "duration": 4159,
    "start_time": "2022-02-21T16:48:42.962Z"
   },
   {
    "duration": 6531,
    "start_time": "2022-02-21T16:48:47.122Z"
   },
   {
    "duration": 5082,
    "start_time": "2022-02-21T16:48:53.655Z"
   },
   {
    "duration": 1496,
    "start_time": "2022-02-21T16:48:58.739Z"
   },
   {
    "duration": 2190,
    "start_time": "2022-02-21T16:49:00.237Z"
   },
   {
    "duration": 2006,
    "start_time": "2022-02-21T16:49:02.429Z"
   },
   {
    "duration": 1316,
    "start_time": "2022-02-21T16:49:04.437Z"
   },
   {
    "duration": 1558,
    "start_time": "2022-02-21T16:49:05.755Z"
   },
   {
    "duration": 4147,
    "start_time": "2022-02-21T16:49:07.314Z"
   },
   {
    "duration": 3244,
    "start_time": "2022-02-21T16:49:11.463Z"
   },
   {
    "duration": 4182,
    "start_time": "2022-02-21T16:49:14.709Z"
   },
   {
    "duration": 3911,
    "start_time": "2022-02-21T16:49:18.893Z"
   },
   {
    "duration": 3957,
    "start_time": "2022-02-21T16:49:22.806Z"
   },
   {
    "duration": 3871,
    "start_time": "2022-02-21T16:49:26.765Z"
   },
   {
    "duration": 4322,
    "start_time": "2022-02-21T16:49:30.638Z"
   },
   {
    "duration": 4873,
    "start_time": "2022-02-21T16:49:34.962Z"
   },
   {
    "duration": 5161,
    "start_time": "2022-02-21T16:49:39.837Z"
   },
   {
    "duration": 430,
    "start_time": "2022-02-21T16:49:45.000Z"
   },
   {
    "duration": 498,
    "start_time": "2022-02-21T16:49:45.432Z"
   },
   {
    "duration": 6,
    "start_time": "2022-02-21T16:57:33.801Z"
   },
   {
    "duration": 699,
    "start_time": "2022-02-21T16:57:41.089Z"
   },
   {
    "duration": 7,
    "start_time": "2022-02-21T16:59:26.960Z"
   },
   {
    "duration": 7,
    "start_time": "2022-02-21T16:59:31.021Z"
   },
   {
    "duration": 308,
    "start_time": "2022-02-21T17:00:07.314Z"
   },
   {
    "duration": 6,
    "start_time": "2022-02-21T17:00:12.406Z"
   },
   {
    "duration": 5,
    "start_time": "2022-02-21T17:00:19.689Z"
   },
   {
    "duration": 6,
    "start_time": "2022-02-21T17:01:03.457Z"
   },
   {
    "duration": 626,
    "start_time": "2022-02-21T17:01:04.198Z"
   },
   {
    "duration": 6,
    "start_time": "2022-02-21T17:01:30.523Z"
   },
   {
    "duration": 9259,
    "start_time": "2022-02-21T17:01:31.150Z"
   },
   {
    "duration": 6,
    "start_time": "2022-02-21T17:01:57.202Z"
   },
   {
    "duration": 638,
    "start_time": "2022-02-21T17:01:57.914Z"
   },
   {
    "duration": 6,
    "start_time": "2022-02-21T17:02:47.424Z"
   },
   {
    "duration": 8074,
    "start_time": "2022-02-21T17:02:47.969Z"
   },
   {
    "duration": 8249,
    "start_time": "2022-02-21T17:03:18.814Z"
   },
   {
    "duration": 6,
    "start_time": "2022-02-21T17:04:06.847Z"
   },
   {
    "duration": 725,
    "start_time": "2022-02-21T17:04:13.218Z"
   },
   {
    "duration": 5,
    "start_time": "2022-02-21T17:04:43.325Z"
   },
   {
    "duration": 5,
    "start_time": "2022-02-21T17:05:30.372Z"
   },
   {
    "duration": 10994,
    "start_time": "2022-02-21T17:05:42.904Z"
   },
   {
    "duration": 4,
    "start_time": "2022-02-21T17:07:08.051Z"
   },
   {
    "duration": 8030,
    "start_time": "2022-02-21T17:07:09.324Z"
   },
   {
    "duration": 5,
    "start_time": "2022-02-21T17:08:47.829Z"
   },
   {
    "duration": 6594,
    "start_time": "2022-02-21T17:08:48.504Z"
   },
   {
    "duration": 6,
    "start_time": "2022-02-21T17:10:33.558Z"
   },
   {
    "duration": 8188,
    "start_time": "2022-02-21T17:10:45.344Z"
   },
   {
    "duration": 5,
    "start_time": "2022-02-21T17:20:14.956Z"
   },
   {
    "duration": 464,
    "start_time": "2022-02-21T17:20:29.717Z"
   },
   {
    "duration": 5,
    "start_time": "2022-02-21T17:20:32.969Z"
   },
   {
    "duration": 6,
    "start_time": "2022-02-21T17:20:33.309Z"
   },
   {
    "duration": 16251,
    "start_time": "2022-02-21T17:20:34.011Z"
   },
   {
    "duration": 5,
    "start_time": "2022-02-21T17:29:07.495Z"
   },
   {
    "duration": 305,
    "start_time": "2022-02-21T17:29:11.178Z"
   },
   {
    "duration": 299,
    "start_time": "2022-02-21T17:31:58.139Z"
   },
   {
    "duration": 6,
    "start_time": "2022-02-21T17:32:02.488Z"
   },
   {
    "duration": 6,
    "start_time": "2022-02-21T17:32:06.743Z"
   },
   {
    "duration": 647,
    "start_time": "2022-02-21T17:32:21.380Z"
   },
   {
    "duration": 322,
    "start_time": "2022-02-21T17:32:36.579Z"
   },
   {
    "duration": 5,
    "start_time": "2022-02-21T17:35:20.661Z"
   },
   {
    "duration": 6,
    "start_time": "2022-02-21T17:36:11.893Z"
   },
   {
    "duration": 5,
    "start_time": "2022-02-21T17:36:23.457Z"
   },
   {
    "duration": 6,
    "start_time": "2022-02-21T17:36:31.606Z"
   },
   {
    "duration": 5,
    "start_time": "2022-02-21T17:37:00.573Z"
   },
   {
    "duration": 6,
    "start_time": "2022-02-21T17:37:06.826Z"
   },
   {
    "duration": 7,
    "start_time": "2022-02-21T17:38:03.421Z"
   },
   {
    "duration": 4,
    "start_time": "2022-02-21T17:38:12.932Z"
   },
   {
    "duration": 6,
    "start_time": "2022-02-21T17:38:15.761Z"
   },
   {
    "duration": 6,
    "start_time": "2022-02-21T17:38:27.998Z"
   },
   {
    "duration": 332,
    "start_time": "2022-02-21T17:39:25.944Z"
   },
   {
    "duration": 3,
    "start_time": "2022-02-21T17:40:55.088Z"
   },
   {
    "duration": 4,
    "start_time": "2022-02-21T17:41:28.632Z"
   },
   {
    "duration": 1377,
    "start_time": "2022-02-21T20:25:51.341Z"
   },
   {
    "duration": 803,
    "start_time": "2022-02-21T20:25:52.720Z"
   },
   {
    "duration": 12,
    "start_time": "2022-02-21T20:25:53.526Z"
   },
   {
    "duration": 19,
    "start_time": "2022-02-21T20:25:53.540Z"
   },
   {
    "duration": 8,
    "start_time": "2022-02-21T20:25:53.561Z"
   },
   {
    "duration": 18,
    "start_time": "2022-02-21T20:25:53.571Z"
   },
   {
    "duration": 36,
    "start_time": "2022-02-21T20:25:53.591Z"
   },
   {
    "duration": 18,
    "start_time": "2022-02-21T20:25:53.631Z"
   },
   {
    "duration": 11,
    "start_time": "2022-02-21T20:25:53.652Z"
   },
   {
    "duration": 9,
    "start_time": "2022-02-21T20:25:53.665Z"
   },
   {
    "duration": 48,
    "start_time": "2022-02-21T20:25:53.676Z"
   },
   {
    "duration": 9,
    "start_time": "2022-02-21T20:25:53.726Z"
   },
   {
    "duration": 24,
    "start_time": "2022-02-21T20:25:53.737Z"
   },
   {
    "duration": 10,
    "start_time": "2022-02-21T20:25:53.763Z"
   },
   {
    "duration": 225,
    "start_time": "2022-02-21T20:25:53.776Z"
   },
   {
    "duration": 33,
    "start_time": "2022-02-21T20:25:54.003Z"
   },
   {
    "duration": 26,
    "start_time": "2022-02-21T20:25:54.038Z"
   },
   {
    "duration": 85,
    "start_time": "2022-02-21T20:25:54.066Z"
   },
   {
    "duration": 21,
    "start_time": "2022-02-21T20:25:54.153Z"
   },
   {
    "duration": 9,
    "start_time": "2022-02-21T20:25:54.176Z"
   },
   {
    "duration": 32,
    "start_time": "2022-02-21T20:25:54.186Z"
   },
   {
    "duration": 15,
    "start_time": "2022-02-21T20:25:54.220Z"
   },
   {
    "duration": 180,
    "start_time": "2022-02-21T20:25:54.239Z"
   },
   {
    "duration": 156,
    "start_time": "2022-02-21T20:25:54.422Z"
   },
   {
    "duration": 5,
    "start_time": "2022-02-21T20:25:54.580Z"
   },
   {
    "duration": 43,
    "start_time": "2022-02-21T20:25:54.587Z"
   },
   {
    "duration": 16,
    "start_time": "2022-02-21T20:25:54.633Z"
   },
   {
    "duration": 23,
    "start_time": "2022-02-21T20:25:54.651Z"
   },
   {
    "duration": 10,
    "start_time": "2022-02-21T20:25:54.676Z"
   },
   {
    "duration": 33,
    "start_time": "2022-02-21T20:25:54.688Z"
   },
   {
    "duration": 101,
    "start_time": "2022-02-21T20:25:54.723Z"
   },
   {
    "duration": 35,
    "start_time": "2022-02-21T20:25:54.826Z"
   },
   {
    "duration": 60,
    "start_time": "2022-02-21T20:25:54.863Z"
   },
   {
    "duration": 64,
    "start_time": "2022-02-21T20:25:54.926Z"
   },
   {
    "duration": 57,
    "start_time": "2022-02-21T20:25:54.991Z"
   },
   {
    "duration": 36,
    "start_time": "2022-02-21T20:25:55.050Z"
   },
   {
    "duration": 7,
    "start_time": "2022-02-21T20:25:55.089Z"
   },
   {
    "duration": 8,
    "start_time": "2022-02-21T20:25:55.119Z"
   },
   {
    "duration": 11,
    "start_time": "2022-02-21T20:25:55.129Z"
   },
   {
    "duration": 16,
    "start_time": "2022-02-21T20:25:55.143Z"
   },
   {
    "duration": 5,
    "start_time": "2022-02-21T20:25:55.161Z"
   },
   {
    "duration": 7,
    "start_time": "2022-02-21T20:25:55.168Z"
   },
   {
    "duration": 11,
    "start_time": "2022-02-21T20:25:55.177Z"
   },
   {
    "duration": 43,
    "start_time": "2022-02-21T20:25:55.191Z"
   },
   {
    "duration": 70,
    "start_time": "2022-02-21T20:25:55.237Z"
   },
   {
    "duration": 44,
    "start_time": "2022-02-21T20:25:55.309Z"
   },
   {
    "duration": 32,
    "start_time": "2022-02-21T20:25:55.355Z"
   },
   {
    "duration": 47,
    "start_time": "2022-02-21T20:25:55.390Z"
   },
   {
    "duration": 14,
    "start_time": "2022-02-21T20:25:55.439Z"
   },
   {
    "duration": 25,
    "start_time": "2022-02-21T20:25:55.455Z"
   },
   {
    "duration": 3,
    "start_time": "2022-02-21T20:25:55.482Z"
   },
   {
    "duration": 42,
    "start_time": "2022-02-21T20:25:55.487Z"
   },
   {
    "duration": 24,
    "start_time": "2022-02-21T20:25:55.531Z"
   },
   {
    "duration": 18,
    "start_time": "2022-02-21T20:25:55.558Z"
   },
   {
    "duration": 12,
    "start_time": "2022-02-21T20:25:55.578Z"
   },
   {
    "duration": 34,
    "start_time": "2022-02-21T20:25:55.592Z"
   },
   {
    "duration": 9,
    "start_time": "2022-02-21T20:25:55.628Z"
   },
   {
    "duration": 7,
    "start_time": "2022-02-21T20:25:55.639Z"
   },
   {
    "duration": 475,
    "start_time": "2022-02-21T20:25:55.648Z"
   },
   {
    "duration": -4628,
    "start_time": "2022-02-21T20:26:00.754Z"
   },
   {
    "duration": -4647,
    "start_time": "2022-02-21T20:26:00.774Z"
   },
   {
    "duration": -4662,
    "start_time": "2022-02-21T20:26:00.790Z"
   },
   {
    "duration": -4679,
    "start_time": "2022-02-21T20:26:00.808Z"
   },
   {
    "duration": -4694,
    "start_time": "2022-02-21T20:26:00.824Z"
   },
   {
    "duration": -4739,
    "start_time": "2022-02-21T20:26:00.871Z"
   },
   {
    "duration": -4755,
    "start_time": "2022-02-21T20:26:00.888Z"
   },
   {
    "duration": -4770,
    "start_time": "2022-02-21T20:26:00.905Z"
   },
   {
    "duration": -4783,
    "start_time": "2022-02-21T20:26:00.919Z"
   },
   {
    "duration": -4798,
    "start_time": "2022-02-21T20:26:00.935Z"
   },
   {
    "duration": -4810,
    "start_time": "2022-02-21T20:26:00.949Z"
   },
   {
    "duration": -4826,
    "start_time": "2022-02-21T20:26:00.966Z"
   },
   {
    "duration": -4868,
    "start_time": "2022-02-21T20:26:01.009Z"
   },
   {
    "duration": -4883,
    "start_time": "2022-02-21T20:26:01.025Z"
   },
   {
    "duration": -4898,
    "start_time": "2022-02-21T20:26:01.041Z"
   },
   {
    "duration": -4911,
    "start_time": "2022-02-21T20:26:01.056Z"
   },
   {
    "duration": -4924,
    "start_time": "2022-02-21T20:26:01.070Z"
   },
   {
    "duration": -4940,
    "start_time": "2022-02-21T20:26:01.087Z"
   },
   {
    "duration": -4952,
    "start_time": "2022-02-21T20:26:01.101Z"
   },
   {
    "duration": -4996,
    "start_time": "2022-02-21T20:26:01.146Z"
   },
   {
    "duration": -5012,
    "start_time": "2022-02-21T20:26:01.163Z"
   },
   {
    "duration": -5032,
    "start_time": "2022-02-21T20:26:01.183Z"
   },
   {
    "duration": -5048,
    "start_time": "2022-02-21T20:26:01.201Z"
   },
   {
    "duration": -5066,
    "start_time": "2022-02-21T20:26:01.220Z"
   },
   {
    "duration": 1200,
    "start_time": "2022-02-21T20:40:01.426Z"
   },
   {
    "duration": 446,
    "start_time": "2022-02-21T20:40:02.628Z"
   },
   {
    "duration": 12,
    "start_time": "2022-02-21T20:40:03.076Z"
   },
   {
    "duration": 22,
    "start_time": "2022-02-21T20:40:03.091Z"
   },
   {
    "duration": 7,
    "start_time": "2022-02-21T20:40:03.115Z"
   },
   {
    "duration": 19,
    "start_time": "2022-02-21T20:40:03.124Z"
   },
   {
    "duration": 9,
    "start_time": "2022-02-21T20:40:03.145Z"
   },
   {
    "duration": 11,
    "start_time": "2022-02-21T20:40:03.157Z"
   },
   {
    "duration": 9,
    "start_time": "2022-02-21T20:40:03.171Z"
   },
   {
    "duration": 14,
    "start_time": "2022-02-21T20:40:03.181Z"
   },
   {
    "duration": 10,
    "start_time": "2022-02-21T20:40:03.218Z"
   },
   {
    "duration": 11,
    "start_time": "2022-02-21T20:40:03.229Z"
   },
   {
    "duration": 24,
    "start_time": "2022-02-21T20:40:03.241Z"
   },
   {
    "duration": 9,
    "start_time": "2022-02-21T20:40:03.267Z"
   },
   {
    "duration": 254,
    "start_time": "2022-02-21T20:40:03.277Z"
   },
   {
    "duration": 25,
    "start_time": "2022-02-21T20:40:03.533Z"
   },
   {
    "duration": 24,
    "start_time": "2022-02-21T20:40:03.560Z"
   },
   {
    "duration": 94,
    "start_time": "2022-02-21T20:40:03.586Z"
   },
   {
    "duration": 21,
    "start_time": "2022-02-21T20:40:03.682Z"
   },
   {
    "duration": 19,
    "start_time": "2022-02-21T20:40:03.705Z"
   },
   {
    "duration": 26,
    "start_time": "2022-02-21T20:40:03.726Z"
   },
   {
    "duration": 22,
    "start_time": "2022-02-21T20:40:03.754Z"
   },
   {
    "duration": 180,
    "start_time": "2022-02-21T20:40:03.781Z"
   },
   {
    "duration": 161,
    "start_time": "2022-02-21T20:40:03.964Z"
   },
   {
    "duration": 6,
    "start_time": "2022-02-21T20:40:04.127Z"
   },
   {
    "duration": 40,
    "start_time": "2022-02-21T20:40:04.135Z"
   },
   {
    "duration": 16,
    "start_time": "2022-02-21T20:40:04.178Z"
   },
   {
    "duration": 38,
    "start_time": "2022-02-21T20:40:04.196Z"
   },
   {
    "duration": 11,
    "start_time": "2022-02-21T20:40:04.236Z"
   },
   {
    "duration": 19,
    "start_time": "2022-02-21T20:40:04.249Z"
   },
   {
    "duration": 99,
    "start_time": "2022-02-21T20:40:04.270Z"
   },
   {
    "duration": 47,
    "start_time": "2022-02-21T20:40:04.371Z"
   },
   {
    "duration": 36,
    "start_time": "2022-02-21T20:40:04.421Z"
   },
   {
    "duration": 84,
    "start_time": "2022-02-21T20:40:04.459Z"
   },
   {
    "duration": 37,
    "start_time": "2022-02-21T20:40:04.545Z"
   },
   {
    "duration": 48,
    "start_time": "2022-02-21T20:40:04.584Z"
   },
   {
    "duration": 8,
    "start_time": "2022-02-21T20:40:04.634Z"
   },
   {
    "duration": 8,
    "start_time": "2022-02-21T20:40:04.644Z"
   },
   {
    "duration": 17,
    "start_time": "2022-02-21T20:40:04.654Z"
   },
   {
    "duration": 27,
    "start_time": "2022-02-21T20:40:04.673Z"
   },
   {
    "duration": 6,
    "start_time": "2022-02-21T20:40:04.703Z"
   },
   {
    "duration": 18,
    "start_time": "2022-02-21T20:40:04.710Z"
   },
   {
    "duration": 16,
    "start_time": "2022-02-21T20:40:04.730Z"
   },
   {
    "duration": 31,
    "start_time": "2022-02-21T20:40:04.748Z"
   },
   {
    "duration": 71,
    "start_time": "2022-02-21T20:40:04.782Z"
   },
   {
    "duration": 36,
    "start_time": "2022-02-21T20:40:04.855Z"
   },
   {
    "duration": 38,
    "start_time": "2022-02-21T20:40:04.893Z"
   },
   {
    "duration": 17,
    "start_time": "2022-02-21T20:40:04.934Z"
   },
   {
    "duration": 16,
    "start_time": "2022-02-21T20:40:04.953Z"
   },
   {
    "duration": 51,
    "start_time": "2022-02-21T20:40:04.971Z"
   },
   {
    "duration": 4,
    "start_time": "2022-02-21T20:40:05.023Z"
   },
   {
    "duration": 19,
    "start_time": "2022-02-21T20:40:05.029Z"
   },
   {
    "duration": 16,
    "start_time": "2022-02-21T20:40:05.050Z"
   },
   {
    "duration": 16,
    "start_time": "2022-02-21T20:40:05.068Z"
   },
   {
    "duration": 9,
    "start_time": "2022-02-21T20:40:05.086Z"
   },
   {
    "duration": 17,
    "start_time": "2022-02-21T20:40:05.119Z"
   },
   {
    "duration": 13,
    "start_time": "2022-02-21T20:40:05.138Z"
   },
   {
    "duration": 10,
    "start_time": "2022-02-21T20:40:05.153Z"
   },
   {
    "duration": 360,
    "start_time": "2022-02-21T20:40:05.164Z"
   },
   {
    "duration": -6075,
    "start_time": "2022-02-21T20:40:11.601Z"
   },
   {
    "duration": -6090,
    "start_time": "2022-02-21T20:40:11.617Z"
   },
   {
    "duration": -6103,
    "start_time": "2022-02-21T20:40:11.631Z"
   },
   {
    "duration": -6118,
    "start_time": "2022-02-21T20:40:11.647Z"
   },
   {
    "duration": -6180,
    "start_time": "2022-02-21T20:40:11.711Z"
   },
   {
    "duration": -6198,
    "start_time": "2022-02-21T20:40:11.730Z"
   },
   {
    "duration": -6211,
    "start_time": "2022-02-21T20:40:11.744Z"
   },
   {
    "duration": -6227,
    "start_time": "2022-02-21T20:40:11.761Z"
   },
   {
    "duration": -6241,
    "start_time": "2022-02-21T20:40:11.776Z"
   },
   {
    "duration": -6262,
    "start_time": "2022-02-21T20:40:11.797Z"
   },
   {
    "duration": -6297,
    "start_time": "2022-02-21T20:40:11.833Z"
   },
   {
    "duration": -6313,
    "start_time": "2022-02-21T20:40:11.850Z"
   },
   {
    "duration": -6326,
    "start_time": "2022-02-21T20:40:11.865Z"
   },
   {
    "duration": -6342,
    "start_time": "2022-02-21T20:40:11.882Z"
   },
   {
    "duration": -6356,
    "start_time": "2022-02-21T20:40:11.897Z"
   },
   {
    "duration": -6371,
    "start_time": "2022-02-21T20:40:11.913Z"
   },
   {
    "duration": -6385,
    "start_time": "2022-02-21T20:40:11.928Z"
   },
   {
    "duration": -6420,
    "start_time": "2022-02-21T20:40:11.965Z"
   },
   {
    "duration": -6434,
    "start_time": "2022-02-21T20:40:11.980Z"
   },
   {
    "duration": -6448,
    "start_time": "2022-02-21T20:40:11.996Z"
   },
   {
    "duration": -6461,
    "start_time": "2022-02-21T20:40:12.010Z"
   },
   {
    "duration": -6477,
    "start_time": "2022-02-21T20:40:12.027Z"
   },
   {
    "duration": -6489,
    "start_time": "2022-02-21T20:40:12.041Z"
   },
   {
    "duration": -6503,
    "start_time": "2022-02-21T20:40:12.056Z"
   },
   {
    "duration": 14,
    "start_time": "2022-02-21T20:41:08.434Z"
   },
   {
    "duration": 6,
    "start_time": "2022-02-21T20:41:19.357Z"
   },
   {
    "duration": 529,
    "start_time": "2022-02-21T20:43:08.146Z"
   },
   {
    "duration": 7,
    "start_time": "2022-02-21T20:44:29.231Z"
   },
   {
    "duration": 528,
    "start_time": "2022-02-21T20:44:30.507Z"
   },
   {
    "duration": 7,
    "start_time": "2022-02-21T20:44:53.867Z"
   },
   {
    "duration": 532,
    "start_time": "2022-02-21T20:45:05.220Z"
   },
   {
    "duration": 1690,
    "start_time": "2022-02-22T12:06:33.221Z"
   },
   {
    "duration": 866,
    "start_time": "2022-02-22T12:06:34.915Z"
   },
   {
    "duration": 17,
    "start_time": "2022-02-22T12:06:35.784Z"
   },
   {
    "duration": 23,
    "start_time": "2022-02-22T12:06:35.803Z"
   },
   {
    "duration": 15,
    "start_time": "2022-02-22T12:06:35.828Z"
   },
   {
    "duration": 37,
    "start_time": "2022-02-22T12:06:35.846Z"
   },
   {
    "duration": 12,
    "start_time": "2022-02-22T12:06:35.887Z"
   },
   {
    "duration": 36,
    "start_time": "2022-02-22T12:06:35.902Z"
   },
   {
    "duration": 13,
    "start_time": "2022-02-22T12:06:35.945Z"
   },
   {
    "duration": 13,
    "start_time": "2022-02-22T12:06:35.962Z"
   },
   {
    "duration": 19,
    "start_time": "2022-02-22T12:06:35.977Z"
   },
   {
    "duration": 11,
    "start_time": "2022-02-22T12:06:36.027Z"
   },
   {
    "duration": 39,
    "start_time": "2022-02-22T12:06:36.040Z"
   },
   {
    "duration": 12,
    "start_time": "2022-02-22T12:06:36.081Z"
   },
   {
    "duration": 264,
    "start_time": "2022-02-22T12:06:36.096Z"
   },
   {
    "duration": 31,
    "start_time": "2022-02-22T12:06:36.362Z"
   },
   {
    "duration": 47,
    "start_time": "2022-02-22T12:06:36.396Z"
   },
   {
    "duration": 121,
    "start_time": "2022-02-22T12:06:36.446Z"
   },
   {
    "duration": 26,
    "start_time": "2022-02-22T12:06:36.570Z"
   },
   {
    "duration": 27,
    "start_time": "2022-02-22T12:06:36.599Z"
   },
   {
    "duration": 15,
    "start_time": "2022-02-22T12:06:36.628Z"
   },
   {
    "duration": 18,
    "start_time": "2022-02-22T12:06:36.645Z"
   },
   {
    "duration": 254,
    "start_time": "2022-02-22T12:06:36.665Z"
   },
   {
    "duration": 249,
    "start_time": "2022-02-22T12:06:36.922Z"
   },
   {
    "duration": 9,
    "start_time": "2022-02-22T12:06:37.173Z"
   },
   {
    "duration": 52,
    "start_time": "2022-02-22T12:06:37.184Z"
   },
   {
    "duration": 24,
    "start_time": "2022-02-22T12:06:37.243Z"
   },
   {
    "duration": 55,
    "start_time": "2022-02-22T12:06:37.272Z"
   },
   {
    "duration": 14,
    "start_time": "2022-02-22T12:06:37.330Z"
   },
   {
    "duration": 5,
    "start_time": "2022-02-22T12:06:37.346Z"
   },
   {
    "duration": 160,
    "start_time": "2022-02-22T12:06:37.353Z"
   },
   {
    "duration": 58,
    "start_time": "2022-02-22T12:06:37.515Z"
   },
   {
    "duration": 73,
    "start_time": "2022-02-22T12:06:37.575Z"
   },
   {
    "duration": 102,
    "start_time": "2022-02-22T12:06:37.650Z"
   },
   {
    "duration": 54,
    "start_time": "2022-02-22T12:06:37.755Z"
   },
   {
    "duration": 37,
    "start_time": "2022-02-22T12:06:37.827Z"
   },
   {
    "duration": 9,
    "start_time": "2022-02-22T12:06:37.867Z"
   },
   {
    "duration": 29,
    "start_time": "2022-02-22T12:06:37.878Z"
   },
   {
    "duration": 3,
    "start_time": "2022-02-22T12:06:37.927Z"
   },
   {
    "duration": 39,
    "start_time": "2022-02-22T12:06:37.933Z"
   },
   {
    "duration": 10,
    "start_time": "2022-02-22T12:06:37.976Z"
   },
   {
    "duration": 45,
    "start_time": "2022-02-22T12:06:37.988Z"
   },
   {
    "duration": 24,
    "start_time": "2022-02-22T12:06:38.036Z"
   },
   {
    "duration": 42,
    "start_time": "2022-02-22T12:06:38.063Z"
   },
   {
    "duration": 94,
    "start_time": "2022-02-22T12:06:38.108Z"
   },
   {
    "duration": 62,
    "start_time": "2022-02-22T12:06:38.205Z"
   },
   {
    "duration": 62,
    "start_time": "2022-02-22T12:06:38.269Z"
   },
   {
    "duration": 23,
    "start_time": "2022-02-22T12:06:38.334Z"
   },
   {
    "duration": 15,
    "start_time": "2022-02-22T12:06:38.359Z"
   },
   {
    "duration": 67,
    "start_time": "2022-02-22T12:06:38.376Z"
   },
   {
    "duration": 5,
    "start_time": "2022-02-22T12:06:38.445Z"
   },
   {
    "duration": 35,
    "start_time": "2022-02-22T12:06:38.453Z"
   },
   {
    "duration": 34,
    "start_time": "2022-02-22T12:06:38.491Z"
   },
   {
    "duration": 25,
    "start_time": "2022-02-22T12:06:38.528Z"
   },
   {
    "duration": 45,
    "start_time": "2022-02-22T12:06:38.556Z"
   },
   {
    "duration": 20,
    "start_time": "2022-02-22T12:06:38.604Z"
   },
   {
    "duration": 32,
    "start_time": "2022-02-22T12:06:38.627Z"
   },
   {
    "duration": 405,
    "start_time": "2022-02-22T12:06:38.662Z"
   },
   {
    "duration": 1722,
    "start_time": "2022-02-22T12:06:37.348Z"
   },
   {
    "duration": 1716,
    "start_time": "2022-02-22T12:06:37.356Z"
   },
   {
    "duration": 1700,
    "start_time": "2022-02-22T12:06:37.373Z"
   },
   {
    "duration": 1696,
    "start_time": "2022-02-22T12:06:37.379Z"
   },
   {
    "duration": 1685,
    "start_time": "2022-02-22T12:06:37.391Z"
   },
   {
    "duration": 1683,
    "start_time": "2022-02-22T12:06:37.395Z"
   },
   {
    "duration": 1680,
    "start_time": "2022-02-22T12:06:37.399Z"
   },
   {
    "duration": 1676,
    "start_time": "2022-02-22T12:06:37.405Z"
   },
   {
    "duration": 1673,
    "start_time": "2022-02-22T12:06:37.409Z"
   },
   {
    "duration": 1669,
    "start_time": "2022-02-22T12:06:37.414Z"
   },
   {
    "duration": 1666,
    "start_time": "2022-02-22T12:06:37.419Z"
   },
   {
    "duration": 1661,
    "start_time": "2022-02-22T12:06:37.425Z"
   },
   {
    "duration": 1659,
    "start_time": "2022-02-22T12:06:37.429Z"
   },
   {
    "duration": 1655,
    "start_time": "2022-02-22T12:06:37.434Z"
   },
   {
    "duration": 1653,
    "start_time": "2022-02-22T12:06:37.438Z"
   },
   {
    "duration": 1648,
    "start_time": "2022-02-22T12:06:37.444Z"
   },
   {
    "duration": 1644,
    "start_time": "2022-02-22T12:06:37.450Z"
   },
   {
    "duration": 1635,
    "start_time": "2022-02-22T12:06:37.460Z"
   },
   {
    "duration": 1632,
    "start_time": "2022-02-22T12:06:37.465Z"
   },
   {
    "duration": 1629,
    "start_time": "2022-02-22T12:06:37.469Z"
   },
   {
    "duration": 1627,
    "start_time": "2022-02-22T12:06:37.473Z"
   },
   {
    "duration": 1624,
    "start_time": "2022-02-22T12:06:37.477Z"
   },
   {
    "duration": 1622,
    "start_time": "2022-02-22T12:06:37.481Z"
   },
   {
    "duration": 1620,
    "start_time": "2022-02-22T12:06:37.485Z"
   },
   {
    "duration": 6,
    "start_time": "2022-02-22T12:06:57.752Z"
   },
   {
    "duration": 9,
    "start_time": "2022-02-22T12:06:57.765Z"
   },
   {
    "duration": 11,
    "start_time": "2022-02-22T12:06:57.776Z"
   },
   {
    "duration": 12,
    "start_time": "2022-02-22T12:06:57.790Z"
   },
   {
    "duration": 257,
    "start_time": "2022-02-22T12:06:57.805Z"
   },
   {
    "duration": 1709,
    "start_time": "2022-02-22T12:06:56.356Z"
   },
   {
    "duration": 1697,
    "start_time": "2022-02-22T12:06:56.369Z"
   },
   {
    "duration": 1695,
    "start_time": "2022-02-22T12:06:56.373Z"
   },
   {
    "duration": 1690,
    "start_time": "2022-02-22T12:06:56.379Z"
   },
   {
    "duration": 1687,
    "start_time": "2022-02-22T12:06:56.383Z"
   },
   {
    "duration": 1684,
    "start_time": "2022-02-22T12:06:56.388Z"
   },
   {
    "duration": 1679,
    "start_time": "2022-02-22T12:06:56.394Z"
   },
   {
    "duration": 1675,
    "start_time": "2022-02-22T12:06:56.399Z"
   },
   {
    "duration": 1675,
    "start_time": "2022-02-22T12:06:56.403Z"
   },
   {
    "duration": 1671,
    "start_time": "2022-02-22T12:06:56.409Z"
   },
   {
    "duration": 1662,
    "start_time": "2022-02-22T12:06:56.420Z"
   },
   {
    "duration": 1658,
    "start_time": "2022-02-22T12:06:56.426Z"
   },
   {
    "duration": 1656,
    "start_time": "2022-02-22T12:06:56.430Z"
   },
   {
    "duration": 1653,
    "start_time": "2022-02-22T12:06:56.434Z"
   },
   {
    "duration": 1651,
    "start_time": "2022-02-22T12:06:56.438Z"
   },
   {
    "duration": 1647,
    "start_time": "2022-02-22T12:06:56.443Z"
   },
   {
    "duration": 1646,
    "start_time": "2022-02-22T12:06:56.446Z"
   },
   {
    "duration": 1644,
    "start_time": "2022-02-22T12:06:56.450Z"
   },
   {
    "duration": 1640,
    "start_time": "2022-02-22T12:06:56.455Z"
   },
   {
    "duration": 19691,
    "start_time": "2022-02-22T12:07:28.451Z"
   },
   {
    "duration": 10,
    "start_time": "2022-02-22T12:07:48.145Z"
   },
   {
    "duration": 11,
    "start_time": "2022-02-22T12:07:48.158Z"
   },
   {
    "duration": 433,
    "start_time": "2022-02-22T12:07:48.172Z"
   },
   {
    "duration": 344,
    "start_time": "2022-02-22T12:07:48.608Z"
   },
   {
    "duration": 349,
    "start_time": "2022-02-22T12:07:48.955Z"
   },
   {
    "duration": 350,
    "start_time": "2022-02-22T12:07:49.308Z"
   },
   {
    "duration": 370,
    "start_time": "2022-02-22T12:07:49.662Z"
   },
   {
    "duration": 414,
    "start_time": "2022-02-22T12:07:50.035Z"
   },
   {
    "duration": 74,
    "start_time": "2022-02-22T12:07:50.453Z"
   },
   {
    "duration": 58,
    "start_time": "2022-02-22T12:07:50.531Z"
   },
   {
    "duration": 403,
    "start_time": "2022-02-22T12:07:50.592Z"
   },
   {
    "duration": 373,
    "start_time": "2022-02-22T12:07:50.998Z"
   },
   {
    "duration": 390,
    "start_time": "2022-02-22T12:07:51.374Z"
   },
   {
    "duration": 8,
    "start_time": "2022-02-22T12:07:51.766Z"
   },
   {
    "duration": 8,
    "start_time": "2022-02-22T12:07:51.777Z"
   },
   {
    "duration": 44,
    "start_time": "2022-02-22T12:07:51.788Z"
   },
   {
    "duration": 9,
    "start_time": "2022-02-22T12:07:51.835Z"
   },
   {
    "duration": 9,
    "start_time": "2022-02-22T12:07:51.847Z"
   },
   {
    "duration": 10,
    "start_time": "2022-02-22T12:07:51.859Z"
   }
  ],
  "celltoolbar": "Raw Cell Format",
  "kernelspec": {
   "display_name": "Python 3 (ipykernel)",
   "language": "python",
   "name": "python3"
  },
  "language_info": {
   "codemirror_mode": {
    "name": "ipython",
    "version": 3
   },
   "file_extension": ".py",
   "mimetype": "text/x-python",
   "name": "python",
   "nbconvert_exporter": "python",
   "pygments_lexer": "ipython3",
   "version": "3.9.7"
  },
  "toc": {
   "base_numbering": 1,
   "nav_menu": {
    "height": "492.992px",
    "width": "345.009px"
   },
   "number_sections": true,
   "sideBar": true,
   "skip_h1_title": true,
   "title_cell": "Table of Contents",
   "title_sidebar": "Contents",
   "toc_cell": false,
   "toc_position": {},
   "toc_section_display": true,
   "toc_window_display": false
  }
 },
 "nbformat": 4,
 "nbformat_minor": 5
}
